{
  "nbformat": 4,
  "nbformat_minor": 0,
  "metadata": {
    "colab": {
      "name": "day6_AUAI_CNN_MNIST.ipynb",
      "version": "0.3.2",
      "views": {},
      "default_view": {},
      "provenance": []
    },
    "kernelspec": {
      "display_name": "Python 3",
      "language": "python",
      "name": "python3"
    },
    "accelerator": "GPU"
  },
  "cells": [
    {
      "metadata": {
        "id": "Ln4-CI_vgvn5",
        "colab_type": "text"
      },
      "cell_type": "markdown",
      "source": [
        "# AUAI TensorFlow Tutorial \n",
        "Convolutional Neural Network-MNIST data-set\n"
      ]
    },
    {
      "metadata": {
        "id": "22P0maRIlTrG",
        "colab_type": "text"
      },
      "cell_type": "markdown",
      "source": [
        "##How to use Google Drive for Colab\n"
      ]
    },
    {
      "metadata": {
        "id": "u9fUhfkBlR5H",
        "colab_type": "code",
        "colab": {
          "autoexec": {
            "startup": false,
            "wait_interval": 0
          },
          "base_uri": "https://localhost:8080/",
          "height": 105
        },
        "outputId": "cec1e4db-ea99-45b8-941b-129edfe53ac1",
        "executionInfo": {
          "status": "ok",
          "timestamp": 1531188319793,
          "user_tz": -480,
          "elapsed": 14880,
          "user": {
            "displayName": "Kass PK",
            "photoUrl": "//lh3.googleusercontent.com/-dkFAdLj8zZc/AAAAAAAAAAI/AAAAAAAABkw/SjBtm6dmm5k/s50-c-k-no/photo.jpg",
            "userId": "117332463888572636111"
          }
        }
      },
      "cell_type": "code",
      "source": [
        "!apt-get install -y -qq software-properties-common python-software-properties module-init-tools\n",
        "!add-apt-repository -y ppa:alessandro-strada/ppa 2>&1 > /dev/null\n",
        "!apt-get update -qq 2>&1 > /dev/null\n",
        "!apt-get -y install -qq google-drive-ocamlfuse fuse\n",
        "from google.colab import auth\n",
        "auth.authenticate_user()\n",
        "from oauth2client.client import GoogleCredentials\n",
        "creds = GoogleCredentials.get_application_default()\n",
        "import getpass\n",
        "!google-drive-ocamlfuse -headless -id={creds.client_id} -secret={creds.client_secret} < /dev/null 2>&1 | grep URL\n",
        "vcode = getpass.getpass()\n",
        "!echo {vcode} | google-drive-ocamlfuse -headless -id={creds.client_id} -secret={creds.client_secret}"
      ],
      "execution_count": 1,
      "outputs": [
        {
          "output_type": "stream",
          "text": [
            "Please, open the following URL in a web browser: https://accounts.google.com/o/oauth2/auth?client_id=32555940559.apps.googleusercontent.com&redirect_uri=urn%3Aietf%3Awg%3Aoauth%3A2.0%3Aoob&scope=https%3A%2F%2Fwww.googleapis.com%2Fauth%2Fdrive&response_type=code&access_type=offline&approval_prompt=force\r\n",
            "··········\n",
            "Please, open the following URL in a web browser: https://accounts.google.com/o/oauth2/auth?client_id=32555940559.apps.googleusercontent.com&redirect_uri=urn%3Aietf%3Awg%3Aoauth%3A2.0%3Aoob&scope=https%3A%2F%2Fwww.googleapis.com%2Fauth%2Fdrive&response_type=code&access_type=offline&approval_prompt=force\n",
            "Please enter the verification code: Access token retrieved correctly.\n"
          ],
          "name": "stdout"
        }
      ]
    },
    {
      "metadata": {
        "id": "jG07CUc2gvn-",
        "colab_type": "text"
      },
      "cell_type": "markdown",
      "source": [
        "## Imports"
      ]
    },
    {
      "metadata": {
        "id": "CgfBgr3Mgvn_",
        "colab_type": "code",
        "colab": {
          "autoexec": {
            "startup": false,
            "wait_interval": 0
          },
          "base_uri": "https://localhost:8080/",
          "height": 37
        },
        "outputId": "a4772b67-af36-4386-a877-a81e0915d594",
        "executionInfo": {
          "status": "ok",
          "timestamp": 1531191578822,
          "user_tz": -480,
          "elapsed": 2356,
          "user": {
            "displayName": "Kass PK",
            "photoUrl": "//lh3.googleusercontent.com/-dkFAdLj8zZc/AAAAAAAAAAI/AAAAAAAABkw/SjBtm6dmm5k/s50-c-k-no/photo.jpg",
            "userId": "117332463888572636111"
          }
        }
      },
      "cell_type": "code",
      "source": [
        "%matplotlib inline\n",
        "import matplotlib.pyplot as plt\n",
        "import tensorflow as tf\n",
        "import numpy as np\n",
        "from sklearn.metrics import confusion_matrix\n",
        "import time\n",
        "from datetime import timedelta\n",
        "import math"
      ],
      "execution_count": 25,
      "outputs": []
    },
    {
      "metadata": {
        "id": "OtEY7taJgvoD",
        "colab_type": "text"
      },
      "cell_type": "markdown",
      "source": [
        "This was developed using Python 3.6.1 (Anaconda) and TensorFlow version:"
      ]
    },
    {
      "metadata": {
        "id": "wB6d3b4IgvoF",
        "colab_type": "code",
        "colab": {
          "autoexec": {
            "startup": false,
            "wait_interval": 0
          },
          "base_uri": "https://localhost:8080/",
          "height": 34
        },
        "outputId": "236847bb-f1b7-4afc-d04b-17b708e28af3",
        "executionInfo": {
          "status": "ok",
          "timestamp": 1531191581617,
          "user_tz": -480,
          "elapsed": 1100,
          "user": {
            "displayName": "Kass PK",
            "photoUrl": "//lh3.googleusercontent.com/-dkFAdLj8zZc/AAAAAAAAAAI/AAAAAAAABkw/SjBtm6dmm5k/s50-c-k-no/photo.jpg",
            "userId": "117332463888572636111"
          }
        }
      },
      "cell_type": "code",
      "source": [
        "tf.__version__"
      ],
      "execution_count": 26,
      "outputs": [
        {
          "output_type": "execute_result",
          "data": {
            "text/plain": [
              "'1.9.0-rc2'"
            ]
          },
          "metadata": {
            "tags": []
          },
          "execution_count": 26
        }
      ]
    },
    {
      "metadata": {
        "id": "x-tsv9gpgvoH",
        "colab_type": "text"
      },
      "cell_type": "markdown",
      "source": [
        "## Configuration of Neural Network\n",
        "\n",
        "The configuration of the Convolutional Neural Network is defined here for convenience, so you can easily find and change these numbers and re-run the Notebook."
      ]
    },
    {
      "metadata": {
        "id": "YWUX5ab5gvoH",
        "colab_type": "code",
        "colab": {
          "autoexec": {
            "startup": false,
            "wait_interval": 0
          },
          "base_uri": "https://localhost:8080/",
          "height": 37
        },
        "outputId": "dc1fa467-9376-4769-e62d-1ddf25f060d9",
        "executionInfo": {
          "status": "ok",
          "timestamp": 1531191585108,
          "user_tz": -480,
          "elapsed": 1508,
          "user": {
            "displayName": "Kass PK",
            "photoUrl": "//lh3.googleusercontent.com/-dkFAdLj8zZc/AAAAAAAAAAI/AAAAAAAABkw/SjBtm6dmm5k/s50-c-k-no/photo.jpg",
            "userId": "117332463888572636111"
          }
        }
      },
      "cell_type": "code",
      "source": [
        "# Convolutional Layer 1.\n",
        "filter_size1 = 5          # Convolution filters are 5 x 5 pixels.\n",
        "num_filters1 = 16         # There are 16 of these filters.\n",
        "\n",
        "# Convolutional Layer 2.\n",
        "filter_size2 = 5          # Convolution filters are 5 x 5 pixels.\n",
        "num_filters2 = 36         # There are 36 of these filters.\n",
        "\n",
        "# Fully-connected layer.\n",
        "fc_size = 128             # Number of neurons in fully-connected layer."
      ],
      "execution_count": 27,
      "outputs": []
    },
    {
      "metadata": {
        "id": "0-qMukE9gvoK",
        "colab_type": "text"
      },
      "cell_type": "markdown",
      "source": [
        "## Load Data"
      ]
    },
    {
      "metadata": {
        "id": "fflqaPyzgvoK",
        "colab_type": "text"
      },
      "cell_type": "markdown",
      "source": [
        "The MNIST data-set is about 12 MB and will be downloaded automatically if it is not located in the given path."
      ]
    },
    {
      "metadata": {
        "id": "Y9hPFqBPgvoL",
        "colab_type": "code",
        "colab": {
          "autoexec": {
            "startup": false,
            "wait_interval": 0
          },
          "base_uri": "https://localhost:8080/",
          "height": 85
        },
        "outputId": "3d8eca73-e89a-4856-e9df-2f391b825e38",
        "executionInfo": {
          "status": "ok",
          "timestamp": 1531191591876,
          "user_tz": -480,
          "elapsed": 1296,
          "user": {
            "displayName": "Kass PK",
            "photoUrl": "//lh3.googleusercontent.com/-dkFAdLj8zZc/AAAAAAAAAAI/AAAAAAAABkw/SjBtm6dmm5k/s50-c-k-no/photo.jpg",
            "userId": "117332463888572636111"
          }
        }
      },
      "cell_type": "code",
      "source": [
        "from tensorflow.examples.tutorials.mnist import input_data\n",
        "data = input_data.read_data_sets('data/MNIST/', one_hot=True)\n"
      ],
      "execution_count": 28,
      "outputs": [
        {
          "output_type": "stream",
          "text": [
            "Extracting data/MNIST/train-images-idx3-ubyte.gz\n",
            "Extracting data/MNIST/train-labels-idx1-ubyte.gz\n",
            "Extracting data/MNIST/t10k-images-idx3-ubyte.gz\n",
            "Extracting data/MNIST/t10k-labels-idx1-ubyte.gz\n"
          ],
          "name": "stdout"
        }
      ]
    },
    {
      "metadata": {
        "id": "_p-aIwVSgvoO",
        "colab_type": "text"
      },
      "cell_type": "markdown",
      "source": [
        "The MNIST data-set has now been loaded and consists of 70,000 images and associated labels (i.e. classifications of the images). The data-set is split into 3 mutually exclusive sub-sets. We will only use the training and test-sets in this tutorial."
      ]
    },
    {
      "metadata": {
        "id": "pFW2g1qdgvoP",
        "colab_type": "code",
        "colab": {
          "autoexec": {
            "startup": false,
            "wait_interval": 0
          },
          "base_uri": "https://localhost:8080/",
          "height": 85
        },
        "outputId": "51e69710-8b6f-4422-b3b6-9b4fc58ee1c2",
        "executionInfo": {
          "status": "ok",
          "timestamp": 1531191598934,
          "user_tz": -480,
          "elapsed": 1668,
          "user": {
            "displayName": "Kass PK",
            "photoUrl": "//lh3.googleusercontent.com/-dkFAdLj8zZc/AAAAAAAAAAI/AAAAAAAABkw/SjBtm6dmm5k/s50-c-k-no/photo.jpg",
            "userId": "117332463888572636111"
          }
        }
      },
      "cell_type": "code",
      "source": [
        "print(\"Size of:\")\n",
        "print(\"- Training-set:\\t\\t{}\".format(len(data.train.labels)))\n",
        "print(\"- Test-set:\\t\\t{}\".format(len(data.test.labels)))\n",
        "print(\"- Validation-set:\\t{}\".format(len(data.validation.labels)))"
      ],
      "execution_count": 29,
      "outputs": [
        {
          "output_type": "stream",
          "text": [
            "Size of:\n",
            "- Training-set:\t\t55000\n",
            "- Test-set:\t\t10000\n",
            "- Validation-set:\t5000\n"
          ],
          "name": "stdout"
        }
      ]
    },
    {
      "metadata": {
        "id": "sRZXA3jAgvoR",
        "colab_type": "text"
      },
      "cell_type": "markdown",
      "source": [
        "The class-labels are One-Hot encoded, which means that each label is a vector with 10 elements, all of which are zero except for one element. The index of this one element is the class-number, that is, the digit shown in the associated image. We also need the class-numbers as integers for the test-set, so we calculate it now."
      ]
    },
    {
      "metadata": {
        "id": "Dt8hpGaBgvoS",
        "colab_type": "code",
        "colab": {
          "autoexec": {
            "startup": false,
            "wait_interval": 0
          },
          "base_uri": "https://localhost:8080/",
          "height": 37
        },
        "outputId": "60779e1b-8714-49ba-c33c-2600b82f0b84",
        "executionInfo": {
          "status": "ok",
          "timestamp": 1531191602313,
          "user_tz": -480,
          "elapsed": 953,
          "user": {
            "displayName": "Kass PK",
            "photoUrl": "//lh3.googleusercontent.com/-dkFAdLj8zZc/AAAAAAAAAAI/AAAAAAAABkw/SjBtm6dmm5k/s50-c-k-no/photo.jpg",
            "userId": "117332463888572636111"
          }
        }
      },
      "cell_type": "code",
      "source": [
        "data.test.cls = np.argmax(data.test.labels, axis=1)"
      ],
      "execution_count": 30,
      "outputs": []
    },
    {
      "metadata": {
        "id": "c1vYyCb1gvoX",
        "colab_type": "text"
      },
      "cell_type": "markdown",
      "source": [
        "## Data Dimensions"
      ]
    },
    {
      "metadata": {
        "id": "2bq4_uS0gvoY",
        "colab_type": "text"
      },
      "cell_type": "markdown",
      "source": [
        "The data dimensions are used in several places in the source-code below. They are defined once so we can use these variables instead of numbers throughout the source-code below."
      ]
    },
    {
      "metadata": {
        "id": "ft1NnTWHgvoZ",
        "colab_type": "code",
        "colab": {
          "autoexec": {
            "startup": false,
            "wait_interval": 0
          },
          "base_uri": "https://localhost:8080/",
          "height": 37
        },
        "outputId": "5632ca2d-61e1-4cd2-dc27-f9cb0ff16a65",
        "executionInfo": {
          "status": "ok",
          "timestamp": 1531191606928,
          "user_tz": -480,
          "elapsed": 2223,
          "user": {
            "displayName": "Kass PK",
            "photoUrl": "//lh3.googleusercontent.com/-dkFAdLj8zZc/AAAAAAAAAAI/AAAAAAAABkw/SjBtm6dmm5k/s50-c-k-no/photo.jpg",
            "userId": "117332463888572636111"
          }
        }
      },
      "cell_type": "code",
      "source": [
        "# We know that MNIST images are 28 pixels in each dimension.\n",
        "img_size = 28\n",
        "\n",
        "# Images are stored in one-dimensional arrays of this length.\n",
        "img_size_flat = img_size * img_size\n",
        "\n",
        "# Tuple with height and width of images used to reshape arrays.\n",
        "img_shape = (img_size, img_size)\n",
        "\n",
        "# Number of colour channels for the images: 1 channel for gray-scale.\n",
        "num_channels = 1\n",
        "\n",
        "# Number of classes, one class for each of 10 digits.\n",
        "num_classes = 10"
      ],
      "execution_count": 31,
      "outputs": []
    },
    {
      "metadata": {
        "id": "W0ywWnsBgvoa",
        "colab_type": "text"
      },
      "cell_type": "markdown",
      "source": [
        "### Helper-function for plotting images"
      ]
    },
    {
      "metadata": {
        "id": "gVJ0kzJcgvob",
        "colab_type": "text"
      },
      "cell_type": "markdown",
      "source": [
        "Function used to plot 9 images in a 3x3 grid, and writing the true and predicted classes below each image."
      ]
    },
    {
      "metadata": {
        "id": "EzSrRvi4gvoc",
        "colab_type": "code",
        "colab": {
          "autoexec": {
            "startup": false,
            "wait_interval": 0
          },
          "base_uri": "https://localhost:8080/",
          "height": 37
        },
        "outputId": "84a9c689-c3e2-44cf-c1da-fd0f0f5fa414",
        "executionInfo": {
          "status": "ok",
          "timestamp": 1531191609760,
          "user_tz": -480,
          "elapsed": 1019,
          "user": {
            "displayName": "Kass PK",
            "photoUrl": "//lh3.googleusercontent.com/-dkFAdLj8zZc/AAAAAAAAAAI/AAAAAAAABkw/SjBtm6dmm5k/s50-c-k-no/photo.jpg",
            "userId": "117332463888572636111"
          }
        }
      },
      "cell_type": "code",
      "source": [
        "def plot_images(images, cls_true, cls_pred=None):\n",
        "    assert len(images) == len(cls_true) == 9\n",
        "    \n",
        "    # Create figure with 3x3 sub-plots.\n",
        "    fig, axes = plt.subplots(3, 3)\n",
        "    fig.subplots_adjust(hspace=0.3, wspace=0.3)\n",
        "\n",
        "    for i, ax in enumerate(axes.flat):\n",
        "        # Plot image.\n",
        "        ax.imshow(images[i].reshape(img_shape), cmap='binary')\n",
        "\n",
        "        # Show true and predicted classes.\n",
        "        if cls_pred is None:\n",
        "            xlabel = \"True: {0}\".format(cls_true[i])\n",
        "        else:\n",
        "            xlabel = \"True: {0}, Pred: {1}\".format(cls_true[i], cls_pred[i])\n",
        "\n",
        "        # Show the classes as the label on the x-axis.\n",
        "        ax.set_xlabel(xlabel)\n",
        "        \n",
        "        # Remove ticks from the plot.\n",
        "        ax.set_xticks([])\n",
        "        ax.set_yticks([])\n",
        "    \n",
        "    # Ensure the plot is shown correctly with multiple plots\n",
        "    # in a single Notebook cell.\n",
        "    plt.show()"
      ],
      "execution_count": 32,
      "outputs": []
    },
    {
      "metadata": {
        "id": "go8CiITPgvof",
        "colab_type": "text"
      },
      "cell_type": "markdown",
      "source": [
        "### Plot a few images to see if data is correct"
      ]
    },
    {
      "metadata": {
        "id": "Sn-g2d3lgvof",
        "colab_type": "code",
        "colab": {
          "autoexec": {
            "startup": false,
            "wait_interval": 0
          },
          "base_uri": "https://localhost:8080/",
          "height": 262
        },
        "outputId": "6a876870-0b1f-4939-eec0-79e6147605a3",
        "executionInfo": {
          "status": "ok",
          "timestamp": 1531191614922,
          "user_tz": -480,
          "elapsed": 2000,
          "user": {
            "displayName": "Kass PK",
            "photoUrl": "//lh3.googleusercontent.com/-dkFAdLj8zZc/AAAAAAAAAAI/AAAAAAAABkw/SjBtm6dmm5k/s50-c-k-no/photo.jpg",
            "userId": "117332463888572636111"
          }
        }
      },
      "cell_type": "code",
      "source": [
        "# Get the first images from the test-set.\n",
        "images = data.test.images[0:9]\n",
        "\n",
        "# Get the true classes for those images.\n",
        "cls_true = data.test.cls[0:9]\n",
        "\n",
        "# Plot the images and labels using our helper-function above.\n",
        "plot_images(images=images, cls_true=cls_true)"
      ],
      "execution_count": 33,
      "outputs": [
        {
          "output_type": "display_data",
          "data": {
            "image/png": "[encoded data removed]",
            "text/plain": [
              "<matplotlib.figure.Figure at 0x7f673252a9e8>"
            ]
          },
          "metadata": {
            "tags": []
          }
        }
      ]
    },
    {
      "metadata": {
        "id": "iNsITPZBgvoi",
        "colab_type": "text"
      },
      "cell_type": "markdown",
      "source": [
        "## TensorFlow Graph\n",
        "\n",
        "The entire purpose of TensorFlow is to have a so-called computational graph that can be executed much more efficiently than if the same calculations were to be performed directly in Python. TensorFlow can be more efficient than NumPy because TensorFlow knows the entire computation graph that must be executed, while NumPy only knows the computation of a single mathematical operation at a time.\n",
        "\n",
        "TensorFlow can also automatically calculate the gradients that are needed to optimize the variables of the graph so as to make the model perform better. This is because the graph is a combination of simple mathematical expressions so the gradient of the entire graph can be calculated using the chain-rule for derivatives.\n",
        "\n",
        "TensorFlow can also take advantage of multi-core CPUs as well as GPUs - and Google has even built special chips just for TensorFlow which are called TPUs (Tensor Processing Units) and are even faster than GPUs.\n",
        "\n",
        "A TensorFlow graph consists of the following parts which will be detailed below:\n",
        "\n",
        "* Placeholder variables used for inputting data to the graph.\n",
        "* Variables that are going to be optimized so as to make the convolutional network perform better.\n",
        "* The mathematical formulas for the convolutional network.\n",
        "* A cost measure that can be used to guide the optimization of the variables.\n",
        "* An optimization method which updates the variables.\n",
        "\n",
        "In addition, the TensorFlow graph may also contain various debugging statements e.g. for logging data to be displayed using TensorBoard, which is not covered in this tutorial."
      ]
    },
    {
      "metadata": {
        "id": "M7HhvMb1gvoi",
        "colab_type": "text"
      },
      "cell_type": "markdown",
      "source": [
        "### Helper-functions for creating new variables"
      ]
    },
    {
      "metadata": {
        "id": "WlehOwy7gvoj",
        "colab_type": "text"
      },
      "cell_type": "markdown",
      "source": [
        "Functions for creating new TensorFlow variables in the given shape and initializing them with random values. Note that the initialization is not actually done at this point, it is merely being defined in the TensorFlow graph."
      ]
    },
    {
      "metadata": {
        "id": "_drcODqZgvoj",
        "colab_type": "code",
        "colab": {
          "autoexec": {
            "startup": false,
            "wait_interval": 0
          },
          "base_uri": "https://localhost:8080/",
          "height": 37
        },
        "outputId": "c5573744-7659-461f-bdcd-1a6d84af7009",
        "executionInfo": {
          "status": "ok",
          "timestamp": 1531191827539,
          "user_tz": -480,
          "elapsed": 1265,
          "user": {
            "displayName": "Kass PK",
            "photoUrl": "//lh3.googleusercontent.com/-dkFAdLj8zZc/AAAAAAAAAAI/AAAAAAAABkw/SjBtm6dmm5k/s50-c-k-no/photo.jpg",
            "userId": "117332463888572636111"
          }
        }
      },
      "cell_type": "code",
      "source": [
        "def new_weights(shape):\n",
        "    return tf.Variable(tf.truncated_normal(shape, stddev=0.05))"
      ],
      "execution_count": 44,
      "outputs": []
    },
    {
      "metadata": {
        "id": "tV89HfT2gvom",
        "colab_type": "code",
        "colab": {
          "autoexec": {
            "startup": false,
            "wait_interval": 0
          },
          "base_uri": "https://localhost:8080/",
          "height": 37
        },
        "outputId": "6b8e819a-b0bd-4c06-861d-9bb9a374c742",
        "executionInfo": {
          "status": "ok",
          "timestamp": 1531191830711,
          "user_tz": -480,
          "elapsed": 1677,
          "user": {
            "displayName": "Kass PK",
            "photoUrl": "//lh3.googleusercontent.com/-dkFAdLj8zZc/AAAAAAAAAAI/AAAAAAAABkw/SjBtm6dmm5k/s50-c-k-no/photo.jpg",
            "userId": "117332463888572636111"
          }
        }
      },
      "cell_type": "code",
      "source": [
        "def new_biases(length):\n",
        "    return tf.Variable(tf.constant(0.05, shape=[length]))"
      ],
      "execution_count": 45,
      "outputs": []
    },
    {
      "metadata": {
        "id": "nz1iusTrgvom",
        "colab_type": "text"
      },
      "cell_type": "markdown",
      "source": [
        "### Helper-function for creating a new Convolutional Layer"
      ]
    },
    {
      "metadata": {
        "id": "rp74gkhYgvoo",
        "colab_type": "text"
      },
      "cell_type": "markdown",
      "source": [
        "This function creates a new convolutional layer in the computational graph for TensorFlow. Nothing is actually calculated here, we are just adding the mathematical formulas to the TensorFlow graph.\n",
        "\n",
        "It is assumed that the input is a 4-dim tensor with the following dimensions:\n",
        "\n",
        "1. Image number.\n",
        "2. Y-axis of each image.\n",
        "3. X-axis of each image.\n",
        "4. Channels of each image.\n",
        "\n",
        "Note that the input channels may either be colour-channels, or it may be filter-channels if the input is produced from a previous convolutional layer.\n",
        "\n",
        "The output is another 4-dim tensor with the following dimensions:\n",
        "\n",
        "1. Image number, same as input.\n",
        "2. Y-axis of each image. If 2x2 pooling is used, then the height and width of the input images is divided by 2.\n",
        "3. X-axis of each image. Ditto.\n",
        "4. Channels produced by the convolutional filters."
      ]
    },
    {
      "metadata": {
        "id": "LaqNNKQ7gvoo",
        "colab_type": "code",
        "colab": {
          "autoexec": {
            "startup": false,
            "wait_interval": 0
          },
          "base_uri": "https://localhost:8080/",
          "height": 37
        },
        "outputId": "b07e29dc-c809-4bb1-9e35-7cc991139715",
        "executionInfo": {
          "status": "ok",
          "timestamp": 1531191835504,
          "user_tz": -480,
          "elapsed": 1456,
          "user": {
            "displayName": "Kass PK",
            "photoUrl": "//lh3.googleusercontent.com/-dkFAdLj8zZc/AAAAAAAAAAI/AAAAAAAABkw/SjBtm6dmm5k/s50-c-k-no/photo.jpg",
            "userId": "117332463888572636111"
          }
        }
      },
      "cell_type": "code",
      "source": [
        "def new_conv_layer(input,              # The previous layer.\n",
        "                   num_input_channels, # Num. channels in prev. layer.\n",
        "                   filter_size,        # Width and height of each filter.\n",
        "                   num_filters,        # Number of filters.\n",
        "                   use_pooling=True):  # Use 2x2 max-pooling.\n",
        "\n",
        "    # Shape of the filter-weights for the convolution.\n",
        "    # This format is determined by the TensorFlow API.\n",
        "    shape = [filter_size, filter_size, num_input_channels, num_filters]\n",
        "\n",
        "    # Create new weights aka. filters with the given shape.\n",
        "    weights = new_weights(shape=shape)\n",
        "\n",
        "    # Create new biases, one for each filter.\n",
        "    biases = new_biases(length=num_filters)\n",
        "\n",
        "    # Create the TensorFlow operation for convolution.\n",
        "    # Note the strides are set to 1 in all dimensions.\n",
        "    # The first and last stride must always be 1,\n",
        "    # because the first is for the image-number and\n",
        "    # the last is for the input-channel.\n",
        "    # But e.g. strides=[1, 2, 2, 1] would mean that the filter\n",
        "    # is moved 2 pixels across the x- and y-axis of the image.\n",
        "    # The padding is set to 'SAME' which means the input image\n",
        "    # is padded with zeroes so the size of the output is the same.\n",
        "    layer = tf.nn.conv2d(input=input,\n",
        "                         filter=weights,\n",
        "                         strides=[1, 1, 1, 1],\n",
        "                         padding='SAME')\n",
        "\n",
        "    # Add the biases to the results of the convolution.\n",
        "    # A bias-value is added to each filter-channel.\n",
        "    layer += biases\n",
        "\n",
        "    # Use pooling to down-sample the image resolution?\n",
        "    if use_pooling:\n",
        "        # This is 2x2 max-pooling, which means that we\n",
        "        # consider 2x2 windows and select the largest value\n",
        "        # in each window. Then we move 2 pixels to the next window.\n",
        "        layer = tf.nn.max_pool(value=layer,\n",
        "                               ksize=[1, 2, 2, 1],\n",
        "                               strides=[1, 2, 2, 1],\n",
        "                               padding='SAME')\n",
        "\n",
        "    # Rectified Linear Unit (ReLU).\n",
        "    # It calculates max(x, 0) for each input pixel x.\n",
        "    # This adds some non-linearity to the formula and allows us\n",
        "    # to learn more complicated functions.\n",
        "    layer = tf.nn.relu(layer)\n",
        "\n",
        "    # Note that ReLU is normally executed before the pooling,\n",
        "    # but since relu(max_pool(x)) == max_pool(relu(x)) we can\n",
        "    # save 75% of the relu-operations by max-pooling first.\n",
        "\n",
        "    # We return both the resulting layer and the filter-weights\n",
        "    # because we will plot the weights later.\n",
        "    return layer, weights"
      ],
      "execution_count": 46,
      "outputs": []
    },
    {
      "metadata": {
        "id": "DeiZ0N8-gvop",
        "colab_type": "text"
      },
      "cell_type": "markdown",
      "source": [
        "### Helper-function for flattening a layer\n",
        "\n",
        "A convolutional layer produces an output tensor with 4 dimensions. We will add fully-connected layers after the convolution layers, so we need to reduce the 4-dim tensor to 2-dim which can be used as input to the fully-connected layer."
      ]
    },
    {
      "metadata": {
        "id": "PlSO8L5Tgvoq",
        "colab_type": "code",
        "colab": {
          "autoexec": {
            "startup": false,
            "wait_interval": 0
          },
          "base_uri": "https://localhost:8080/",
          "height": 37
        },
        "outputId": "9d298d62-a965-4494-8890-d7f69f780e15",
        "executionInfo": {
          "status": "ok",
          "timestamp": 1531191841242,
          "user_tz": -480,
          "elapsed": 1322,
          "user": {
            "displayName": "Kass PK",
            "photoUrl": "//lh3.googleusercontent.com/-dkFAdLj8zZc/AAAAAAAAAAI/AAAAAAAABkw/SjBtm6dmm5k/s50-c-k-no/photo.jpg",
            "userId": "117332463888572636111"
          }
        }
      },
      "cell_type": "code",
      "source": [
        "def flatten_layer(layer):\n",
        "    # Get the shape of the input layer.\n",
        "    layer_shape = layer.get_shape()\n",
        "\n",
        "    # The shape of the input layer is assumed to be:\n",
        "    # layer_shape == [num_images, img_height, img_width, num_channels]\n",
        "\n",
        "    # The number of features is: img_height * img_width * num_channels\n",
        "    # We can use a function from TensorFlow to calculate this.\n",
        "    num_features = layer_shape[1:4].num_elements()\n",
        "    \n",
        "    # Reshape the layer to [num_images, num_features].\n",
        "    # Note that we just set the size of the second dimension\n",
        "    # to num_features and the size of the first dimension to -1\n",
        "    # which means the size in that dimension is calculated\n",
        "    # so the total size of the tensor is unchanged from the reshaping.\n",
        "    layer_flat = tf.reshape(layer, [-1, num_features])\n",
        "\n",
        "    # The shape of the flattened layer is now:\n",
        "    # [num_images, img_height * img_width * num_channels]\n",
        "\n",
        "    # Return both the flattened layer and the number of features.\n",
        "    return layer_flat, num_features"
      ],
      "execution_count": 47,
      "outputs": []
    },
    {
      "metadata": {
        "id": "f02YAzt6gvos",
        "colab_type": "text"
      },
      "cell_type": "markdown",
      "source": [
        "### Helper-function for creating a new Fully-Connected Layer"
      ]
    },
    {
      "metadata": {
        "id": "7zy4TAycgvot",
        "colab_type": "text"
      },
      "cell_type": "markdown",
      "source": [
        "This function creates a new fully-connected layer in the computational graph for TensorFlow. Nothing is actually calculated here, we are just adding the mathematical formulas to the TensorFlow graph.\n",
        "\n",
        "It is assumed that the input is a 2-dim tensor of shape `[num_images, num_inputs]`. The output is a 2-dim tensor of shape `[num_images, num_outputs]`."
      ]
    },
    {
      "metadata": {
        "id": "mW9eaaVOgvot",
        "colab_type": "code",
        "colab": {
          "autoexec": {
            "startup": false,
            "wait_interval": 0
          },
          "base_uri": "https://localhost:8080/",
          "height": 37
        },
        "outputId": "7c90cf6d-fe2c-43ef-f81a-edee27d1f113",
        "executionInfo": {
          "status": "ok",
          "timestamp": 1531191844902,
          "user_tz": -480,
          "elapsed": 1085,
          "user": {
            "displayName": "Kass PK",
            "photoUrl": "//lh3.googleusercontent.com/-dkFAdLj8zZc/AAAAAAAAAAI/AAAAAAAABkw/SjBtm6dmm5k/s50-c-k-no/photo.jpg",
            "userId": "117332463888572636111"
          }
        }
      },
      "cell_type": "code",
      "source": [
        "def new_fc_layer(input,          # The previous layer.\n",
        "                 num_inputs,     # Num. inputs from prev. layer.\n",
        "                 num_outputs,    # Num. outputs.\n",
        "                 use_relu=True): # Use Rectified Linear Unit (ReLU)?\n",
        "\n",
        "    # Create new weights and biases.\n",
        "    weights = new_weights(shape=[num_inputs, num_outputs])\n",
        "    biases = new_biases(length=num_outputs)\n",
        "\n",
        "    # Calculate the layer as the matrix multiplication of\n",
        "    # the input and weights, and then add the bias-values.\n",
        "    layer = tf.matmul(input, weights) + biases\n",
        "\n",
        "    # Use ReLU?\n",
        "    if use_relu:\n",
        "        layer = tf.nn.relu(layer)\n",
        "\n",
        "    return layer"
      ],
      "execution_count": 48,
      "outputs": []
    },
    {
      "metadata": {
        "id": "O6eKFKengvov",
        "colab_type": "text"
      },
      "cell_type": "markdown",
      "source": [
        "### Placeholder variables"
      ]
    },
    {
      "metadata": {
        "id": "yLeiQr8zgvov",
        "colab_type": "text"
      },
      "cell_type": "markdown",
      "source": [
        "Placeholder variables serve as the input to the TensorFlow computational graph that we may change each time we execute the graph. We call this feeding the placeholder variables and it is demonstrated further below.\n",
        "\n",
        "First we define the placeholder variable for the input images. This allows us to change the images that are input to the TensorFlow graph. This is a so-called tensor, which just means that it is a multi-dimensional vector or matrix. The data-type is set to `float32` and the shape is set to `[None, img_size_flat]`, where `None` means that the tensor may hold an arbitrary number of images with each image being a vector of length `img_size_flat`."
      ]
    },
    {
      "metadata": {
        "id": "qDvK8ejugvow",
        "colab_type": "code",
        "colab": {
          "autoexec": {
            "startup": false,
            "wait_interval": 0
          },
          "base_uri": "https://localhost:8080/",
          "height": 37
        },
        "outputId": "e8e00d11-5140-4444-a59a-b5ba3ee8e688",
        "executionInfo": {
          "status": "ok",
          "timestamp": 1531191850020,
          "user_tz": -480,
          "elapsed": 1842,
          "user": {
            "displayName": "Kass PK",
            "photoUrl": "//lh3.googleusercontent.com/-dkFAdLj8zZc/AAAAAAAAAAI/AAAAAAAABkw/SjBtm6dmm5k/s50-c-k-no/photo.jpg",
            "userId": "117332463888572636111"
          }
        }
      },
      "cell_type": "code",
      "source": [
        "x = tf.placeholder(tf.float32, shape=[None, img_size_flat], name='x')"
      ],
      "execution_count": 49,
      "outputs": []
    },
    {
      "metadata": {
        "id": "b1iDhG3Rgvox",
        "colab_type": "text"
      },
      "cell_type": "markdown",
      "source": [
        "The convolutional layers expect `x` to be encoded as a 4-dim tensor so we have to reshape it so its shape is instead `[num_images, img_height, img_width, num_channels]`. Note that `img_height == img_width == img_size` and `num_images` can be inferred automatically by using -1 for the size of the first dimension. So the reshape operation is:"
      ]
    },
    {
      "metadata": {
        "id": "J2CSEzSwgvox",
        "colab_type": "code",
        "colab": {
          "autoexec": {
            "startup": false,
            "wait_interval": 0
          },
          "base_uri": "https://localhost:8080/",
          "height": 37
        },
        "outputId": "c4b82ed7-0bc5-4903-d230-b121677d32ea",
        "executionInfo": {
          "status": "ok",
          "timestamp": 1531191851931,
          "user_tz": -480,
          "elapsed": 1104,
          "user": {
            "displayName": "Kass PK",
            "photoUrl": "//lh3.googleusercontent.com/-dkFAdLj8zZc/AAAAAAAAAAI/AAAAAAAABkw/SjBtm6dmm5k/s50-c-k-no/photo.jpg",
            "userId": "117332463888572636111"
          }
        }
      },
      "cell_type": "code",
      "source": [
        "x_image = tf.reshape(x, [-1, img_size, img_size, num_channels])"
      ],
      "execution_count": 50,
      "outputs": []
    },
    {
      "metadata": {
        "id": "JGYC_2Mhgvoz",
        "colab_type": "text"
      },
      "cell_type": "markdown",
      "source": [
        "Next we have the placeholder variable for the true labels associated with the images that were input in the placeholder variable `x`. The shape of this placeholder variable is `[None, num_classes]` which means it may hold an arbitrary number of labels and each label is a vector of length `num_classes` which is 10 in this case."
      ]
    },
    {
      "metadata": {
        "id": "THblqbX2gvoz",
        "colab_type": "code",
        "colab": {
          "autoexec": {
            "startup": false,
            "wait_interval": 0
          },
          "base_uri": "https://localhost:8080/",
          "height": 37
        },
        "outputId": "a24ed684-64e2-4c90-eb2f-38af04be2664",
        "executionInfo": {
          "status": "ok",
          "timestamp": 1531191854128,
          "user_tz": -480,
          "elapsed": 1160,
          "user": {
            "displayName": "Kass PK",
            "photoUrl": "//lh3.googleusercontent.com/-dkFAdLj8zZc/AAAAAAAAAAI/AAAAAAAABkw/SjBtm6dmm5k/s50-c-k-no/photo.jpg",
            "userId": "117332463888572636111"
          }
        }
      },
      "cell_type": "code",
      "source": [
        "y_true = tf.placeholder(tf.float32, shape=[None, num_classes], name='y_true')"
      ],
      "execution_count": 51,
      "outputs": []
    },
    {
      "metadata": {
        "id": "l7PJt9CLgvo1",
        "colab_type": "text"
      },
      "cell_type": "markdown",
      "source": [
        "We could also have a placeholder variable for the class-number, but we will instead calculate it using argmax. Note that this is a TensorFlow operator so nothing is calculated at this point."
      ]
    },
    {
      "metadata": {
        "id": "4KCe0TbLgvo3",
        "colab_type": "code",
        "colab": {
          "autoexec": {
            "startup": false,
            "wait_interval": 0
          },
          "base_uri": "https://localhost:8080/",
          "height": 37
        },
        "outputId": "8739f0c6-3ef2-4c42-e029-76741eaff579",
        "executionInfo": {
          "status": "ok",
          "timestamp": 1531191856473,
          "user_tz": -480,
          "elapsed": 1657,
          "user": {
            "displayName": "Kass PK",
            "photoUrl": "//lh3.googleusercontent.com/-dkFAdLj8zZc/AAAAAAAAAAI/AAAAAAAABkw/SjBtm6dmm5k/s50-c-k-no/photo.jpg",
            "userId": "117332463888572636111"
          }
        }
      },
      "cell_type": "code",
      "source": [
        "y_true_cls = tf.argmax(y_true, axis=1)"
      ],
      "execution_count": 52,
      "outputs": []
    },
    {
      "metadata": {
        "id": "1hcyc6m8gvo6",
        "colab_type": "text"
      },
      "cell_type": "markdown",
      "source": [
        "### Convolutional Layer 1\n",
        "\n",
        "Create the first convolutional layer. It takes `x_image` as input and creates `num_filters1` different filters, each having width and height equal to `filter_size1`. Finally we wish to down-sample the image so it is half the size by using 2x2 max-pooling."
      ]
    },
    {
      "metadata": {
        "id": "v2KFqv4Egvo8",
        "colab_type": "code",
        "colab": {
          "autoexec": {
            "startup": false,
            "wait_interval": 0
          },
          "base_uri": "https://localhost:8080/",
          "height": 37
        },
        "outputId": "c6528b5b-a8e9-4987-8a19-552fbabdef2c",
        "executionInfo": {
          "status": "ok",
          "timestamp": 1531191860308,
          "user_tz": -480,
          "elapsed": 2246,
          "user": {
            "displayName": "Kass PK",
            "photoUrl": "//lh3.googleusercontent.com/-dkFAdLj8zZc/AAAAAAAAAAI/AAAAAAAABkw/SjBtm6dmm5k/s50-c-k-no/photo.jpg",
            "userId": "117332463888572636111"
          }
        }
      },
      "cell_type": "code",
      "source": [
        "layer_conv1, weights_conv1 = \\\n",
        "    new_conv_layer(input=x_image,\n",
        "                   num_input_channels=num_channels,\n",
        "                   filter_size=filter_size1,\n",
        "                   num_filters=num_filters1,\n",
        "                   use_pooling=True)"
      ],
      "execution_count": 53,
      "outputs": []
    },
    {
      "metadata": {
        "id": "skiC-PD3gvo_",
        "colab_type": "text"
      },
      "cell_type": "markdown",
      "source": [
        "Check the shape of the tensor that will be output by the convolutional layer. It is (?, 14, 14, 16) which means that there is an arbitrary number of images (this is the ?), each image is 14 pixels wide and 14 pixels high, and there are 16 different channels, one channel for each of the filters."
      ]
    },
    {
      "metadata": {
        "id": "bGdfGNLQgvpC",
        "colab_type": "code",
        "colab": {
          "autoexec": {
            "startup": false,
            "wait_interval": 0
          },
          "base_uri": "https://localhost:8080/",
          "height": 34
        },
        "outputId": "3b6a82e8-7239-4e02-b9cf-aca35bce5dd3",
        "executionInfo": {
          "status": "ok",
          "timestamp": 1531191863065,
          "user_tz": -480,
          "elapsed": 1587,
          "user": {
            "displayName": "Kass PK",
            "photoUrl": "//lh3.googleusercontent.com/-dkFAdLj8zZc/AAAAAAAAAAI/AAAAAAAABkw/SjBtm6dmm5k/s50-c-k-no/photo.jpg",
            "userId": "117332463888572636111"
          }
        }
      },
      "cell_type": "code",
      "source": [
        "layer_conv1"
      ],
      "execution_count": 54,
      "outputs": [
        {
          "output_type": "execute_result",
          "data": {
            "text/plain": [
              "<tf.Tensor 'Relu:0' shape=(?, 14, 14, 16) dtype=float32>"
            ]
          },
          "metadata": {
            "tags": []
          },
          "execution_count": 54
        }
      ]
    },
    {
      "metadata": {
        "id": "k7CWrv3AgvpF",
        "colab_type": "text"
      },
      "cell_type": "markdown",
      "source": [
        "### Convolutional Layer 2\n",
        "\n",
        "Create the second convolutional layer, which takes as input the output from the first convolutional layer. The number of input channels corresponds to the number of filters in the first convolutional layer."
      ]
    },
    {
      "metadata": {
        "id": "BDlTe2BCgvpG",
        "colab_type": "code",
        "colab": {
          "autoexec": {
            "startup": false,
            "wait_interval": 0
          },
          "base_uri": "https://localhost:8080/",
          "height": 37
        },
        "outputId": "91472a66-c3ab-41d6-debf-0fca54de651d",
        "executionInfo": {
          "status": "ok",
          "timestamp": 1531191866400,
          "user_tz": -480,
          "elapsed": 1320,
          "user": {
            "displayName": "Kass PK",
            "photoUrl": "//lh3.googleusercontent.com/-dkFAdLj8zZc/AAAAAAAAAAI/AAAAAAAABkw/SjBtm6dmm5k/s50-c-k-no/photo.jpg",
            "userId": "117332463888572636111"
          }
        }
      },
      "cell_type": "code",
      "source": [
        "layer_conv2, weights_conv2 = \\\n",
        "    new_conv_layer(input=layer_conv1,\n",
        "                   num_input_channels=num_filters1,\n",
        "                   filter_size=filter_size2,\n",
        "                   num_filters=num_filters2,\n",
        "                   use_pooling=True)"
      ],
      "execution_count": 55,
      "outputs": []
    },
    {
      "metadata": {
        "id": "mzN9pjXogvpI",
        "colab_type": "text"
      },
      "cell_type": "markdown",
      "source": [
        "Check the shape of the tensor that will be output from this convolutional layer. The shape is (?, 7, 7, 36) where the ? again means that there is an arbitrary number of images, with each image having width and height of 7 pixels, and there are 36 channels, one for each filter."
      ]
    },
    {
      "metadata": {
        "id": "e1HwwjFfgvpJ",
        "colab_type": "code",
        "colab": {
          "autoexec": {
            "startup": false,
            "wait_interval": 0
          },
          "base_uri": "https://localhost:8080/",
          "height": 34
        },
        "outputId": "4cb9e7bb-f105-420e-dbbc-132537817290",
        "executionInfo": {
          "status": "ok",
          "timestamp": 1531191869359,
          "user_tz": -480,
          "elapsed": 1317,
          "user": {
            "displayName": "Kass PK",
            "photoUrl": "//lh3.googleusercontent.com/-dkFAdLj8zZc/AAAAAAAAAAI/AAAAAAAABkw/SjBtm6dmm5k/s50-c-k-no/photo.jpg",
            "userId": "117332463888572636111"
          }
        }
      },
      "cell_type": "code",
      "source": [
        "layer_conv2"
      ],
      "execution_count": 56,
      "outputs": [
        {
          "output_type": "execute_result",
          "data": {
            "text/plain": [
              "<tf.Tensor 'Relu_1:0' shape=(?, 7, 7, 36) dtype=float32>"
            ]
          },
          "metadata": {
            "tags": []
          },
          "execution_count": 56
        }
      ]
    },
    {
      "metadata": {
        "id": "EroRVaD2gvpK",
        "colab_type": "text"
      },
      "cell_type": "markdown",
      "source": [
        "### Flatten Layer\n",
        "\n",
        "The convolutional layers output 4-dim tensors. We now wish to use these as input in a fully-connected network, which requires for the tensors to be reshaped or flattened to 2-dim tensors."
      ]
    },
    {
      "metadata": {
        "id": "OEyCGIKggvpM",
        "colab_type": "code",
        "colab": {
          "autoexec": {
            "startup": false,
            "wait_interval": 0
          },
          "base_uri": "https://localhost:8080/",
          "height": 37
        },
        "outputId": "ffca8f2b-e2fb-4662-980c-e31a4f696eda",
        "executionInfo": {
          "status": "ok",
          "timestamp": 1531191871860,
          "user_tz": -480,
          "elapsed": 894,
          "user": {
            "displayName": "Kass PK",
            "photoUrl": "//lh3.googleusercontent.com/-dkFAdLj8zZc/AAAAAAAAAAI/AAAAAAAABkw/SjBtm6dmm5k/s50-c-k-no/photo.jpg",
            "userId": "117332463888572636111"
          }
        }
      },
      "cell_type": "code",
      "source": [
        "layer_flat, num_features = flatten_layer(layer_conv2)"
      ],
      "execution_count": 57,
      "outputs": []
    },
    {
      "metadata": {
        "id": "q5tZqXwUgvpN",
        "colab_type": "text"
      },
      "cell_type": "markdown",
      "source": [
        "Check that the tensors now have shape (?, 1764) which means there's an arbitrary number of images which have been flattened to vectors of length 1764 each. Note that 1764 = 7 x 7 x 36."
      ]
    },
    {
      "metadata": {
        "id": "Fv5Y9QJSgvpN",
        "colab_type": "code",
        "colab": {
          "autoexec": {
            "startup": false,
            "wait_interval": 0
          },
          "base_uri": "https://localhost:8080/",
          "height": 34
        },
        "outputId": "da9aa21d-0ed7-4ee0-f90a-83e8e5ce8c04",
        "executionInfo": {
          "status": "ok",
          "timestamp": 1531191874308,
          "user_tz": -480,
          "elapsed": 1534,
          "user": {
            "displayName": "Kass PK",
            "photoUrl": "//lh3.googleusercontent.com/-dkFAdLj8zZc/AAAAAAAAAAI/AAAAAAAABkw/SjBtm6dmm5k/s50-c-k-no/photo.jpg",
            "userId": "117332463888572636111"
          }
        }
      },
      "cell_type": "code",
      "source": [
        "layer_flat"
      ],
      "execution_count": 58,
      "outputs": [
        {
          "output_type": "execute_result",
          "data": {
            "text/plain": [
              "<tf.Tensor 'Reshape_1:0' shape=(?, 1764) dtype=float32>"
            ]
          },
          "metadata": {
            "tags": []
          },
          "execution_count": 58
        }
      ]
    },
    {
      "metadata": {
        "id": "hagBuUeJgvpP",
        "colab_type": "code",
        "colab": {
          "autoexec": {
            "startup": false,
            "wait_interval": 0
          },
          "base_uri": "https://localhost:8080/",
          "height": 34
        },
        "outputId": "d3ea8058-1b06-4b5d-eb2a-50ddab791b7a",
        "executionInfo": {
          "status": "ok",
          "timestamp": 1531191876063,
          "user_tz": -480,
          "elapsed": 1159,
          "user": {
            "displayName": "Kass PK",
            "photoUrl": "//lh3.googleusercontent.com/-dkFAdLj8zZc/AAAAAAAAAAI/AAAAAAAABkw/SjBtm6dmm5k/s50-c-k-no/photo.jpg",
            "userId": "117332463888572636111"
          }
        }
      },
      "cell_type": "code",
      "source": [
        "num_features"
      ],
      "execution_count": 59,
      "outputs": [
        {
          "output_type": "execute_result",
          "data": {
            "text/plain": [
              "1764"
            ]
          },
          "metadata": {
            "tags": []
          },
          "execution_count": 59
        }
      ]
    },
    {
      "metadata": {
        "id": "X2Z0QTHogvpR",
        "colab_type": "text"
      },
      "cell_type": "markdown",
      "source": [
        "### Fully-Connected Layer 1\n",
        "\n",
        "Add a fully-connected layer to the network. The input is the flattened layer from the previous convolution. The number of neurons or nodes in the fully-connected layer is `fc_size`. ReLU is used so we can learn non-linear relations."
      ]
    },
    {
      "metadata": {
        "id": "4yTEQB57gvpR",
        "colab_type": "code",
        "colab": {
          "autoexec": {
            "startup": false,
            "wait_interval": 0
          },
          "base_uri": "https://localhost:8080/",
          "height": 37
        },
        "outputId": "98c93876-acdf-4740-b394-682ca4848f47",
        "executionInfo": {
          "status": "ok",
          "timestamp": 1531191879205,
          "user_tz": -480,
          "elapsed": 1193,
          "user": {
            "displayName": "Kass PK",
            "photoUrl": "//lh3.googleusercontent.com/-dkFAdLj8zZc/AAAAAAAAAAI/AAAAAAAABkw/SjBtm6dmm5k/s50-c-k-no/photo.jpg",
            "userId": "117332463888572636111"
          }
        }
      },
      "cell_type": "code",
      "source": [
        "layer_fc1 = new_fc_layer(input=layer_flat,\n",
        "                         num_inputs=num_features,\n",
        "                         num_outputs=fc_size,\n",
        "                         use_relu=True)"
      ],
      "execution_count": 60,
      "outputs": []
    },
    {
      "metadata": {
        "id": "SSzK-jd7gvpT",
        "colab_type": "text"
      },
      "cell_type": "markdown",
      "source": [
        "Check that the output of the fully-connected layer is a tensor with shape (?, 128) where the ? means there is an arbitrary number of images and `fc_size` == 128."
      ]
    },
    {
      "metadata": {
        "id": "YRG1FznDgvpU",
        "colab_type": "code",
        "colab": {
          "autoexec": {
            "startup": false,
            "wait_interval": 0
          },
          "base_uri": "https://localhost:8080/",
          "height": 34
        },
        "outputId": "aaad16d9-e149-4905-a569-521032b320d9",
        "executionInfo": {
          "status": "ok",
          "timestamp": 1531191881338,
          "user_tz": -480,
          "elapsed": 1067,
          "user": {
            "displayName": "Kass PK",
            "photoUrl": "//lh3.googleusercontent.com/-dkFAdLj8zZc/AAAAAAAAAAI/AAAAAAAABkw/SjBtm6dmm5k/s50-c-k-no/photo.jpg",
            "userId": "117332463888572636111"
          }
        }
      },
      "cell_type": "code",
      "source": [
        "layer_fc1"
      ],
      "execution_count": 61,
      "outputs": [
        {
          "output_type": "execute_result",
          "data": {
            "text/plain": [
              "<tf.Tensor 'Relu_2:0' shape=(?, 128) dtype=float32>"
            ]
          },
          "metadata": {
            "tags": []
          },
          "execution_count": 61
        }
      ]
    },
    {
      "metadata": {
        "id": "_nSDViHtgvpY",
        "colab_type": "text"
      },
      "cell_type": "markdown",
      "source": [
        "### Fully-Connected Layer 2\n",
        "\n",
        "Add another fully-connected layer that outputs vectors of length 10 for determining which of the 10 classes the input image belongs to. Note that ReLU is not used in this layer."
      ]
    },
    {
      "metadata": {
        "id": "jo9avStlgvpZ",
        "colab_type": "code",
        "colab": {
          "autoexec": {
            "startup": false,
            "wait_interval": 0
          },
          "base_uri": "https://localhost:8080/",
          "height": 37
        },
        "outputId": "3b9ad417-2be3-43cb-a919-d599e1b9627f",
        "executionInfo": {
          "status": "ok",
          "timestamp": 1531191884073,
          "user_tz": -480,
          "elapsed": 1042,
          "user": {
            "displayName": "Kass PK",
            "photoUrl": "//lh3.googleusercontent.com/-dkFAdLj8zZc/AAAAAAAAAAI/AAAAAAAABkw/SjBtm6dmm5k/s50-c-k-no/photo.jpg",
            "userId": "117332463888572636111"
          }
        }
      },
      "cell_type": "code",
      "source": [
        "layer_fc2 = new_fc_layer(input=layer_fc1,\n",
        "                         num_inputs=fc_size,\n",
        "                         num_outputs=num_classes,\n",
        "                         use_relu=False)"
      ],
      "execution_count": 62,
      "outputs": []
    },
    {
      "metadata": {
        "id": "Yju9t1Txgvpe",
        "colab_type": "code",
        "colab": {
          "autoexec": {
            "startup": false,
            "wait_interval": 0
          },
          "base_uri": "https://localhost:8080/",
          "height": 34
        },
        "outputId": "bc169818-becc-4747-eeb5-2ad0a2fddb32",
        "executionInfo": {
          "status": "ok",
          "timestamp": 1531191885522,
          "user_tz": -480,
          "elapsed": 866,
          "user": {
            "displayName": "Kass PK",
            "photoUrl": "//lh3.googleusercontent.com/-dkFAdLj8zZc/AAAAAAAAAAI/AAAAAAAABkw/SjBtm6dmm5k/s50-c-k-no/photo.jpg",
            "userId": "117332463888572636111"
          }
        }
      },
      "cell_type": "code",
      "source": [
        "layer_fc2"
      ],
      "execution_count": 63,
      "outputs": [
        {
          "output_type": "execute_result",
          "data": {
            "text/plain": [
              "<tf.Tensor 'add_3:0' shape=(?, 10) dtype=float32>"
            ]
          },
          "metadata": {
            "tags": []
          },
          "execution_count": 63
        }
      ]
    },
    {
      "metadata": {
        "id": "xqYUdtZogvpg",
        "colab_type": "text"
      },
      "cell_type": "markdown",
      "source": [
        "### Predicted Class"
      ]
    },
    {
      "metadata": {
        "id": "cKmxJa0ogvph",
        "colab_type": "text"
      },
      "cell_type": "markdown",
      "source": [
        "The second fully-connected layer estimates how likely it is that the input image belongs to each of the 10 classes. However, these estimates are a bit rough and difficult to interpret because the numbers may be very small or large, so we want to normalize them so that each element is limited between zero and one and the 10 elements sum to one. This is calculated using the so-called softmax function and the result is stored in `y_pred`."
      ]
    },
    {
      "metadata": {
        "id": "fONSdmXBgvpi",
        "colab_type": "code",
        "colab": {
          "autoexec": {
            "startup": false,
            "wait_interval": 0
          },
          "base_uri": "https://localhost:8080/",
          "height": 37
        },
        "outputId": "1c9653bf-0ece-4b6b-ac01-f1646583c871",
        "executionInfo": {
          "status": "ok",
          "timestamp": 1531191889315,
          "user_tz": -480,
          "elapsed": 1222,
          "user": {
            "displayName": "Kass PK",
            "photoUrl": "//lh3.googleusercontent.com/-dkFAdLj8zZc/AAAAAAAAAAI/AAAAAAAABkw/SjBtm6dmm5k/s50-c-k-no/photo.jpg",
            "userId": "117332463888572636111"
          }
        }
      },
      "cell_type": "code",
      "source": [
        "y_pred = tf.nn.softmax(layer_fc2)"
      ],
      "execution_count": 64,
      "outputs": []
    },
    {
      "metadata": {
        "id": "FhWyhvg-gvpl",
        "colab_type": "text"
      },
      "cell_type": "markdown",
      "source": [
        "The class-number is the index of the largest element."
      ]
    },
    {
      "metadata": {
        "id": "S6pDNJUbgvpn",
        "colab_type": "code",
        "colab": {
          "autoexec": {
            "startup": false,
            "wait_interval": 0
          },
          "base_uri": "https://localhost:8080/",
          "height": 37
        },
        "outputId": "80ab9d2f-6dc6-4aca-b74f-03be242d58d6",
        "executionInfo": {
          "status": "ok",
          "timestamp": 1531191891203,
          "user_tz": -480,
          "elapsed": 1294,
          "user": {
            "displayName": "Kass PK",
            "photoUrl": "//lh3.googleusercontent.com/-dkFAdLj8zZc/AAAAAAAAAAI/AAAAAAAABkw/SjBtm6dmm5k/s50-c-k-no/photo.jpg",
            "userId": "117332463888572636111"
          }
        }
      },
      "cell_type": "code",
      "source": [
        "y_pred_cls = tf.argmax(y_pred, axis=1)"
      ],
      "execution_count": 65,
      "outputs": []
    },
    {
      "metadata": {
        "id": "_er2nQGWgvpp",
        "colab_type": "text"
      },
      "cell_type": "markdown",
      "source": [
        "### Cost-function to be optimized"
      ]
    },
    {
      "metadata": {
        "id": "HyMRtPjWgvpq",
        "colab_type": "text"
      },
      "cell_type": "markdown",
      "source": [
        "To make the model better at classifying the input images, we must somehow change the variables for all the network layers. To do this we first need to know how well the model currently performs by comparing the predicted output of the model `y_pred` to the desired output `y_true`.\n",
        "\n",
        "The cross-entropy is a performance measure used in classification. The cross-entropy is a continuous function that is always positive and if the predicted output of the model exactly matches the desired output then the cross-entropy equals zero. The goal of optimization is therefore to minimize the cross-entropy so it gets as close to zero as possible by changing the variables of the network layers.\n",
        "\n",
        "TensorFlow has a built-in function for calculating the cross-entropy. Note that the function calculates the softmax internally so we must use the output of `layer_fc2` directly rather than `y_pred` which has already had the softmax applied."
      ]
    },
    {
      "metadata": {
        "id": "DrDwgpDKgvpr",
        "colab_type": "code",
        "colab": {
          "autoexec": {
            "startup": false,
            "wait_interval": 0
          },
          "base_uri": "https://localhost:8080/",
          "height": 37
        },
        "outputId": "2c334755-ba0a-4ce6-f2b3-249f9382484a",
        "executionInfo": {
          "status": "ok",
          "timestamp": 1531191894228,
          "user_tz": -480,
          "elapsed": 1058,
          "user": {
            "displayName": "Kass PK",
            "photoUrl": "//lh3.googleusercontent.com/-dkFAdLj8zZc/AAAAAAAAAAI/AAAAAAAABkw/SjBtm6dmm5k/s50-c-k-no/photo.jpg",
            "userId": "117332463888572636111"
          }
        }
      },
      "cell_type": "code",
      "source": [
        "cross_entropy = tf.nn.softmax_cross_entropy_with_logits_v2(logits=layer_fc2,\n",
        "                                                        labels=y_true)"
      ],
      "execution_count": 66,
      "outputs": []
    },
    {
      "metadata": {
        "id": "MUxw1DD7gvpt",
        "colab_type": "text"
      },
      "cell_type": "markdown",
      "source": [
        "We have now calculated the cross-entropy for each of the image classifications so we have a measure of how well the model performs on each image individually. But in order to use the cross-entropy to guide the optimization of the model's variables we need a single scalar value, so we simply take the average of the cross-entropy for all the image classifications."
      ]
    },
    {
      "metadata": {
        "id": "cbWa-guqgvpt",
        "colab_type": "code",
        "colab": {
          "autoexec": {
            "startup": false,
            "wait_interval": 0
          },
          "base_uri": "https://localhost:8080/",
          "height": 37
        },
        "outputId": "ea0d0a58-3327-4191-f1c8-e36051a6d6b8",
        "executionInfo": {
          "status": "ok",
          "timestamp": 1531191896678,
          "user_tz": -480,
          "elapsed": 1244,
          "user": {
            "displayName": "Kass PK",
            "photoUrl": "//lh3.googleusercontent.com/-dkFAdLj8zZc/AAAAAAAAAAI/AAAAAAAABkw/SjBtm6dmm5k/s50-c-k-no/photo.jpg",
            "userId": "117332463888572636111"
          }
        }
      },
      "cell_type": "code",
      "source": [
        "cost = tf.reduce_mean(cross_entropy)"
      ],
      "execution_count": 67,
      "outputs": []
    },
    {
      "metadata": {
        "id": "Vzcekph3gvpw",
        "colab_type": "text"
      },
      "cell_type": "markdown",
      "source": [
        "### Optimization Method"
      ]
    },
    {
      "metadata": {
        "id": "IXz1vidagvpw",
        "colab_type": "text"
      },
      "cell_type": "markdown",
      "source": [
        "Now that we have a cost measure that must be minimized, we can then create an optimizer. In this case it is the `AdamOptimizer` which is an advanced form of Gradient Descent.\n",
        "\n",
        "Note that optimization is not performed at this point. In fact, nothing is calculated at all, we just add the optimizer-object to the TensorFlow graph for later execution."
      ]
    },
    {
      "metadata": {
        "id": "LUK33Re5gvpx",
        "colab_type": "code",
        "colab": {
          "autoexec": {
            "startup": false,
            "wait_interval": 0
          },
          "base_uri": "https://localhost:8080/",
          "height": 37
        },
        "outputId": "2011bc2e-704c-4c00-ba59-862cd6ababb3",
        "executionInfo": {
          "status": "ok",
          "timestamp": 1531191901085,
          "user_tz": -480,
          "elapsed": 2152,
          "user": {
            "displayName": "Kass PK",
            "photoUrl": "//lh3.googleusercontent.com/-dkFAdLj8zZc/AAAAAAAAAAI/AAAAAAAABkw/SjBtm6dmm5k/s50-c-k-no/photo.jpg",
            "userId": "117332463888572636111"
          }
        }
      },
      "cell_type": "code",
      "source": [
        "optimizer = tf.train.AdamOptimizer(learning_rate=1e-4).minimize(cost)"
      ],
      "execution_count": 68,
      "outputs": []
    },
    {
      "metadata": {
        "id": "Ybr9fQSJgvpz",
        "colab_type": "text"
      },
      "cell_type": "markdown",
      "source": [
        "### Performance Measures"
      ]
    },
    {
      "metadata": {
        "id": "HFdflPNIgvp0",
        "colab_type": "text"
      },
      "cell_type": "markdown",
      "source": [
        "We need a few more performance measures to display the progress to the user.\n",
        "\n",
        "This is a vector of booleans whether the predicted class equals the true class of each image."
      ]
    },
    {
      "metadata": {
        "id": "cPA1PU6_gvp0",
        "colab_type": "code",
        "colab": {
          "autoexec": {
            "startup": false,
            "wait_interval": 0
          },
          "base_uri": "https://localhost:8080/",
          "height": 37
        },
        "outputId": "112570ac-a145-4d0e-86c4-ee07d7fc7afe",
        "executionInfo": {
          "status": "ok",
          "timestamp": 1531191904422,
          "user_tz": -480,
          "elapsed": 1715,
          "user": {
            "displayName": "Kass PK",
            "photoUrl": "//lh3.googleusercontent.com/-dkFAdLj8zZc/AAAAAAAAAAI/AAAAAAAABkw/SjBtm6dmm5k/s50-c-k-no/photo.jpg",
            "userId": "117332463888572636111"
          }
        }
      },
      "cell_type": "code",
      "source": [
        "correct_prediction = tf.equal(y_pred_cls, y_true_cls)"
      ],
      "execution_count": 69,
      "outputs": []
    },
    {
      "metadata": {
        "id": "QEpMBM14gvp3",
        "colab_type": "text"
      },
      "cell_type": "markdown",
      "source": [
        "This calculates the classification accuracy by first type-casting the vector of booleans to floats, so that False becomes 0 and True becomes 1, and then calculating the average of these numbers."
      ]
    },
    {
      "metadata": {
        "id": "6yZh8EDFgvp3",
        "colab_type": "code",
        "colab": {
          "autoexec": {
            "startup": false,
            "wait_interval": 0
          },
          "base_uri": "https://localhost:8080/",
          "height": 37
        },
        "outputId": "461ae429-6927-4b7a-de9d-4d3fe12e44b0",
        "executionInfo": {
          "status": "ok",
          "timestamp": 1531191906143,
          "user_tz": -480,
          "elapsed": 1174,
          "user": {
            "displayName": "Kass PK",
            "photoUrl": "//lh3.googleusercontent.com/-dkFAdLj8zZc/AAAAAAAAAAI/AAAAAAAABkw/SjBtm6dmm5k/s50-c-k-no/photo.jpg",
            "userId": "117332463888572636111"
          }
        }
      },
      "cell_type": "code",
      "source": [
        "accuracy = tf.reduce_mean(tf.cast(correct_prediction, tf.float32))"
      ],
      "execution_count": 70,
      "outputs": []
    },
    {
      "metadata": {
        "id": "NGj30afOgvp5",
        "colab_type": "text"
      },
      "cell_type": "markdown",
      "source": [
        "## TensorFlow Run"
      ]
    },
    {
      "metadata": {
        "id": "RraPvfxmgvp5",
        "colab_type": "text"
      },
      "cell_type": "markdown",
      "source": [
        "### Create TensorFlow session\n",
        "\n",
        "Once the TensorFlow graph has been created, we have to create a TensorFlow session which is used to execute the graph."
      ]
    },
    {
      "metadata": {
        "id": "1OeRtZGVgvp6",
        "colab_type": "code",
        "colab": {
          "autoexec": {
            "startup": false,
            "wait_interval": 0
          },
          "base_uri": "https://localhost:8080/",
          "height": 37
        },
        "outputId": "9bf26eb7-3474-4c28-f4d2-6482420f0665",
        "executionInfo": {
          "status": "ok",
          "timestamp": 1531191909282,
          "user_tz": -480,
          "elapsed": 999,
          "user": {
            "displayName": "Kass PK",
            "photoUrl": "//lh3.googleusercontent.com/-dkFAdLj8zZc/AAAAAAAAAAI/AAAAAAAABkw/SjBtm6dmm5k/s50-c-k-no/photo.jpg",
            "userId": "117332463888572636111"
          }
        }
      },
      "cell_type": "code",
      "source": [
        "session = tf.Session()"
      ],
      "execution_count": 71,
      "outputs": []
    },
    {
      "metadata": {
        "id": "Mdzm77q8gvp9",
        "colab_type": "text"
      },
      "cell_type": "markdown",
      "source": [
        "### Initialize variables\n",
        "\n",
        "The variables for `weights` and `biases` must be initialized before we start optimizing them."
      ]
    },
    {
      "metadata": {
        "id": "LnuKzPo8gvp-",
        "colab_type": "code",
        "colab": {
          "autoexec": {
            "startup": false,
            "wait_interval": 0
          },
          "base_uri": "https://localhost:8080/",
          "height": 37
        },
        "outputId": "aec77865-a920-4a42-f60e-44c802c184c7",
        "executionInfo": {
          "status": "ok",
          "timestamp": 1531191911783,
          "user_tz": -480,
          "elapsed": 888,
          "user": {
            "displayName": "Kass PK",
            "photoUrl": "//lh3.googleusercontent.com/-dkFAdLj8zZc/AAAAAAAAAAI/AAAAAAAABkw/SjBtm6dmm5k/s50-c-k-no/photo.jpg",
            "userId": "117332463888572636111"
          }
        }
      },
      "cell_type": "code",
      "source": [
        "session.run(tf.global_variables_initializer())"
      ],
      "execution_count": 72,
      "outputs": []
    },
    {
      "metadata": {
        "id": "w2pIXlOYgvqB",
        "colab_type": "text"
      },
      "cell_type": "markdown",
      "source": [
        "### Helper-function to perform optimization iterations"
      ]
    },
    {
      "metadata": {
        "id": "_DaTTbzFgvqC",
        "colab_type": "text"
      },
      "cell_type": "markdown",
      "source": [
        "There are 55,000 images in the training-set. It takes a long time to calculate the gradient of the model using all these images. We therefore only use a small batch of images in each iteration of the optimizer.\n",
        "\n",
        "If your computer crashes or becomes very slow because you run out of RAM, then you may try and lower this number, but you may then need to perform more optimization iterations."
      ]
    },
    {
      "metadata": {
        "id": "PYoVnjiagvqD",
        "colab_type": "code",
        "colab": {
          "autoexec": {
            "startup": false,
            "wait_interval": 0
          },
          "base_uri": "https://localhost:8080/",
          "height": 37
        },
        "outputId": "fb9658f7-1a95-4160-c645-537d768ab57e",
        "executionInfo": {
          "status": "ok",
          "timestamp": 1531191913903,
          "user_tz": -480,
          "elapsed": 1096,
          "user": {
            "displayName": "Kass PK",
            "photoUrl": "//lh3.googleusercontent.com/-dkFAdLj8zZc/AAAAAAAAAAI/AAAAAAAABkw/SjBtm6dmm5k/s50-c-k-no/photo.jpg",
            "userId": "117332463888572636111"
          }
        }
      },
      "cell_type": "code",
      "source": [
        "train_batch_size = 64"
      ],
      "execution_count": 73,
      "outputs": []
    },
    {
      "metadata": {
        "id": "j5RyT7eQgvqE",
        "colab_type": "text"
      },
      "cell_type": "markdown",
      "source": [
        "Function for performing a number of optimization iterations so as to gradually improve the variables of the network layers. In each iteration, a new batch of data is selected from the training-set and then TensorFlow executes the optimizer using those training samples.  The progress is printed every 100 iterations."
      ]
    },
    {
      "metadata": {
        "id": "xs0c4xXigvqE",
        "colab_type": "code",
        "colab": {
          "autoexec": {
            "startup": false,
            "wait_interval": 0
          },
          "base_uri": "https://localhost:8080/",
          "height": 37
        },
        "outputId": "d51b7834-c1ff-4c55-91df-583944a90cba",
        "executionInfo": {
          "status": "ok",
          "timestamp": 1531191917435,
          "user_tz": -480,
          "elapsed": 2214,
          "user": {
            "displayName": "Kass PK",
            "photoUrl": "//lh3.googleusercontent.com/-dkFAdLj8zZc/AAAAAAAAAAI/AAAAAAAABkw/SjBtm6dmm5k/s50-c-k-no/photo.jpg",
            "userId": "117332463888572636111"
          }
        }
      },
      "cell_type": "code",
      "source": [
        "# Counter for total number of iterations performed so far.\n",
        "total_iterations = 0\n",
        "\n",
        "def optimize(num_iterations):\n",
        "    # Ensure we update the global variable rather than a local copy.\n",
        "    global total_iterations\n",
        "\n",
        "    # Start-time used for printing time-usage below.\n",
        "    start_time = time.time()\n",
        "\n",
        "    for i in range(total_iterations,\n",
        "                   total_iterations + num_iterations):\n",
        "\n",
        "        # Get a batch of training examples.\n",
        "        # x_batch now holds a batch of images and\n",
        "        # y_true_batch are the true labels for those images.\n",
        "        x_batch, y_true_batch = data.train.next_batch(train_batch_size)\n",
        "\n",
        "        # Put the batch into a dict with the proper names\n",
        "        # for placeholder variables in the TensorFlow graph.\n",
        "        feed_dict_train = {x: x_batch,\n",
        "                           y_true: y_true_batch}\n",
        "\n",
        "        # Run the optimizer using this batch of training data.\n",
        "        # TensorFlow assigns the variables in feed_dict_train\n",
        "        # to the placeholder variables and then runs the optimizer.\n",
        "        session.run(optimizer, feed_dict=feed_dict_train)\n",
        "\n",
        "        # Print status every 100 iterations.\n",
        "        if i % 100 == 0:\n",
        "            # Calculate the accuracy on the training-set.\n",
        "            acc = session.run(accuracy, feed_dict=feed_dict_train)\n",
        "\n",
        "            # Message for printing.\n",
        "            msg = \"Optimization Iteration: {0:>6}, Training Accuracy: {1:>6.1%}\"\n",
        "\n",
        "            # Print it.\n",
        "            print(msg.format(i + 1, acc))\n",
        "\n",
        "    # Update the total number of iterations performed.\n",
        "    total_iterations += num_iterations\n",
        "\n",
        "    # Ending time.\n",
        "    end_time = time.time()\n",
        "\n",
        "    # Difference between start and end-times.\n",
        "    time_dif = end_time - start_time\n",
        "\n",
        "    # Print the time-usage.\n",
        "    print(\"Time usage: \" + str(timedelta(seconds=int(round(time_dif)))))"
      ],
      "execution_count": 74,
      "outputs": []
    },
    {
      "metadata": {
        "id": "2zhO0ZCKgvqG",
        "colab_type": "text"
      },
      "cell_type": "markdown",
      "source": [
        "### Helper-function to plot example errors"
      ]
    },
    {
      "metadata": {
        "id": "fu3muAnrgvqG",
        "colab_type": "text"
      },
      "cell_type": "markdown",
      "source": [
        "Function for plotting examples of images from the test-set that have been mis-classified."
      ]
    },
    {
      "metadata": {
        "id": "jM-_wqfSgvqH",
        "colab_type": "code",
        "colab": {
          "autoexec": {
            "startup": false,
            "wait_interval": 0
          },
          "base_uri": "https://localhost:8080/",
          "height": 37
        },
        "outputId": "884c5f16-6271-4605-9966-09deecc72be8",
        "executionInfo": {
          "status": "ok",
          "timestamp": 1531191919252,
          "user_tz": -480,
          "elapsed": 928,
          "user": {
            "displayName": "Kass PK",
            "photoUrl": "//lh3.googleusercontent.com/-dkFAdLj8zZc/AAAAAAAAAAI/AAAAAAAABkw/SjBtm6dmm5k/s50-c-k-no/photo.jpg",
            "userId": "117332463888572636111"
          }
        }
      },
      "cell_type": "code",
      "source": [
        "def plot_example_errors(cls_pred, correct):\n",
        "    # This function is called from print_test_accuracy() below.\n",
        "\n",
        "    # cls_pred is an array of the predicted class-number for\n",
        "    # all images in the test-set.\n",
        "\n",
        "    # correct is a boolean array whether the predicted class\n",
        "    # is equal to the true class for each image in the test-set.\n",
        "\n",
        "    # Negate the boolean array.\n",
        "    incorrect = (correct == False)\n",
        "    \n",
        "    # Get the images from the test-set that have been\n",
        "    # incorrectly classified.\n",
        "    images = data.test.images[incorrect]\n",
        "    \n",
        "    # Get the predicted classes for those images.\n",
        "    cls_pred = cls_pred[incorrect]\n",
        "\n",
        "    # Get the true classes for those images.\n",
        "    cls_true = data.test.cls[incorrect]\n",
        "    \n",
        "    # Plot the first 9 images.\n",
        "    plot_images(images=images[0:9],\n",
        "                cls_true=cls_true[0:9],\n",
        "                cls_pred=cls_pred[0:9])"
      ],
      "execution_count": 75,
      "outputs": []
    },
    {
      "metadata": {
        "id": "MBkim6yggvqJ",
        "colab_type": "text"
      },
      "cell_type": "markdown",
      "source": [
        "### Helper-function to plot confusion matrix"
      ]
    },
    {
      "metadata": {
        "id": "UVAg93NxgvqK",
        "colab_type": "code",
        "colab": {
          "autoexec": {
            "startup": false,
            "wait_interval": 0
          },
          "base_uri": "https://localhost:8080/",
          "height": 37
        },
        "outputId": "33ee1942-9685-4445-ead8-c46c090dbbf2",
        "executionInfo": {
          "status": "ok",
          "timestamp": 1531191923631,
          "user_tz": -480,
          "elapsed": 1030,
          "user": {
            "displayName": "Kass PK",
            "photoUrl": "//lh3.googleusercontent.com/-dkFAdLj8zZc/AAAAAAAAAAI/AAAAAAAABkw/SjBtm6dmm5k/s50-c-k-no/photo.jpg",
            "userId": "117332463888572636111"
          }
        }
      },
      "cell_type": "code",
      "source": [
        "def plot_confusion_matrix(cls_pred):\n",
        "    # This is called from print_test_accuracy() below.\n",
        "\n",
        "    # cls_pred is an array of the predicted class-number for\n",
        "    # all images in the test-set.\n",
        "\n",
        "    # Get the true classifications for the test-set.\n",
        "    cls_true = data.test.cls\n",
        "    \n",
        "    # Get the confusion matrix using sklearn.\n",
        "    cm = confusion_matrix(y_true=cls_true,\n",
        "                          y_pred=cls_pred)\n",
        "\n",
        "    # Print the confusion matrix as text.\n",
        "    print(cm)\n",
        "\n",
        "    # Plot the confusion matrix as an image.\n",
        "    plt.matshow(cm)\n",
        "\n",
        "    # Make various adjustments to the plot.\n",
        "    plt.colorbar()\n",
        "    tick_marks = np.arange(num_classes)\n",
        "    plt.xticks(tick_marks, range(num_classes))\n",
        "    plt.yticks(tick_marks, range(num_classes))\n",
        "    plt.xlabel('Predicted')\n",
        "    plt.ylabel('True')\n",
        "\n",
        "    # Ensure the plot is shown correctly with multiple plots\n",
        "    # in a single Notebook cell.\n",
        "    plt.show()"
      ],
      "execution_count": 76,
      "outputs": []
    },
    {
      "metadata": {
        "id": "Ahv3q4dDgvqM",
        "colab_type": "text"
      },
      "cell_type": "markdown",
      "source": [
        "### Helper-function for showing the performance"
      ]
    },
    {
      "metadata": {
        "id": "oNWRFENRgvqP",
        "colab_type": "text"
      },
      "cell_type": "markdown",
      "source": [
        "Function for printing the classification accuracy on the test-set.\n",
        "\n",
        "It takes a while to compute the classification for all the images in the test-set, that's why the results are re-used by calling the above functions directly from this function, so the classifications don't have to be recalculated by each function.\n",
        "\n",
        "Note that this function can use a lot of computer memory, which is why the test-set is split into smaller batches. If you have little RAM in your computer and it crashes, then you can try and lower the batch-size."
      ]
    },
    {
      "metadata": {
        "id": "cXgexxZ4gvqP",
        "colab_type": "code",
        "colab": {
          "autoexec": {
            "startup": false,
            "wait_interval": 0
          },
          "base_uri": "https://localhost:8080/",
          "height": 37
        },
        "outputId": "d10e8c18-d413-45ef-e64d-8ff72efd659e",
        "executionInfo": {
          "status": "ok",
          "timestamp": 1531191927719,
          "user_tz": -480,
          "elapsed": 1853,
          "user": {
            "displayName": "Kass PK",
            "photoUrl": "//lh3.googleusercontent.com/-dkFAdLj8zZc/AAAAAAAAAAI/AAAAAAAABkw/SjBtm6dmm5k/s50-c-k-no/photo.jpg",
            "userId": "117332463888572636111"
          }
        }
      },
      "cell_type": "code",
      "source": [
        "# Split the test-set into smaller batches of this size.\n",
        "test_batch_size = 256\n",
        "\n",
        "def print_test_accuracy(show_example_errors=False,\n",
        "                        show_confusion_matrix=False):\n",
        "\n",
        "    # Number of images in the test-set.\n",
        "    num_test = len(data.test.images)\n",
        "\n",
        "    # Allocate an array for the predicted classes which\n",
        "    # will be calculated in batches and filled into this array.\n",
        "    cls_pred = np.zeros(shape=num_test, dtype=np.int)\n",
        "\n",
        "    # Now calculate the predicted classes for the batches.\n",
        "    # We will just iterate through all the batches.\n",
        "    # There might be a more clever and Pythonic way of doing this.\n",
        "\n",
        "    # The starting index for the next batch is denoted i.\n",
        "    i = 0\n",
        "\n",
        "    while i < num_test:\n",
        "        # The ending index for the next batch is denoted j.\n",
        "        j = min(i + test_batch_size, num_test)\n",
        "\n",
        "        # Get the images from the test-set between index i and j.\n",
        "        images = data.test.images[i:j, :]\n",
        "\n",
        "        # Get the associated labels.\n",
        "        labels = data.test.labels[i:j, :]\n",
        "\n",
        "        # Create a feed-dict with these images and labels.\n",
        "        feed_dict = {x: images,\n",
        "                     y_true: labels}\n",
        "\n",
        "        # Calculate the predicted class using TensorFlow.\n",
        "        cls_pred[i:j] = session.run(y_pred_cls, feed_dict=feed_dict)\n",
        "\n",
        "        # Set the start-index for the next batch to the\n",
        "        # end-index of the current batch.\n",
        "        i = j\n",
        "\n",
        "    # Convenience variable for the true class-numbers of the test-set.\n",
        "    cls_true = data.test.cls\n",
        "\n",
        "    # Create a boolean array whether each image is correctly classified.\n",
        "    correct = (cls_true == cls_pred)\n",
        "\n",
        "    # Calculate the number of correctly classified images.\n",
        "    # When summing a boolean array, False means 0 and True means 1.\n",
        "    correct_sum = correct.sum()\n",
        "\n",
        "    # Classification accuracy is the number of correctly classified\n",
        "    # images divided by the total number of images in the test-set.\n",
        "    acc = float(correct_sum) / num_test\n",
        "\n",
        "    # Print the accuracy.\n",
        "    msg = \"Accuracy on Test-Set: {0:.1%} ({1} / {2})\"\n",
        "    print(msg.format(acc, correct_sum, num_test))\n",
        "\n",
        "    # Plot some examples of mis-classifications, if desired.\n",
        "    if show_example_errors:\n",
        "        print(\"Example errors:\")\n",
        "        plot_example_errors(cls_pred=cls_pred, correct=correct)\n",
        "\n",
        "    # Plot the confusion matrix, if desired.\n",
        "    if show_confusion_matrix:\n",
        "        print(\"Confusion Matrix:\")\n",
        "        plot_confusion_matrix(cls_pred=cls_pred)"
      ],
      "execution_count": 77,
      "outputs": []
    },
    {
      "metadata": {
        "id": "_0ewpK37gvqS",
        "colab_type": "text"
      },
      "cell_type": "markdown",
      "source": [
        "## Performance before any optimization\n",
        "\n",
        "The accuracy on the test-set is very low because the model variables have only been initialized and not optimized at all, so it just classifies the images randomly."
      ]
    },
    {
      "metadata": {
        "id": "a-IcknAxgvqT",
        "colab_type": "code",
        "colab": {
          "autoexec": {
            "startup": false,
            "wait_interval": 0
          },
          "base_uri": "https://localhost:8080/",
          "height": 34
        },
        "outputId": "2eadcaa7-9b5a-40e1-bfd0-16e7d4cad04a",
        "executionInfo": {
          "status": "ok",
          "timestamp": 1531191930698,
          "user_tz": -480,
          "elapsed": 1729,
          "user": {
            "displayName": "Kass PK",
            "photoUrl": "//lh3.googleusercontent.com/-dkFAdLj8zZc/AAAAAAAAAAI/AAAAAAAABkw/SjBtm6dmm5k/s50-c-k-no/photo.jpg",
            "userId": "117332463888572636111"
          }
        }
      },
      "cell_type": "code",
      "source": [
        "print_test_accuracy()"
      ],
      "execution_count": 78,
      "outputs": [
        {
          "output_type": "stream",
          "text": [
            "Accuracy on Test-Set: 13.4% (1335 / 10000)\n"
          ],
          "name": "stdout"
        }
      ]
    },
    {
      "metadata": {
        "id": "hb15HxfngvqU",
        "colab_type": "text"
      },
      "cell_type": "markdown",
      "source": [
        "## Performance after 1 optimization iteration\n",
        "\n",
        "The classification accuracy does not improve much from just 1 optimization iteration, because the learning-rate for the optimizer is set very low."
      ]
    },
    {
      "metadata": {
        "id": "8tyJ-2XpgvqW",
        "colab_type": "code",
        "colab": {
          "autoexec": {
            "startup": false,
            "wait_interval": 0
          },
          "base_uri": "https://localhost:8080/",
          "height": 51
        },
        "outputId": "2e1fcb6f-1e0f-47d3-ff19-64a8bbe920e0",
        "executionInfo": {
          "status": "ok",
          "timestamp": 1531192712021,
          "user_tz": -480,
          "elapsed": 1178,
          "user": {
            "displayName": "Kass PK",
            "photoUrl": "//lh3.googleusercontent.com/-dkFAdLj8zZc/AAAAAAAAAAI/AAAAAAAABkw/SjBtm6dmm5k/s50-c-k-no/photo.jpg",
            "userId": "117332463888572636111"
          }
        }
      },
      "cell_type": "code",
      "source": [
        "optimize(num_iterations=1)"
      ],
      "execution_count": 79,
      "outputs": [
        {
          "output_type": "stream",
          "text": [
            "Optimization Iteration:      1, Training Accuracy:  12.5%\n",
            "Time usage: 0:00:00\n"
          ],
          "name": "stdout"
        }
      ]
    },
    {
      "metadata": {
        "id": "xmFpzCaggvqZ",
        "colab_type": "code",
        "colab": {
          "autoexec": {
            "startup": false,
            "wait_interval": 0
          },
          "base_uri": "https://localhost:8080/",
          "height": 34
        },
        "outputId": "53625810-e438-4ed4-fb28-80de96a10ab2",
        "executionInfo": {
          "status": "ok",
          "timestamp": 1531192714508,
          "user_tz": -480,
          "elapsed": 1247,
          "user": {
            "displayName": "Kass PK",
            "photoUrl": "//lh3.googleusercontent.com/-dkFAdLj8zZc/AAAAAAAAAAI/AAAAAAAABkw/SjBtm6dmm5k/s50-c-k-no/photo.jpg",
            "userId": "117332463888572636111"
          }
        }
      },
      "cell_type": "code",
      "source": [
        "print_test_accuracy()"
      ],
      "execution_count": 80,
      "outputs": [
        {
          "output_type": "stream",
          "text": [
            "Accuracy on Test-Set: 12.9% (1287 / 10000)\n"
          ],
          "name": "stdout"
        }
      ]
    },
    {
      "metadata": {
        "id": "Ur-DQ12Vgvqc",
        "colab_type": "text"
      },
      "cell_type": "markdown",
      "source": [
        "## Performance after 100 optimization iterations\n",
        "\n",
        "After 100 optimization iterations, the model has significantly improved its classification accuracy."
      ]
    },
    {
      "metadata": {
        "id": "b45-bpPTgvqd",
        "colab_type": "code",
        "colab": {
          "autoexec": {
            "startup": false,
            "wait_interval": 0
          },
          "base_uri": "https://localhost:8080/",
          "height": 34
        },
        "outputId": "3de04dfb-ba4e-4a18-c469-42567b1fb668",
        "executionInfo": {
          "status": "ok",
          "timestamp": 1531192718737,
          "user_tz": -480,
          "elapsed": 1546,
          "user": {
            "displayName": "Kass PK",
            "photoUrl": "//lh3.googleusercontent.com/-dkFAdLj8zZc/AAAAAAAAAAI/AAAAAAAABkw/SjBtm6dmm5k/s50-c-k-no/photo.jpg",
            "userId": "117332463888572636111"
          }
        }
      },
      "cell_type": "code",
      "source": [
        "optimize(num_iterations=99) # We already performed 1 iteration above."
      ],
      "execution_count": 81,
      "outputs": [
        {
          "output_type": "stream",
          "text": [
            "Time usage: 0:00:01\n"
          ],
          "name": "stdout"
        }
      ]
    },
    {
      "metadata": {
        "id": "rqrM-RFwgvqe",
        "colab_type": "code",
        "colab": {
          "autoexec": {
            "startup": false,
            "wait_interval": 0
          },
          "base_uri": "https://localhost:8080/",
          "height": 296
        },
        "outputId": "da47638d-6e07-47dd-e675-0670f0a86aea",
        "executionInfo": {
          "status": "ok",
          "timestamp": 1531192722624,
          "user_tz": -480,
          "elapsed": 1696,
          "user": {
            "displayName": "Kass PK",
            "photoUrl": "//lh3.googleusercontent.com/-dkFAdLj8zZc/AAAAAAAAAAI/AAAAAAAABkw/SjBtm6dmm5k/s50-c-k-no/photo.jpg",
            "userId": "117332463888572636111"
          }
        }
      },
      "cell_type": "code",
      "source": [
        "print_test_accuracy(show_example_errors=True)"
      ],
      "execution_count": 82,
      "outputs": [
        {
          "output_type": "stream",
          "text": [
            "Accuracy on Test-Set: 61.4% (6138 / 10000)\n",
            "Example errors:\n"
          ],
          "name": "stdout"
        },
        {
          "output_type": "display_data",
          "data": {
            "image/png": "[encoded data removed]",
            "text/plain": [
              "<matplotlib.figure.Figure at 0x7f66fe5b1438>"
            ]
          },
          "metadata": {
            "tags": []
          }
        }
      ]
    },
    {
      "metadata": {
        "id": "IsT_fmxsgvqg",
        "colab_type": "text"
      },
      "cell_type": "markdown",
      "source": [
        "## Performance after 1000 optimization iterations\n",
        "\n",
        "After 1000 optimization iterations, the model has greatly increased its accuracy on the test-set to more than 90%."
      ]
    },
    {
      "metadata": {
        "id": "OyLaeGSygvqg",
        "colab_type": "code",
        "colab": {
          "autoexec": {
            "startup": false,
            "wait_interval": 0
          },
          "base_uri": "https://localhost:8080/",
          "height": 187
        },
        "outputId": "430b00c5-29ca-4257-8109-0d0ecbb6a130",
        "executionInfo": {
          "status": "ok",
          "timestamp": 1531192734505,
          "user_tz": -480,
          "elapsed": 5514,
          "user": {
            "displayName": "Kass PK",
            "photoUrl": "//lh3.googleusercontent.com/-dkFAdLj8zZc/AAAAAAAAAAI/AAAAAAAABkw/SjBtm6dmm5k/s50-c-k-no/photo.jpg",
            "userId": "117332463888572636111"
          }
        }
      },
      "cell_type": "code",
      "source": [
        "optimize(num_iterations=900) # We performed 100 iterations above."
      ],
      "execution_count": 83,
      "outputs": [
        {
          "output_type": "stream",
          "text": [
            "Optimization Iteration:    101, Training Accuracy:  68.8%\n",
            "Optimization Iteration:    201, Training Accuracy:  82.8%\n",
            "Optimization Iteration:    301, Training Accuracy:  82.8%\n",
            "Optimization Iteration:    401, Training Accuracy:  81.2%\n",
            "Optimization Iteration:    501, Training Accuracy:  93.8%\n",
            "Optimization Iteration:    601, Training Accuracy:  93.8%\n",
            "Optimization Iteration:    701, Training Accuracy:  89.1%\n",
            "Optimization Iteration:    801, Training Accuracy:  90.6%\n",
            "Optimization Iteration:    901, Training Accuracy:  98.4%\n",
            "Time usage: 0:00:05\n"
          ],
          "name": "stdout"
        }
      ]
    },
    {
      "metadata": {
        "id": "gWy3DwxGgvqi",
        "colab_type": "code",
        "colab": {
          "autoexec": {
            "startup": false,
            "wait_interval": 0
          },
          "base_uri": "https://localhost:8080/",
          "height": 296
        },
        "outputId": "f3e9a7a4-a7cc-407e-e7a2-76ce6bb55cbc",
        "executionInfo": {
          "status": "ok",
          "timestamp": 1531192738072,
          "user_tz": -480,
          "elapsed": 1342,
          "user": {
            "displayName": "Kass PK",
            "photoUrl": "//lh3.googleusercontent.com/-dkFAdLj8zZc/AAAAAAAAAAI/AAAAAAAABkw/SjBtm6dmm5k/s50-c-k-no/photo.jpg",
            "userId": "117332463888572636111"
          }
        }
      },
      "cell_type": "code",
      "source": [
        "print_test_accuracy(show_example_errors=True)"
      ],
      "execution_count": 84,
      "outputs": [
        {
          "output_type": "stream",
          "text": [
            "Accuracy on Test-Set: 94.0% (9397 / 10000)\n",
            "Example errors:\n"
          ],
          "name": "stdout"
        },
        {
          "output_type": "display_data",
          "data": {
            "image/png": "[encoded data removed]",
            "text/plain": [
              "<matplotlib.figure.Figure at 0x7f66f33da978>"
            ]
          },
          "metadata": {
            "tags": []
          }
        }
      ]
    },
    {
      "metadata": {
        "id": "HVv652zQgvqj",
        "colab_type": "text"
      },
      "cell_type": "markdown",
      "source": [
        "## Performance after 10,000 optimization iterations\n",
        "\n",
        "After 10,000 optimization iterations, the model has a classification accuracy on the test-set of about 99%."
      ]
    },
    {
      "metadata": {
        "id": "d3_eE8Pjgvqj",
        "colab_type": "code",
        "colab": {
          "autoexec": {
            "startup": false,
            "wait_interval": 0
          },
          "base_uri": "https://localhost:8080/",
          "height": 1564
        },
        "outputId": "c27b9d6b-ccaa-4f15-c033-728fb4d861d8",
        "executionInfo": {
          "status": "ok",
          "timestamp": 1531192794227,
          "user_tz": -480,
          "elapsed": 48164,
          "user": {
            "displayName": "Kass PK",
            "photoUrl": "//lh3.googleusercontent.com/-dkFAdLj8zZc/AAAAAAAAAAI/AAAAAAAABkw/SjBtm6dmm5k/s50-c-k-no/photo.jpg",
            "userId": "117332463888572636111"
          }
        }
      },
      "cell_type": "code",
      "source": [
        "optimize(num_iterations=9000) # We performed 1000 iterations above."
      ],
      "execution_count": 85,
      "outputs": [
        {
          "output_type": "stream",
          "text": [
            "Optimization Iteration:   1001, Training Accuracy:  90.6%\n",
            "Optimization Iteration:   1101, Training Accuracy:  95.3%\n",
            "Optimization Iteration:   1201, Training Accuracy:  85.9%\n",
            "Optimization Iteration:   1301, Training Accuracy:  98.4%\n",
            "Optimization Iteration:   1401, Training Accuracy:  95.3%\n",
            "Optimization Iteration:   1501, Training Accuracy:  93.8%\n",
            "Optimization Iteration:   1601, Training Accuracy:  96.9%\n",
            "Optimization Iteration:   1701, Training Accuracy:  98.4%\n",
            "Optimization Iteration:   1801, Training Accuracy:  96.9%\n",
            "Optimization Iteration:   1901, Training Accuracy:  98.4%\n",
            "Optimization Iteration:   2001, Training Accuracy:  95.3%\n",
            "Optimization Iteration:   2101, Training Accuracy:  98.4%\n",
            "Optimization Iteration:   2201, Training Accuracy:  95.3%\n",
            "Optimization Iteration:   2301, Training Accuracy:  98.4%\n",
            "Optimization Iteration:   2401, Training Accuracy:  98.4%\n",
            "Optimization Iteration:   2501, Training Accuracy: 100.0%\n",
            "Optimization Iteration:   2601, Training Accuracy: 100.0%\n",
            "Optimization Iteration:   2701, Training Accuracy:  98.4%\n",
            "Optimization Iteration:   2801, Training Accuracy:  93.8%\n",
            "Optimization Iteration:   2901, Training Accuracy:  93.8%\n",
            "Optimization Iteration:   3001, Training Accuracy:  98.4%\n",
            "Optimization Iteration:   3101, Training Accuracy:  98.4%\n",
            "Optimization Iteration:   3201, Training Accuracy: 100.0%\n",
            "Optimization Iteration:   3301, Training Accuracy: 100.0%\n",
            "Optimization Iteration:   3401, Training Accuracy:  96.9%\n",
            "Optimization Iteration:   3501, Training Accuracy:  96.9%\n",
            "Optimization Iteration:   3601, Training Accuracy:  96.9%\n",
            "Optimization Iteration:   3701, Training Accuracy:  93.8%\n",
            "Optimization Iteration:   3801, Training Accuracy: 100.0%\n",
            "Optimization Iteration:   3901, Training Accuracy: 100.0%\n",
            "Optimization Iteration:   4001, Training Accuracy:  96.9%\n",
            "Optimization Iteration:   4101, Training Accuracy:  98.4%\n",
            "Optimization Iteration:   4201, Training Accuracy:  98.4%\n",
            "Optimization Iteration:   4301, Training Accuracy:  98.4%\n",
            "Optimization Iteration:   4401, Training Accuracy:  95.3%\n",
            "Optimization Iteration:   4501, Training Accuracy:  95.3%\n",
            "Optimization Iteration:   4601, Training Accuracy:  98.4%\n",
            "Optimization Iteration:   4701, Training Accuracy: 100.0%\n",
            "Optimization Iteration:   4801, Training Accuracy: 100.0%\n",
            "Optimization Iteration:   4901, Training Accuracy: 100.0%\n",
            "Optimization Iteration:   5001, Training Accuracy:  98.4%\n",
            "Optimization Iteration:   5101, Training Accuracy:  95.3%\n",
            "Optimization Iteration:   5201, Training Accuracy: 100.0%\n",
            "Optimization Iteration:   5301, Training Accuracy: 100.0%\n",
            "Optimization Iteration:   5401, Training Accuracy:  98.4%\n",
            "Optimization Iteration:   5501, Training Accuracy: 100.0%\n",
            "Optimization Iteration:   5601, Training Accuracy:  98.4%\n",
            "Optimization Iteration:   5701, Training Accuracy:  95.3%\n",
            "Optimization Iteration:   5801, Training Accuracy:  98.4%\n",
            "Optimization Iteration:   5901, Training Accuracy: 100.0%\n",
            "Optimization Iteration:   6001, Training Accuracy:  95.3%\n",
            "Optimization Iteration:   6101, Training Accuracy: 100.0%\n",
            "Optimization Iteration:   6201, Training Accuracy: 100.0%\n",
            "Optimization Iteration:   6301, Training Accuracy:  98.4%\n",
            "Optimization Iteration:   6401, Training Accuracy:  96.9%\n",
            "Optimization Iteration:   6501, Training Accuracy: 100.0%\n",
            "Optimization Iteration:   6601, Training Accuracy: 100.0%\n",
            "Optimization Iteration:   6701, Training Accuracy:  96.9%\n"
          ],
          "name": "stdout"
        },
        {
          "output_type": "stream",
          "text": [
            "Optimization Iteration:   6801, Training Accuracy: 100.0%\n",
            "Optimization Iteration:   6901, Training Accuracy:  98.4%\n",
            "Optimization Iteration:   7001, Training Accuracy:  95.3%\n",
            "Optimization Iteration:   7101, Training Accuracy:  96.9%\n",
            "Optimization Iteration:   7201, Training Accuracy: 100.0%\n",
            "Optimization Iteration:   7301, Training Accuracy:  98.4%\n",
            "Optimization Iteration:   7401, Training Accuracy: 100.0%\n",
            "Optimization Iteration:   7501, Training Accuracy:  98.4%\n",
            "Optimization Iteration:   7601, Training Accuracy:  98.4%\n",
            "Optimization Iteration:   7701, Training Accuracy:  98.4%\n",
            "Optimization Iteration:   7801, Training Accuracy:  96.9%\n",
            "Optimization Iteration:   7901, Training Accuracy: 100.0%\n",
            "Optimization Iteration:   8001, Training Accuracy: 100.0%\n",
            "Optimization Iteration:   8101, Training Accuracy:  98.4%\n",
            "Optimization Iteration:   8201, Training Accuracy: 100.0%\n",
            "Optimization Iteration:   8301, Training Accuracy: 100.0%\n",
            "Optimization Iteration:   8401, Training Accuracy:  98.4%\n",
            "Optimization Iteration:   8501, Training Accuracy: 100.0%\n",
            "Optimization Iteration:   8601, Training Accuracy: 100.0%\n",
            "Optimization Iteration:   8701, Training Accuracy: 100.0%\n",
            "Optimization Iteration:   8801, Training Accuracy: 100.0%\n",
            "Optimization Iteration:   8901, Training Accuracy: 100.0%\n",
            "Optimization Iteration:   9001, Training Accuracy:  95.3%\n",
            "Optimization Iteration:   9101, Training Accuracy: 100.0%\n",
            "Optimization Iteration:   9201, Training Accuracy: 100.0%\n",
            "Optimization Iteration:   9301, Training Accuracy: 100.0%\n",
            "Optimization Iteration:   9401, Training Accuracy: 100.0%\n",
            "Optimization Iteration:   9501, Training Accuracy:  98.4%\n",
            "Optimization Iteration:   9601, Training Accuracy: 100.0%\n",
            "Optimization Iteration:   9701, Training Accuracy: 100.0%\n",
            "Optimization Iteration:   9801, Training Accuracy: 100.0%\n",
            "Optimization Iteration:   9901, Training Accuracy: 100.0%\n",
            "Time usage: 0:00:47\n"
          ],
          "name": "stdout"
        }
      ]
    },
    {
      "metadata": {
        "id": "JFE1qu0Ogvql",
        "colab_type": "code",
        "colab": {
          "autoexec": {
            "startup": false,
            "wait_interval": 0
          },
          "base_uri": "https://localhost:8080/",
          "height": 726
        },
        "outputId": "07d48673-d063-4094-be51-26ac9fd327ad",
        "executionInfo": {
          "status": "ok",
          "timestamp": 1531192806227,
          "user_tz": -480,
          "elapsed": 1914,
          "user": {
            "displayName": "Kass PK",
            "photoUrl": "//lh3.googleusercontent.com/-dkFAdLj8zZc/AAAAAAAAAAI/AAAAAAAABkw/SjBtm6dmm5k/s50-c-k-no/photo.jpg",
            "userId": "117332463888572636111"
          }
        }
      },
      "cell_type": "code",
      "source": [
        "print_test_accuracy(show_example_errors=True,\n",
        "                    show_confusion_matrix=True)"
      ],
      "execution_count": 86,
      "outputs": [
        {
          "output_type": "stream",
          "text": [
            "Accuracy on Test-Set: 98.6% (9864 / 10000)\n",
            "Example errors:\n"
          ],
          "name": "stdout"
        },
        {
          "output_type": "display_data",
          "data": {
            "image/png": "[encoded data removed]",
            "text/plain": [
              "<matplotlib.figure.Figure at 0x7f66f30faa20>"
            ]
          },
          "metadata": {
            "tags": []
          }
        },
        {
          "output_type": "stream",
          "text": [
            "Confusion Matrix:\n",
            "[[ 974    0    1    0    0    0    0    1    4    0]\n",
            " [   0 1129    3    0    0    0    0    0    3    0]\n",
            " [   1    2 1023    0    0    0    0    4    2    0]\n",
            " [   1    0    1 1004    0    0    0    2    2    0]\n",
            " [   0    1    3    0  962    0    1    2    3   10]\n",
            " [   2    0    0   11    0  872    1    1    3    2]\n",
            " [  10    3    0    1    1    3  939    0    1    0]\n",
            " [   0    2    7    1    0    0    0 1017    1    0]\n",
            " [   4    0    4    2    1    2    0    2  956    3]\n",
            " [   3    5    0    1    3    1    0    5    3  988]]\n"
          ],
          "name": "stdout"
        },
        {
          "output_type": "display_data",
          "data": {
            "image/png": "[encoded data removed]",
            "text/plain": [
              "<matplotlib.figure.Figure at 0x7f66f2fe75c0>"
            ]
          },
          "metadata": {
            "tags": []
          }
        }
      ]
    },
    {
      "metadata": {
        "id": "SFhF5nVlgvqo",
        "colab_type": "text"
      },
      "cell_type": "markdown",
      "source": [
        "## Visualization of Weights and Layers\n",
        "\n",
        "In trying to understand why the convolutional neural network can recognize handwritten digits, we will now visualize the weights of the convolutional filters and the resulting output images."
      ]
    },
    {
      "metadata": {
        "id": "_gCMVVLcgvqp",
        "colab_type": "text"
      },
      "cell_type": "markdown",
      "source": [
        "### Helper-function for plotting convolutional weights"
      ]
    },
    {
      "metadata": {
        "id": "Bo_tFkHbgvqq",
        "colab_type": "code",
        "colab": {
          "autoexec": {
            "startup": false,
            "wait_interval": 0
          },
          "base_uri": "https://localhost:8080/",
          "height": 37
        },
        "outputId": "11ff8b91-9e10-4814-ee79-554fcd04457d",
        "executionInfo": {
          "status": "ok",
          "timestamp": 1531192814686,
          "user_tz": -480,
          "elapsed": 1249,
          "user": {
            "displayName": "Kass PK",
            "photoUrl": "//lh3.googleusercontent.com/-dkFAdLj8zZc/AAAAAAAAAAI/AAAAAAAABkw/SjBtm6dmm5k/s50-c-k-no/photo.jpg",
            "userId": "117332463888572636111"
          }
        }
      },
      "cell_type": "code",
      "source": [
        "def plot_conv_weights(weights, input_channel=0):\n",
        "    # Assume weights are TensorFlow ops for 4-dim variables\n",
        "    # e.g. weights_conv1 or weights_conv2.\n",
        "    \n",
        "    # Retrieve the values of the weight-variables from TensorFlow.\n",
        "    # A feed-dict is not necessary because nothing is calculated.\n",
        "    w = session.run(weights)\n",
        "\n",
        "    # Get the lowest and highest values for the weights.\n",
        "    # This is used to correct the colour intensity across\n",
        "    # the images so they can be compared with each other.\n",
        "    w_min = np.min(w)\n",
        "    w_max = np.max(w)\n",
        "\n",
        "    # Number of filters used in the conv. layer.\n",
        "    num_filters = w.shape[3]\n",
        "\n",
        "    # Number of grids to plot.\n",
        "    # Rounded-up, square-root of the number of filters.\n",
        "    num_grids = math.ceil(math.sqrt(num_filters))\n",
        "    \n",
        "    # Create figure with a grid of sub-plots.\n",
        "    fig, axes = plt.subplots(num_grids, num_grids)\n",
        "\n",
        "    # Plot all the filter-weights.\n",
        "    for i, ax in enumerate(axes.flat):\n",
        "        # Only plot the valid filter-weights.\n",
        "        if i<num_filters:\n",
        "            # Get the weights for the i'th filter of the input channel.\n",
        "            # See new_conv_layer() for details on the format\n",
        "            # of this 4-dim tensor.\n",
        "            img = w[:, :, input_channel, i]\n",
        "\n",
        "            # Plot image.\n",
        "            ax.imshow(img, vmin=w_min, vmax=w_max,\n",
        "                      interpolation='nearest', cmap='seismic')\n",
        "        \n",
        "        # Remove ticks from the plot.\n",
        "        ax.set_xticks([])\n",
        "        ax.set_yticks([])\n",
        "    \n",
        "    # Ensure the plot is shown correctly with multiple plots\n",
        "    # in a single Notebook cell.\n",
        "    plt.show()"
      ],
      "execution_count": 87,
      "outputs": []
    },
    {
      "metadata": {
        "id": "8Fr_wKQfgvqs",
        "colab_type": "text"
      },
      "cell_type": "markdown",
      "source": [
        "### Helper-function for plotting the output of a convolutional layer"
      ]
    },
    {
      "metadata": {
        "id": "4olFIvgygvqs",
        "colab_type": "code",
        "colab": {
          "autoexec": {
            "startup": false,
            "wait_interval": 0
          },
          "base_uri": "https://localhost:8080/",
          "height": 37
        },
        "outputId": "506ac0ce-7a14-463d-fc9c-1b68e47b07de",
        "executionInfo": {
          "status": "ok",
          "timestamp": 1531192818158,
          "user_tz": -480,
          "elapsed": 1249,
          "user": {
            "displayName": "Kass PK",
            "photoUrl": "//lh3.googleusercontent.com/-dkFAdLj8zZc/AAAAAAAAAAI/AAAAAAAABkw/SjBtm6dmm5k/s50-c-k-no/photo.jpg",
            "userId": "117332463888572636111"
          }
        }
      },
      "cell_type": "code",
      "source": [
        "def plot_conv_layer(layer, image):\n",
        "    # Assume layer is a TensorFlow op that outputs a 4-dim tensor\n",
        "    # which is the output of a convolutional layer,\n",
        "    # e.g. layer_conv1 or layer_conv2.\n",
        "\n",
        "    # Create a feed-dict containing just one image.\n",
        "    # Note that we don't need to feed y_true because it is\n",
        "    # not used in this calculation.\n",
        "    feed_dict = {x: [image]}\n",
        "\n",
        "    # Calculate and retrieve the output values of the layer\n",
        "    # when inputting that image.\n",
        "    values = session.run(layer, feed_dict=feed_dict)\n",
        "\n",
        "    # Number of filters used in the conv. layer.\n",
        "    num_filters = values.shape[3]\n",
        "\n",
        "    # Number of grids to plot.\n",
        "    # Rounded-up, square-root of the number of filters.\n",
        "    num_grids = math.ceil(math.sqrt(num_filters))\n",
        "    \n",
        "    # Create figure with a grid of sub-plots.\n",
        "    fig, axes = plt.subplots(num_grids, num_grids)\n",
        "\n",
        "    # Plot the output images of all the filters.\n",
        "    for i, ax in enumerate(axes.flat):\n",
        "        # Only plot the images for valid filters.\n",
        "        if i<num_filters:\n",
        "            # Get the output image of using the i'th filter.\n",
        "            # See new_conv_layer() for details on the format\n",
        "            # of this 4-dim tensor.\n",
        "            img = values[0, :, :, i]\n",
        "\n",
        "            # Plot image.\n",
        "            ax.imshow(img, interpolation='nearest', cmap='binary')\n",
        "        \n",
        "        # Remove ticks from the plot.\n",
        "        ax.set_xticks([])\n",
        "        ax.set_yticks([])\n",
        "    \n",
        "    # Ensure the plot is shown correctly with multiple plots\n",
        "    # in a single Notebook cell.\n",
        "    plt.show()"
      ],
      "execution_count": 88,
      "outputs": []
    },
    {
      "metadata": {
        "id": "wG2WtQoxgvqt",
        "colab_type": "text"
      },
      "cell_type": "markdown",
      "source": [
        "### Input Images"
      ]
    },
    {
      "metadata": {
        "id": "QupaPdKtgvqu",
        "colab_type": "text"
      },
      "cell_type": "markdown",
      "source": [
        "Helper-function for plotting an image."
      ]
    },
    {
      "metadata": {
        "id": "R-XnfCxfgvqu",
        "colab_type": "code",
        "colab": {
          "autoexec": {
            "startup": false,
            "wait_interval": 0
          },
          "base_uri": "https://localhost:8080/",
          "height": 37
        },
        "outputId": "00c4077e-71b6-4c9f-f213-95961475fabd",
        "executionInfo": {
          "status": "ok",
          "timestamp": 1531192822681,
          "user_tz": -480,
          "elapsed": 1118,
          "user": {
            "displayName": "Kass PK",
            "photoUrl": "//lh3.googleusercontent.com/-dkFAdLj8zZc/AAAAAAAAAAI/AAAAAAAABkw/SjBtm6dmm5k/s50-c-k-no/photo.jpg",
            "userId": "117332463888572636111"
          }
        }
      },
      "cell_type": "code",
      "source": [
        "def plot_image(image):\n",
        "    plt.imshow(image.reshape(img_shape),\n",
        "               interpolation='nearest',\n",
        "               cmap='binary')\n",
        "\n",
        "    plt.show()"
      ],
      "execution_count": 89,
      "outputs": []
    },
    {
      "metadata": {
        "id": "Cs9xASzUgvqw",
        "colab_type": "text"
      },
      "cell_type": "markdown",
      "source": [
        "Plot an image from the test-set which will be used as an example below."
      ]
    },
    {
      "metadata": {
        "id": "Jbeqf2Mtgvqw",
        "colab_type": "code",
        "colab": {
          "autoexec": {
            "startup": false,
            "wait_interval": 0
          },
          "base_uri": "https://localhost:8080/",
          "height": 265
        },
        "outputId": "5affbbab-3fc7-420d-befa-922e00a4dfa9",
        "executionInfo": {
          "status": "ok",
          "timestamp": 1531192824847,
          "user_tz": -480,
          "elapsed": 1548,
          "user": {
            "displayName": "Kass PK",
            "photoUrl": "//lh3.googleusercontent.com/-dkFAdLj8zZc/AAAAAAAAAAI/AAAAAAAABkw/SjBtm6dmm5k/s50-c-k-no/photo.jpg",
            "userId": "117332463888572636111"
          }
        }
      },
      "cell_type": "code",
      "source": [
        "image1 = data.test.images[0]\n",
        "plot_image(image1)"
      ],
      "execution_count": 90,
      "outputs": [
        {
          "output_type": "display_data",
          "data": {
            "image/png": "[encoded data removed]",
            "text/plain": [
              "<matplotlib.figure.Figure at 0x7f66f33da320>"
            ]
          },
          "metadata": {
            "tags": []
          }
        }
      ]
    },
    {
      "metadata": {
        "id": "cR3um3zogvqz",
        "colab_type": "text"
      },
      "cell_type": "markdown",
      "source": [
        "Plot another example image from the test-set."
      ]
    },
    {
      "metadata": {
        "id": "jcU2bcPZgvqz",
        "colab_type": "code",
        "colab": {
          "autoexec": {
            "startup": false,
            "wait_interval": 0
          },
          "base_uri": "https://localhost:8080/",
          "height": 265
        },
        "outputId": "a2031daf-8506-4e94-9985-6e7d928bb7b2",
        "executionInfo": {
          "status": "ok",
          "timestamp": 1531192827692,
          "user_tz": -480,
          "elapsed": 1234,
          "user": {
            "displayName": "Kass PK",
            "photoUrl": "//lh3.googleusercontent.com/-dkFAdLj8zZc/AAAAAAAAAAI/AAAAAAAABkw/SjBtm6dmm5k/s50-c-k-no/photo.jpg",
            "userId": "117332463888572636111"
          }
        }
      },
      "cell_type": "code",
      "source": [
        "image2 = data.test.images[3]\n",
        "plot_image(image2)"
      ],
      "execution_count": 91,
      "outputs": [
        {
          "output_type": "display_data",
          "data": {
            "image/png": "[encoded data removed]",
            "text/plain": [
              "<matplotlib.figure.Figure at 0x7f66f33b3240>"
            ]
          },
          "metadata": {
            "tags": []
          }
        }
      ]
    },
    {
      "metadata": {
        "id": "wZY_ELyNgvq2",
        "colab_type": "text"
      },
      "cell_type": "markdown",
      "source": [
        "### Convolution Layer 1"
      ]
    },
    {
      "metadata": {
        "id": "CejZgEtegvq3",
        "colab_type": "text"
      },
      "cell_type": "markdown",
      "source": [
        "Now plot the filter-weights for the first convolutional layer.\n",
        "\n",
        "Note that positive weights are red and negative weights are blue."
      ]
    },
    {
      "metadata": {
        "id": "WdpcDyAbgvq3",
        "colab_type": "code",
        "colab": {
          "autoexec": {
            "startup": false,
            "wait_interval": 0
          },
          "base_uri": "https://localhost:8080/",
          "height": 248
        },
        "outputId": "fd9ef95c-380f-423b-a79e-90daf1244465",
        "executionInfo": {
          "status": "ok",
          "timestamp": 1531192833019,
          "user_tz": -480,
          "elapsed": 1591,
          "user": {
            "displayName": "Kass PK",
            "photoUrl": "//lh3.googleusercontent.com/-dkFAdLj8zZc/AAAAAAAAAAI/AAAAAAAABkw/SjBtm6dmm5k/s50-c-k-no/photo.jpg",
            "userId": "117332463888572636111"
          }
        }
      },
      "cell_type": "code",
      "source": [
        "plot_conv_weights(weights=weights_conv1)"
      ],
      "execution_count": 92,
      "outputs": [
        {
          "output_type": "display_data",
          "data": {
            "image/png": "[encoded data removed]",
            "text/plain": [
              "<matplotlib.figure.Figure at 0x7f66f2f0af28>"
            ]
          },
          "metadata": {
            "tags": []
          }
        }
      ]
    },
    {
      "metadata": {
        "id": "f_Mvtlx0gvq5",
        "colab_type": "text"
      },
      "cell_type": "markdown",
      "source": [
        "Applying each of these convolutional filters to the first input image gives the following output images, which are then used as input to the second convolutional layer. Note that these images are down-sampled to 14 x 14 pixels which is half the resolution of the original input image."
      ]
    },
    {
      "metadata": {
        "id": "uwf-2sI0gvq6",
        "colab_type": "code",
        "colab": {
          "autoexec": {
            "startup": false,
            "wait_interval": 0
          },
          "base_uri": "https://localhost:8080/",
          "height": 248
        },
        "outputId": "1e894c45-2735-445e-a5a1-dbcac46d7ce7",
        "executionInfo": {
          "status": "ok",
          "timestamp": 1531192835590,
          "user_tz": -480,
          "elapsed": 1715,
          "user": {
            "displayName": "Kass PK",
            "photoUrl": "//lh3.googleusercontent.com/-dkFAdLj8zZc/AAAAAAAAAAI/AAAAAAAABkw/SjBtm6dmm5k/s50-c-k-no/photo.jpg",
            "userId": "117332463888572636111"
          }
        }
      },
      "cell_type": "code",
      "source": [
        "plot_conv_layer(layer=layer_conv1, image=image1)"
      ],
      "execution_count": 93,
      "outputs": [
        {
          "output_type": "display_data",
          "data": {
            "image/png": "[encoded data removed]",
            "text/plain": [
              "<matplotlib.figure.Figure at 0x7f66f3136710>"
            ]
          },
          "metadata": {
            "tags": []
          }
        }
      ]
    },
    {
      "metadata": {
        "id": "i3lRy0iQgvq7",
        "colab_type": "text"
      },
      "cell_type": "markdown",
      "source": [
        "The following images are the results of applying the convolutional filters to the second image."
      ]
    },
    {
      "metadata": {
        "id": "7rlpTzwCgvq-",
        "colab_type": "code",
        "colab": {
          "autoexec": {
            "startup": false,
            "wait_interval": 0
          },
          "base_uri": "https://localhost:8080/",
          "height": 248
        },
        "outputId": "c4505936-913a-47b2-85d0-c9be282a279b",
        "executionInfo": {
          "status": "ok",
          "timestamp": 1531192838486,
          "user_tz": -480,
          "elapsed": 1405,
          "user": {
            "displayName": "Kass PK",
            "photoUrl": "//lh3.googleusercontent.com/-dkFAdLj8zZc/AAAAAAAAAAI/AAAAAAAABkw/SjBtm6dmm5k/s50-c-k-no/photo.jpg",
            "userId": "117332463888572636111"
          }
        }
      },
      "cell_type": "code",
      "source": [
        "plot_conv_layer(layer=layer_conv1, image=image2)"
      ],
      "execution_count": 94,
      "outputs": [
        {
          "output_type": "display_data",
          "data": {
            "image/png": "[encoded data removed]",
            "text/plain": [
              "<matplotlib.figure.Figure at 0x7f66fef372b0>"
            ]
          },
          "metadata": {
            "tags": []
          }
        }
      ]
    },
    {
      "metadata": {
        "id": "DknacVrNgvrB",
        "colab_type": "text"
      },
      "cell_type": "markdown",
      "source": [
        "It is difficult to see from these images what the purpose of the convolutional filters might be. It appears that they have merely created several variations of the input image, as if light was shining from different angles and casting shadows in the image."
      ]
    },
    {
      "metadata": {
        "id": "mXDVUKqTgvrB",
        "colab_type": "text"
      },
      "cell_type": "markdown",
      "source": [
        "### Convolution Layer 2"
      ]
    },
    {
      "metadata": {
        "id": "61-q6ad4gvrC",
        "colab_type": "text"
      },
      "cell_type": "markdown",
      "source": [
        "Now plot the filter-weights for the second convolutional layer.\n",
        "\n",
        "There are 16 output channels from the first conv-layer, which means there are 16 input channels to the second conv-layer. The second conv-layer has a set of filter-weights for each of its input channels. We start by plotting the filter-weigths for the first channel.\n",
        "\n",
        "Note again that positive weights are red and negative weights are blue."
      ]
    },
    {
      "metadata": {
        "id": "GPMrOfNhgvrC",
        "colab_type": "code",
        "colab": {
          "autoexec": {
            "startup": false,
            "wait_interval": 0
          },
          "base_uri": "https://localhost:8080/",
          "height": 248
        },
        "outputId": "08ed8c0d-4349-4d19-8a7d-ac411c80d823",
        "executionInfo": {
          "status": "ok",
          "timestamp": 1531192843464,
          "user_tz": -480,
          "elapsed": 2662,
          "user": {
            "displayName": "Kass PK",
            "photoUrl": "//lh3.googleusercontent.com/-dkFAdLj8zZc/AAAAAAAAAAI/AAAAAAAABkw/SjBtm6dmm5k/s50-c-k-no/photo.jpg",
            "userId": "117332463888572636111"
          }
        }
      },
      "cell_type": "code",
      "source": [
        "plot_conv_weights(weights=weights_conv2, input_channel=0)"
      ],
      "execution_count": 95,
      "outputs": [
        {
          "output_type": "display_data",
          "data": {
            "image/png": "[encoded data removed]",
            "text/plain": [
              "<matplotlib.figure.Figure at 0x7f66f33322e8>"
            ]
          },
          "metadata": {
            "tags": []
          }
        }
      ]
    },
    {
      "metadata": {
        "id": "WJsklUBogvrE",
        "colab_type": "text"
      },
      "cell_type": "markdown",
      "source": [
        "There are 16 input channels to the second convolutional layer, so we can make another 15 plots of filter-weights like this. We just make one more with the filter-weights for the second channel. "
      ]
    },
    {
      "metadata": {
        "id": "EyPOvV5NgvrE",
        "colab_type": "code",
        "colab": {
          "autoexec": {
            "startup": false,
            "wait_interval": 0
          },
          "base_uri": "https://localhost:8080/",
          "height": 248
        },
        "outputId": "60f3fe6f-810f-403d-f2e6-f9247c54fd19",
        "executionInfo": {
          "status": "ok",
          "timestamp": 1531192848957,
          "user_tz": -480,
          "elapsed": 2977,
          "user": {
            "displayName": "Kass PK",
            "photoUrl": "//lh3.googleusercontent.com/-dkFAdLj8zZc/AAAAAAAAAAI/AAAAAAAABkw/SjBtm6dmm5k/s50-c-k-no/photo.jpg",
            "userId": "117332463888572636111"
          }
        }
      },
      "cell_type": "code",
      "source": [
        "plot_conv_weights(weights=weights_conv2, input_channel=1)"
      ],
      "execution_count": 96,
      "outputs": [
        {
          "output_type": "display_data",
          "data": {
            "image/png": "[encoded data removed]",
            "text/plain": [
              "<matplotlib.figure.Figure at 0x7f66f3322cc0>"
            ]
          },
          "metadata": {
            "tags": []
          }
        }
      ]
    },
    {
      "metadata": {
        "id": "qGyuruhcgvrF",
        "colab_type": "text"
      },
      "cell_type": "markdown",
      "source": [
        "It can be difficult to understand and keep track of how these filters are applied because of the high dimensionality.\n",
        "\n",
        "Applying these convolutional filters to the images that were ouput from the first conv-layer gives the following images.\n",
        "\n",
        "Note that these are down-sampled yet again to 7 x 7 pixels which is half the resolution of the images from the first conv-layer."
      ]
    },
    {
      "metadata": {
        "id": "_6T1NL6zgvrF",
        "colab_type": "code",
        "colab": {
          "autoexec": {
            "startup": false,
            "wait_interval": 0
          },
          "base_uri": "https://localhost:8080/",
          "height": 248
        },
        "outputId": "01edb9fc-2414-45b1-e5e7-04fe20f8a4ac",
        "executionInfo": {
          "status": "ok",
          "timestamp": 1531192853608,
          "user_tz": -480,
          "elapsed": 2850,
          "user": {
            "displayName": "Kass PK",
            "photoUrl": "//lh3.googleusercontent.com/-dkFAdLj8zZc/AAAAAAAAAAI/AAAAAAAABkw/SjBtm6dmm5k/s50-c-k-no/photo.jpg",
            "userId": "117332463888572636111"
          }
        }
      },
      "cell_type": "code",
      "source": [
        "plot_conv_layer(layer=layer_conv2, image=image1)"
      ],
      "execution_count": 97,
      "outputs": [
        {
          "output_type": "display_data",
          "data": {
            "image/png": "[encoded data removed]",
            "text/plain": [
              "<matplotlib.figure.Figure at 0x7f66f272f2b0>"
            ]
          },
          "metadata": {
            "tags": []
          }
        }
      ]
    },
    {
      "metadata": {
        "id": "lagL3DK1gvrG",
        "colab_type": "text"
      },
      "cell_type": "markdown",
      "source": [
        "And these are the results of applying the filter-weights to the second image."
      ]
    },
    {
      "metadata": {
        "id": "PjTQidvEgvrH",
        "colab_type": "code",
        "colab": {
          "autoexec": {
            "startup": false,
            "wait_interval": 0
          },
          "base_uri": "https://localhost:8080/",
          "height": 248
        },
        "outputId": "b99f343a-8904-4c5f-9855-991f73130701",
        "executionInfo": {
          "status": "ok",
          "timestamp": 1531192859404,
          "user_tz": -480,
          "elapsed": 2888,
          "user": {
            "displayName": "Kass PK",
            "photoUrl": "//lh3.googleusercontent.com/-dkFAdLj8zZc/AAAAAAAAAAI/AAAAAAAABkw/SjBtm6dmm5k/s50-c-k-no/photo.jpg",
            "userId": "117332463888572636111"
          }
        }
      },
      "cell_type": "code",
      "source": [
        ""
      ],
      "execution_count": 98,
      "outputs": [
        {
          "output_type": "display_data",
          "data": {
            "image/png": "[encoded data removed]",
            "text/plain": [
              "<matplotlib.figure.Figure at 0x7f66f32ba2b0>"
            ]
          },
          "metadata": {
            "tags": []
          }
        }
      ]
    },
    {
      "metadata": {
        "id": "TqFhtoWLgvrI",
        "colab_type": "text"
      },
      "cell_type": "markdown",
      "source": [
        "From these images, it looks like the second convolutional layer might detect lines and patterns in the input images, which are less sensitive to local variations in the original input images.\n",
        "\n",
        "These images are then flattened and input to the fully-connected layer, but that is not shown here."
      ]
    },
    {
      "metadata": {
        "id": "ORecfByIgvrI",
        "colab_type": "text"
      },
      "cell_type": "markdown",
      "source": [
        "### Close TensorFlow Session"
      ]
    },
    {
      "metadata": {
        "id": "KtcVKqVLgvrI",
        "colab_type": "text"
      },
      "cell_type": "markdown",
      "source": [
        "We are now done using TensorFlow, so we close the session to release its resources."
      ]
    },
    {
      "metadata": {
        "id": "47i6v5R9gvrI",
        "colab_type": "code",
        "colab": {
          "autoexec": {
            "startup": false,
            "wait_interval": 0
          },
          "base_uri": "https://localhost:8080/",
          "height": 37
        },
        "outputId": "01b8e3cf-9ef7-4aba-9489-e05632fc0146",
        "executionInfo": {
          "status": "ok",
          "timestamp": 1531193221318,
          "user_tz": -480,
          "elapsed": 3678,
          "user": {
            "displayName": "Kass PK",
            "photoUrl": "//lh3.googleusercontent.com/-dkFAdLj8zZc/AAAAAAAAAAI/AAAAAAAABkw/SjBtm6dmm5k/s50-c-k-no/photo.jpg",
            "userId": "117332463888572636111"
          }
        }
      },
      "cell_type": "code",
      "source": [
        "# This has been commented out in case you want to modify and experiment\n",
        "# with the Notebook without having to restart it.\n",
        "# session.close()"
      ],
      "execution_count": 100,
      "outputs": []
    },
    {
      "metadata": {
        "id": "83Ai7NOYgvrJ",
        "colab_type": "text"
      },
      "cell_type": "markdown",
      "source": [
        "## Conclusion\n",
        "\n",
        "We have seen that a Convolutional Neural Network works much better at recognizing hand-written digits. The Convolutional Network gets a classification accuracy of about 99%, or even more if you make some adjustments, compared to only 91% for the simple linear model.\n",
        "\n",
        "However, the Convolutional Network is also much more complicated to implement, and it is not obvious from looking at the filter-weights why it works and why it sometimes fails.\n",
        "\n",
        "So we would like an easier way to program Convolutional Neural Networks and we would also like a better way of visualizing their inner workings."
      ]
    }
  ]
}