{
  "nbformat": 4,
  "nbformat_minor": 0,
  "metadata": {
    "colab": {
      "name": "Day10_7.ipynb",
      "version": "0.3.2",
      "views": {},
      "default_view": {},
      "provenance": []
    },
    "kernelspec": {
      "name": "python3",
      "display_name": "Python 3"
    }
  },
  "cells": [
    {
      "metadata": {
        "id": "ONONmB0FQA98",
        "colab_type": "code",
        "colab": {
          "autoexec": {
            "startup": false,
            "wait_interval": 0
          },
          "base_uri": "https://localhost:8080/",
          "height": 37
        },
        "outputId": "24a3be08-b8b3-454f-cafa-410872de1110",
        "executionInfo": {
          "status": "ok",
          "timestamp": 1531193746903,
          "user_tz": -480,
          "elapsed": 2834,
          "user": {
            "displayName": "Kass PK",
            "photoUrl": "//lh3.googleusercontent.com/-dkFAdLj8zZc/AAAAAAAAAAI/AAAAAAAABkw/SjBtm6dmm5k/s50-c-k-no/photo.jpg",
            "userId": "117332463888572636111"
          }
        }
      },
      "cell_type": "code",
      "source": [
        "%matplotlib inline\n",
        "import matplotlib.pyplot as plt\n",
        "import tensorflow as tf\n",
        "import numpy as np\n",
        "from sklearn.metrics import confusion_matrix\n",
        "import time\n",
        "from datetime import timedelta\n",
        "import math"
      ],
      "execution_count": 1,
      "outputs": []
    },
    {
      "metadata": {
        "id": "NYGEXegxQTOI",
        "colab_type": "code",
        "colab": {
          "autoexec": {
            "startup": false,
            "wait_interval": 0
          },
          "base_uri": "https://localhost:8080/",
          "height": 34
        },
        "outputId": "e516c5d2-5b77-4e26-b6d2-7d979ce93cf5",
        "executionInfo": {
          "status": "ok",
          "timestamp": 1531193750319,
          "user_tz": -480,
          "elapsed": 942,
          "user": {
            "displayName": "Kass PK",
            "photoUrl": "//lh3.googleusercontent.com/-dkFAdLj8zZc/AAAAAAAAAAI/AAAAAAAABkw/SjBtm6dmm5k/s50-c-k-no/photo.jpg",
            "userId": "117332463888572636111"
          }
        }
      },
      "cell_type": "code",
      "source": [
        "tf.__version__"
      ],
      "execution_count": 2,
      "outputs": [
        {
          "output_type": "execute_result",
          "data": {
            "text/plain": [
              "'1.9.0-rc2'"
            ]
          },
          "metadata": {
            "tags": []
          },
          "execution_count": 2
        }
      ]
    },
    {
      "metadata": {
        "id": "BdmAfm2tQV0B",
        "colab_type": "code",
        "colab": {
          "autoexec": {
            "startup": false,
            "wait_interval": 0
          },
          "base_uri": "https://localhost:8080/",
          "height": 37
        },
        "outputId": "aa29d96d-4f54-408c-fd82-9c37520d0df2",
        "executionInfo": {
          "status": "ok",
          "timestamp": 1531193752062,
          "user_tz": -480,
          "elapsed": 850,
          "user": {
            "displayName": "Kass PK",
            "photoUrl": "//lh3.googleusercontent.com/-dkFAdLj8zZc/AAAAAAAAAAI/AAAAAAAABkw/SjBtm6dmm5k/s50-c-k-no/photo.jpg",
            "userId": "117332463888572636111"
          }
        }
      },
      "cell_type": "code",
      "source": [
        "# Convolutional Layer 1.\n",
        "filter_size1 = 5          # Convolution filters are 5 x 5 pixels.\n",
        "num_filters1 = 16         # There are 16 of these filters.\n",
        "\n",
        "# Convolutional Layer 2.\n",
        "filter_size2 = 5          # Convolution filters are 5 x 5 pixels.\n",
        "num_filters2 = 36         # There are 36 of these filters.\n",
        "\n",
        "# Fully-connected layer.\n",
        "fc_size = 128             # Number of neurons in fully-connected layer."
      ],
      "execution_count": 3,
      "outputs": []
    },
    {
      "metadata": {
        "id": "tXRHcmQ9QYxq",
        "colab_type": "code",
        "colab": {
          "autoexec": {
            "startup": false,
            "wait_interval": 0
          },
          "base_uri": "https://localhost:8080/",
          "height": 530
        },
        "outputId": "db6aab9d-e159-4760-806b-ea8e8f625eb0",
        "executionInfo": {
          "status": "ok",
          "timestamp": 1531193761820,
          "user_tz": -480,
          "elapsed": 8952,
          "user": {
            "displayName": "Kass PK",
            "photoUrl": "//lh3.googleusercontent.com/-dkFAdLj8zZc/AAAAAAAAAAI/AAAAAAAABkw/SjBtm6dmm5k/s50-c-k-no/photo.jpg",
            "userId": "117332463888572636111"
          }
        }
      },
      "cell_type": "code",
      "source": [
        "from tensorflow.examples.tutorials.mnist import input_data\n",
        "data = input_data.read_data_sets('data/MNIST/', one_hot=True)\n"
      ],
      "execution_count": 4,
      "outputs": [
        {
          "output_type": "stream",
          "text": [
            "WARNING:tensorflow:From <ipython-input-4-37adf088ce13>:2: read_data_sets (from tensorflow.contrib.learn.python.learn.datasets.mnist) is deprecated and will be removed in a future version.\n",
            "Instructions for updating:\n",
            "Please use alternatives such as official/mnist/dataset.py from tensorflow/models.\n",
            "WARNING:tensorflow:From /usr/local/lib/python3.6/dist-packages/tensorflow/contrib/learn/python/learn/datasets/mnist.py:260: maybe_download (from tensorflow.contrib.learn.python.learn.datasets.base) is deprecated and will be removed in a future version.\n",
            "Instructions for updating:\n",
            "Please write your own downloading logic.\n",
            "WARNING:tensorflow:From /usr/local/lib/python3.6/dist-packages/tensorflow/contrib/learn/python/learn/datasets/base.py:252: _internal_retry.<locals>.wrap.<locals>.wrapped_fn (from tensorflow.contrib.learn.python.learn.datasets.base) is deprecated and will be removed in a future version.\n",
            "Instructions for updating:\n",
            "Please use urllib or similar directly.\n",
            "Successfully downloaded train-images-idx3-ubyte.gz 9912422 bytes.\n",
            "WARNING:tensorflow:From /usr/local/lib/python3.6/dist-packages/tensorflow/contrib/learn/python/learn/datasets/mnist.py:262: extract_images (from tensorflow.contrib.learn.python.learn.datasets.mnist) is deprecated and will be removed in a future version.\n",
            "Instructions for updating:\n",
            "Please use tf.data to implement this functionality.\n",
            "Extracting data/MNIST/train-images-idx3-ubyte.gz\n",
            "Successfully downloaded train-labels-idx1-ubyte.gz 28881 bytes.\n",
            "WARNING:tensorflow:From /usr/local/lib/python3.6/dist-packages/tensorflow/contrib/learn/python/learn/datasets/mnist.py:267: extract_labels (from tensorflow.contrib.learn.python.learn.datasets.mnist) is deprecated and will be removed in a future version.\n",
            "Instructions for updating:\n",
            "Please use tf.data to implement this functionality.\n",
            "Extracting data/MNIST/train-labels-idx1-ubyte.gz\n",
            "WARNING:tensorflow:From /usr/local/lib/python3.6/dist-packages/tensorflow/contrib/learn/python/learn/datasets/mnist.py:110: dense_to_one_hot (from tensorflow.contrib.learn.python.learn.datasets.mnist) is deprecated and will be removed in a future version.\n",
            "Instructions for updating:\n",
            "Please use tf.one_hot on tensors.\n",
            "Successfully downloaded t10k-images-idx3-ubyte.gz 1648877 bytes.\n",
            "Extracting data/MNIST/t10k-images-idx3-ubyte.gz\n",
            "Successfully downloaded t10k-labels-idx1-ubyte.gz 4542 bytes.\n",
            "Extracting data/MNIST/t10k-labels-idx1-ubyte.gz\n",
            "WARNING:tensorflow:From /usr/local/lib/python3.6/dist-packages/tensorflow/contrib/learn/python/learn/datasets/mnist.py:290: DataSet.__init__ (from tensorflow.contrib.learn.python.learn.datasets.mnist) is deprecated and will be removed in a future version.\n",
            "Instructions for updating:\n",
            "Please use alternatives such as official/mnist/dataset.py from tensorflow/models.\n"
          ],
          "name": "stdout"
        }
      ]
    },
    {
      "metadata": {
        "id": "auyzBfbNQZZk",
        "colab_type": "code",
        "colab": {
          "autoexec": {
            "startup": false,
            "wait_interval": 0
          },
          "base_uri": "https://localhost:8080/",
          "height": 85
        },
        "outputId": "226e2a01-4884-42df-8d1e-9a09da440f5a",
        "executionInfo": {
          "status": "ok",
          "timestamp": 1531193769223,
          "user_tz": -480,
          "elapsed": 807,
          "user": {
            "displayName": "Kass PK",
            "photoUrl": "//lh3.googleusercontent.com/-dkFAdLj8zZc/AAAAAAAAAAI/AAAAAAAABkw/SjBtm6dmm5k/s50-c-k-no/photo.jpg",
            "userId": "117332463888572636111"
          }
        }
      },
      "cell_type": "code",
      "source": [
        "print(\"Size of:\")\n",
        "print(\"- Training-set:\\t\\t{}\".format(len(data.train.labels)))\n",
        "print(\"- Test-set:\\t\\t{}\".format(len(data.test.labels)))\n",
        "print(\"- Validation-set:\\t{}\".format(len(data.validation.labels)))"
      ],
      "execution_count": 5,
      "outputs": [
        {
          "output_type": "stream",
          "text": [
            "Size of:\n",
            "- Training-set:\t\t55000\n",
            "- Test-set:\t\t10000\n",
            "- Validation-set:\t5000\n"
          ],
          "name": "stdout"
        }
      ]
    },
    {
      "metadata": {
        "id": "wwQOROpwQbQS",
        "colab_type": "code",
        "colab": {
          "autoexec": {
            "startup": false,
            "wait_interval": 0
          },
          "base_uri": "https://localhost:8080/",
          "height": 37
        },
        "outputId": "ab14c707-a939-43eb-e040-a880d24c7a60",
        "executionInfo": {
          "status": "ok",
          "timestamp": 1531193772265,
          "user_tz": -480,
          "elapsed": 898,
          "user": {
            "displayName": "Kass PK",
            "photoUrl": "//lh3.googleusercontent.com/-dkFAdLj8zZc/AAAAAAAAAAI/AAAAAAAABkw/SjBtm6dmm5k/s50-c-k-no/photo.jpg",
            "userId": "117332463888572636111"
          }
        }
      },
      "cell_type": "code",
      "source": [
        "data.test.cls = np.argmax(data.test.labels, axis=1)"
      ],
      "execution_count": 6,
      "outputs": []
    },
    {
      "metadata": {
        "id": "IPWgGHMoST8e",
        "colab_type": "text"
      },
      "cell_type": "markdown",
      "source": [
        "##DATA DIMENSION"
      ]
    },
    {
      "metadata": {
        "id": "4oWZ5LIaQc5c",
        "colab_type": "code",
        "colab": {
          "autoexec": {
            "startup": false,
            "wait_interval": 0
          },
          "base_uri": "https://localhost:8080/",
          "height": 37
        },
        "outputId": "c15dee45-2dff-4617-82ee-a6c028aeacbf",
        "executionInfo": {
          "status": "ok",
          "timestamp": 1531193774092,
          "user_tz": -480,
          "elapsed": 1056,
          "user": {
            "displayName": "Kass PK",
            "photoUrl": "//lh3.googleusercontent.com/-dkFAdLj8zZc/AAAAAAAAAAI/AAAAAAAABkw/SjBtm6dmm5k/s50-c-k-no/photo.jpg",
            "userId": "117332463888572636111"
          }
        }
      },
      "cell_type": "code",
      "source": [
        "# We know that MNIST images are 28 pixels in each dimension.\n",
        "img_size = 28\n",
        "\n",
        "# Images are stored in one-dimensional arrays of this length.\n",
        "img_size_flat = img_size * img_size\n",
        "\n",
        "# Tuple with height and width of images used to reshape arrays.\n",
        "img_shape = (img_size, img_size)\n",
        "\n",
        "# Number of colour channels for the images: 1 channel for gray-scale.\n",
        "num_channels = 1\n",
        "\n",
        "# Number of classes, one class for each of 10 digits.\n",
        "num_classes = 10"
      ],
      "execution_count": 7,
      "outputs": []
    },
    {
      "metadata": {
        "id": "BfHX76BvQeMF",
        "colab_type": "code",
        "colab": {
          "autoexec": {
            "startup": false,
            "wait_interval": 0
          },
          "base_uri": "https://localhost:8080/",
          "height": 37
        },
        "outputId": "87cbe8d6-ca20-4c54-b046-0052efb4bf02",
        "executionInfo": {
          "status": "ok",
          "timestamp": 1531193777463,
          "user_tz": -480,
          "elapsed": 882,
          "user": {
            "displayName": "Kass PK",
            "photoUrl": "//lh3.googleusercontent.com/-dkFAdLj8zZc/AAAAAAAAAAI/AAAAAAAABkw/SjBtm6dmm5k/s50-c-k-no/photo.jpg",
            "userId": "117332463888572636111"
          }
        }
      },
      "cell_type": "code",
      "source": [
        "def plot_images(images, cls_true, cls_pred=None):\n",
        "    assert len(images) == len(cls_true) == 9\n",
        "    \n",
        "    # Create figure with 3x3 sub-plots.\n",
        "    fig, axes = plt.subplots(3, 3)\n",
        "    fig.subplots_adjust(hspace=0.3, wspace=0.3)\n",
        "\n",
        "    for i, ax in enumerate(axes.flat):\n",
        "        # Plot image.\n",
        "        ax.imshow(images[i].reshape(img_shape), cmap='binary')\n",
        "\n",
        "        # Show true and predicted classes.\n",
        "        if cls_pred is None:\n",
        "            xlabel = \"True: {0}\".format(cls_true[i])\n",
        "        else:\n",
        "            xlabel = \"True: {0}, Pred: {1}\".format(cls_true[i], cls_pred[i])\n",
        "\n",
        "        # Show the classes as the label on the x-axis.\n",
        "        ax.set_xlabel(xlabel)\n",
        "        \n",
        "        # Remove ticks from the plot.\n",
        "        ax.set_xticks([])\n",
        "        ax.set_yticks([])\n",
        "    \n",
        "    # Ensure the plot is shown correctly with multiple plots\n",
        "    # in a single Notebook cell.\n",
        "    plt.show()"
      ],
      "execution_count": 8,
      "outputs": []
    },
    {
      "metadata": {
        "id": "tQDmDbegQfch",
        "colab_type": "code",
        "colab": {
          "autoexec": {
            "startup": false,
            "wait_interval": 0
          },
          "base_uri": "https://localhost:8080/",
          "height": 262
        },
        "outputId": "8833186a-417f-40ae-9f72-319abf6aeb7b",
        "executionInfo": {
          "status": "ok",
          "timestamp": 1531193779989,
          "user_tz": -480,
          "elapsed": 1272,
          "user": {
            "displayName": "Kass PK",
            "photoUrl": "//lh3.googleusercontent.com/-dkFAdLj8zZc/AAAAAAAAAAI/AAAAAAAABkw/SjBtm6dmm5k/s50-c-k-no/photo.jpg",
            "userId": "117332463888572636111"
          }
        }
      },
      "cell_type": "code",
      "source": [
        "# Get the first images from the test-set.\n",
        "images = data.test.images[0:9]\n",
        "\n",
        "# Get the true classes for those images.\n",
        "cls_true = data.test.cls[0:9]\n",
        "\n",
        "# Plot the images and labels using our helper-function above.\n",
        "plot_images(images=images, cls_true=cls_true)"
      ],
      "execution_count": 9,
      "outputs": [
        {
          "output_type": "display_data",
          "data": {
            "image/png": "[encoded data removed]",
            "text/plain": [
              "<matplotlib.figure.Figure at 0x7f0ce6319c50>"
            ]
          },
          "metadata": {
            "tags": []
          }
        }
      ]
    },
    {
      "metadata": {
        "id": "TUZqEYwvQhep",
        "colab_type": "code",
        "colab": {
          "autoexec": {
            "startup": false,
            "wait_interval": 0
          },
          "base_uri": "https://localhost:8080/",
          "height": 37
        },
        "outputId": "b07dcf6f-d295-4ea4-ac52-06703fa3a7ba",
        "executionInfo": {
          "status": "ok",
          "timestamp": 1531194128917,
          "user_tz": -480,
          "elapsed": 920,
          "user": {
            "displayName": "Kass PK",
            "photoUrl": "//lh3.googleusercontent.com/-dkFAdLj8zZc/AAAAAAAAAAI/AAAAAAAABkw/SjBtm6dmm5k/s50-c-k-no/photo.jpg",
            "userId": "117332463888572636111"
          }
        }
      },
      "cell_type": "code",
      "source": [
        "def new_weights(shape):\n",
        "    return tf.Variable(tf.truncated_normal(shape, stddev=0.05))"
      ],
      "execution_count": 10,
      "outputs": []
    },
    {
      "metadata": {
        "id": "oYgnXfb4Qxse",
        "colab_type": "code",
        "colab": {
          "autoexec": {
            "startup": false,
            "wait_interval": 0
          },
          "base_uri": "https://localhost:8080/",
          "height": 37
        },
        "outputId": "4e6b12d5-f168-4a6b-89c5-bf5c4bd6dcb7",
        "executionInfo": {
          "status": "ok",
          "timestamp": 1531194130513,
          "user_tz": -480,
          "elapsed": 961,
          "user": {
            "displayName": "Kass PK",
            "photoUrl": "//lh3.googleusercontent.com/-dkFAdLj8zZc/AAAAAAAAAAI/AAAAAAAABkw/SjBtm6dmm5k/s50-c-k-no/photo.jpg",
            "userId": "117332463888572636111"
          }
        }
      },
      "cell_type": "code",
      "source": [
        "def new_biases(length):\n",
        "    return tf.Variable(tf.constant(0.05, shape=[length]))"
      ],
      "execution_count": 11,
      "outputs": []
    },
    {
      "metadata": {
        "id": "LifOiPmFQzOD",
        "colab_type": "code",
        "colab": {
          "autoexec": {
            "startup": false,
            "wait_interval": 0
          },
          "base_uri": "https://localhost:8080/",
          "height": 37
        },
        "outputId": "9fe4a27b-e00a-4109-da39-bfb753abc193",
        "executionInfo": {
          "status": "ok",
          "timestamp": 1531194138626,
          "user_tz": -480,
          "elapsed": 767,
          "user": {
            "displayName": "Kass PK",
            "photoUrl": "//lh3.googleusercontent.com/-dkFAdLj8zZc/AAAAAAAAAAI/AAAAAAAABkw/SjBtm6dmm5k/s50-c-k-no/photo.jpg",
            "userId": "117332463888572636111"
          }
        }
      },
      "cell_type": "code",
      "source": [
        "def new_conv_layer(input,              # The previous layer.\n",
        "                   num_input_channels, # Num. channels in prev. layer.\n",
        "                   filter_size,        # Width and height of each filter.\n",
        "                   num_filters,        # Number of filters.\n",
        "                   use_pooling=True):  # Use 2x2 max-pooling.\n",
        "\n",
        "    # Shape of the filter-weights for the convolution.\n",
        "    # This format is determined by the TensorFlow API.\n",
        "    shape = [filter_size, filter_size, num_input_channels, num_filters]\n",
        "\n",
        "    # Create new weights aka. filters with the given shape.\n",
        "    weights = new_weights(shape=shape)\n",
        "\n",
        "    # Create new biases, one for each filter.\n",
        "    biases = new_biases(length=num_filters)\n",
        "\n",
        "    # Create the TensorFlow operation for convolution.\n",
        "    # Note the strides are set to 1 in all dimensions.\n",
        "    # The first and last stride must always be 1,\n",
        "    # because the first is for the image-number and\n",
        "    # the last is for the input-channel.\n",
        "    # But e.g. strides=[1, 2, 2, 1] would mean that the filter\n",
        "    # is moved 2 pixels across the x- and y-axis of the image.\n",
        "    # The padding is set to 'SAME' which means the input image\n",
        "    # is padded with zeroes so the size of the output is the same.\n",
        "    layer = tf.nn.conv2d(input=input,\n",
        "                         filter=weights,\n",
        "                         strides=[1, 1, 1, 1],\n",
        "                         padding='SAME')\n",
        "\n",
        "    # Add the biases to the results of the convolution.\n",
        "    # A bias-value is added to each filter-channel.\n",
        "    layer += biases\n",
        "\n",
        "    # Use pooling to down-sample the image resolution?\n",
        "    if use_pooling:\n",
        "        # This is 2x2 max-pooling, which means that we\n",
        "        # consider 2x2 windows and select the largest value\n",
        "        # in each window. Then we move 2 pixels to the next window.\n",
        "        layer = tf.nn.max_pool(value=layer,\n",
        "                               ksize=[1, 2, 2, 1],\n",
        "                               strides=[1, 2, 2, 1],\n",
        "                               padding='SAME')\n",
        "\n",
        "    # Rectified Linear Unit (ReLU).\n",
        "    # It calculates max(x, 0) for each input pixel x.\n",
        "    # This adds some non-linearity to the formula and allows us\n",
        "    # to learn more complicated functions.\n",
        "    layer = tf.nn.relu(layer)\n",
        "\n",
        "    # Note that ReLU is normally executed before the pooling,\n",
        "    # but since relu(max_pool(x)) == max_pool(relu(x)) we can\n",
        "    # save 75% of the relu-operations by max-pooling first.\n",
        "\n",
        "    # We return both the resulting layer and the filter-weights\n",
        "    # because we will plot the weights later.\n",
        "    return layer, weights"
      ],
      "execution_count": 13,
      "outputs": []
    },
    {
      "metadata": {
        "id": "YQoJvJPbQz6_",
        "colab_type": "code",
        "colab": {
          "autoexec": {
            "startup": false,
            "wait_interval": 0
          },
          "base_uri": "https://localhost:8080/",
          "height": 37
        },
        "outputId": "94895eb5-91aa-4c71-c972-9cab70ecce8f",
        "executionInfo": {
          "status": "ok",
          "timestamp": 1531194134511,
          "user_tz": -480,
          "elapsed": 1312,
          "user": {
            "displayName": "Kass PK",
            "photoUrl": "//lh3.googleusercontent.com/-dkFAdLj8zZc/AAAAAAAAAAI/AAAAAAAABkw/SjBtm6dmm5k/s50-c-k-no/photo.jpg",
            "userId": "117332463888572636111"
          }
        }
      },
      "cell_type": "code",
      "source": [
        "def flatten_layer(layer):\n",
        "    # Get the shape of the input layer.\n",
        "    layer_shape = layer.get_shape()\n",
        "\n",
        "    # The shape of the input layer is assumed to be:\n",
        "    # layer_shape == [num_images, img_height, img_width, num_channels]\n",
        "\n",
        "    # The number of features is: img_height * img_width * num_channels\n",
        "    # We can use a function from TensorFlow to calculate this.\n",
        "    num_features = layer_shape[1:4].num_elements()\n",
        "    \n",
        "    # Reshape the layer to [num_images, num_features].\n",
        "    # Note that we just set the size of the second dimension\n",
        "    # to num_features and the size of the first dimension to -1\n",
        "    # which means the size in that dimension is calculated\n",
        "    # so the total size of the tensor is unchanged from the reshaping.\n",
        "    layer_flat = tf.reshape(layer, [-1, num_features])\n",
        "\n",
        "    # The shape of the flattened layer is now:\n",
        "    # [num_images, img_height * img_width * num_channels]\n",
        "\n",
        "    # Return both the flattened layer and the number of features.\n",
        "    return layer_flat, num_features"
      ],
      "execution_count": 12,
      "outputs": []
    },
    {
      "metadata": {
        "id": "9CJSnv13Q2zQ",
        "colab_type": "code",
        "colab": {
          "autoexec": {
            "startup": false,
            "wait_interval": 0
          },
          "base_uri": "https://localhost:8080/",
          "height": 37
        },
        "outputId": "c3a7a651-278f-44ff-df73-9a5a6eba6529",
        "executionInfo": {
          "status": "ok",
          "timestamp": 1531194148843,
          "user_tz": -480,
          "elapsed": 854,
          "user": {
            "displayName": "Kass PK",
            "photoUrl": "//lh3.googleusercontent.com/-dkFAdLj8zZc/AAAAAAAAAAI/AAAAAAAABkw/SjBtm6dmm5k/s50-c-k-no/photo.jpg",
            "userId": "117332463888572636111"
          }
        }
      },
      "cell_type": "code",
      "source": [
        "def new_fc_layer(input,          # The previous layer.\n",
        "                 num_inputs,     # Num. inputs from prev. layer.\n",
        "                 num_outputs,    # Num. outputs.\n",
        "                 use_relu=True): # Use Rectified Linear Unit (ReLU)?\n",
        "\n",
        "    # Create new weights and biases.\n",
        "    weights = new_weights(shape=[num_inputs, num_outputs])\n",
        "    biases = new_biases(length=num_outputs)\n",
        "\n",
        "    # Calculate the layer as the matrix multiplication of\n",
        "    # the input and weights, and then add the bias-values.\n",
        "    layer = tf.matmul(input, weights) + biases\n",
        "\n",
        "    # Use ReLU?\n",
        "    if use_relu:\n",
        "        layer = tf.nn.relu(layer)\n",
        "\n",
        "    return layer"
      ],
      "execution_count": 15,
      "outputs": []
    },
    {
      "metadata": {
        "id": "p2RMh_kTQ4pj",
        "colab_type": "code",
        "colab": {
          "autoexec": {
            "startup": false,
            "wait_interval": 0
          },
          "base_uri": "https://localhost:8080/",
          "height": 37
        },
        "outputId": "30af438e-a2b5-404e-d647-e9d0a89eb4ca",
        "executionInfo": {
          "status": "ok",
          "timestamp": 1531194152694,
          "user_tz": -480,
          "elapsed": 988,
          "user": {
            "displayName": "Kass PK",
            "photoUrl": "//lh3.googleusercontent.com/-dkFAdLj8zZc/AAAAAAAAAAI/AAAAAAAABkw/SjBtm6dmm5k/s50-c-k-no/photo.jpg",
            "userId": "117332463888572636111"
          }
        }
      },
      "cell_type": "code",
      "source": [
        "x = tf.placeholder(tf.float32, shape=[None, img_size_flat], name='x')"
      ],
      "execution_count": 17,
      "outputs": []
    },
    {
      "metadata": {
        "id": "S6oj-8K1Q58f",
        "colab_type": "code",
        "colab": {
          "autoexec": {
            "startup": false,
            "wait_interval": 0
          },
          "base_uri": "https://localhost:8080/",
          "height": 37
        },
        "outputId": "b123dd34-b59d-491a-eeb3-fa2ac55142cd",
        "executionInfo": {
          "status": "ok",
          "timestamp": 1531194154038,
          "user_tz": -480,
          "elapsed": 734,
          "user": {
            "displayName": "Kass PK",
            "photoUrl": "//lh3.googleusercontent.com/-dkFAdLj8zZc/AAAAAAAAAAI/AAAAAAAABkw/SjBtm6dmm5k/s50-c-k-no/photo.jpg",
            "userId": "117332463888572636111"
          }
        }
      },
      "cell_type": "code",
      "source": [
        "x_image = tf.reshape(x, [-1, img_size, img_size, num_channels])"
      ],
      "execution_count": 18,
      "outputs": []
    },
    {
      "metadata": {
        "id": "oXVaG5omQ6cf",
        "colab_type": "code",
        "colab": {
          "autoexec": {
            "startup": false,
            "wait_interval": 0
          },
          "base_uri": "https://localhost:8080/",
          "height": 37
        },
        "outputId": "7b8b71a4-308d-47d5-f6ab-c276fe538f92",
        "executionInfo": {
          "status": "ok",
          "timestamp": 1531194155404,
          "user_tz": -480,
          "elapsed": 965,
          "user": {
            "displayName": "Kass PK",
            "photoUrl": "//lh3.googleusercontent.com/-dkFAdLj8zZc/AAAAAAAAAAI/AAAAAAAABkw/SjBtm6dmm5k/s50-c-k-no/photo.jpg",
            "userId": "117332463888572636111"
          }
        }
      },
      "cell_type": "code",
      "source": [
        "y_true = tf.placeholder(tf.float32, shape=[None, num_classes], name='y_true')"
      ],
      "execution_count": 19,
      "outputs": []
    },
    {
      "metadata": {
        "id": "mUZxBdClQ94z",
        "colab_type": "code",
        "colab": {
          "autoexec": {
            "startup": false,
            "wait_interval": 0
          },
          "base_uri": "https://localhost:8080/",
          "height": 37
        },
        "outputId": "88bafe38-56a7-45e4-c6e4-d9b9da16064c",
        "executionInfo": {
          "status": "ok",
          "timestamp": 1531194156846,
          "user_tz": -480,
          "elapsed": 1289,
          "user": {
            "displayName": "Kass PK",
            "photoUrl": "//lh3.googleusercontent.com/-dkFAdLj8zZc/AAAAAAAAAAI/AAAAAAAABkw/SjBtm6dmm5k/s50-c-k-no/photo.jpg",
            "userId": "117332463888572636111"
          }
        }
      },
      "cell_type": "code",
      "source": [
        "y_true_cls = tf.argmax(y_true, axis=1)"
      ],
      "execution_count": 20,
      "outputs": []
    },
    {
      "metadata": {
        "id": "k-fWKIFIQ-bu",
        "colab_type": "code",
        "colab": {
          "autoexec": {
            "startup": false,
            "wait_interval": 0
          },
          "base_uri": "https://localhost:8080/",
          "height": 37
        },
        "outputId": "0644dc3d-6d63-4ce9-c53c-c9322f0fe36d",
        "executionInfo": {
          "status": "ok",
          "timestamp": 1531194160059,
          "user_tz": -480,
          "elapsed": 905,
          "user": {
            "displayName": "Kass PK",
            "photoUrl": "//lh3.googleusercontent.com/-dkFAdLj8zZc/AAAAAAAAAAI/AAAAAAAABkw/SjBtm6dmm5k/s50-c-k-no/photo.jpg",
            "userId": "117332463888572636111"
          }
        }
      },
      "cell_type": "code",
      "source": [
        "layer_conv1, weights_conv1 = \\\n",
        "    new_conv_layer(input=x_image,\n",
        "                   num_input_channels=num_channels,\n",
        "                   filter_size=filter_size1,\n",
        "                   num_filters=num_filters1,\n",
        "                   use_pooling=True)"
      ],
      "execution_count": 21,
      "outputs": []
    },
    {
      "metadata": {
        "id": "bbLw70fWRDDZ",
        "colab_type": "code",
        "colab": {
          "autoexec": {
            "startup": false,
            "wait_interval": 0
          },
          "base_uri": "https://localhost:8080/",
          "height": 34
        },
        "outputId": "f060fe3f-db10-4c43-f894-bd5537f5cf66",
        "executionInfo": {
          "status": "ok",
          "timestamp": 1531194162005,
          "user_tz": -480,
          "elapsed": 918,
          "user": {
            "displayName": "Kass PK",
            "photoUrl": "//lh3.googleusercontent.com/-dkFAdLj8zZc/AAAAAAAAAAI/AAAAAAAABkw/SjBtm6dmm5k/s50-c-k-no/photo.jpg",
            "userId": "117332463888572636111"
          }
        }
      },
      "cell_type": "code",
      "source": [
        "layer_conv1"
      ],
      "execution_count": 22,
      "outputs": [
        {
          "output_type": "execute_result",
          "data": {
            "text/plain": [
              "<tf.Tensor 'Relu:0' shape=(?, 14, 14, 16) dtype=float32>"
            ]
          },
          "metadata": {
            "tags": []
          },
          "execution_count": 22
        }
      ]
    },
    {
      "metadata": {
        "id": "wyf9shx6RETb",
        "colab_type": "code",
        "colab": {
          "autoexec": {
            "startup": false,
            "wait_interval": 0
          },
          "base_uri": "https://localhost:8080/",
          "height": 37
        },
        "outputId": "c81d5705-5a74-41af-829c-7c7f70577b48",
        "executionInfo": {
          "status": "ok",
          "timestamp": 1531194164186,
          "user_tz": -480,
          "elapsed": 1052,
          "user": {
            "displayName": "Kass PK",
            "photoUrl": "//lh3.googleusercontent.com/-dkFAdLj8zZc/AAAAAAAAAAI/AAAAAAAABkw/SjBtm6dmm5k/s50-c-k-no/photo.jpg",
            "userId": "117332463888572636111"
          }
        }
      },
      "cell_type": "code",
      "source": [
        "layer_conv2, weights_conv2 = \\\n",
        "    new_conv_layer(input=layer_conv1,\n",
        "                   num_input_channels=num_filters1,\n",
        "                   filter_size=filter_size2,\n",
        "                   num_filters=num_filters2,\n",
        "                   use_pooling=True)"
      ],
      "execution_count": 23,
      "outputs": []
    },
    {
      "metadata": {
        "id": "RYsBWl__RFd7",
        "colab_type": "code",
        "colab": {
          "autoexec": {
            "startup": false,
            "wait_interval": 0
          },
          "base_uri": "https://localhost:8080/",
          "height": 34
        },
        "outputId": "c7bf1b97-cb7b-4064-bc11-7649773191d1",
        "executionInfo": {
          "status": "ok",
          "timestamp": 1531194166161,
          "user_tz": -480,
          "elapsed": 1014,
          "user": {
            "displayName": "Kass PK",
            "photoUrl": "//lh3.googleusercontent.com/-dkFAdLj8zZc/AAAAAAAAAAI/AAAAAAAABkw/SjBtm6dmm5k/s50-c-k-no/photo.jpg",
            "userId": "117332463888572636111"
          }
        }
      },
      "cell_type": "code",
      "source": [
        "layer_conv2"
      ],
      "execution_count": 24,
      "outputs": [
        {
          "output_type": "execute_result",
          "data": {
            "text/plain": [
              "<tf.Tensor 'Relu_1:0' shape=(?, 7, 7, 36) dtype=float32>"
            ]
          },
          "metadata": {
            "tags": []
          },
          "execution_count": 24
        }
      ]
    },
    {
      "metadata": {
        "id": "h63YHt_ERIPc",
        "colab_type": "code",
        "colab": {
          "autoexec": {
            "startup": false,
            "wait_interval": 0
          },
          "base_uri": "https://localhost:8080/",
          "height": 37
        },
        "outputId": "12dedf1f-54a8-44b9-ff5f-052db42a01e9",
        "executionInfo": {
          "status": "ok",
          "timestamp": 1531194167999,
          "user_tz": -480,
          "elapsed": 1134,
          "user": {
            "displayName": "Kass PK",
            "photoUrl": "//lh3.googleusercontent.com/-dkFAdLj8zZc/AAAAAAAAAAI/AAAAAAAABkw/SjBtm6dmm5k/s50-c-k-no/photo.jpg",
            "userId": "117332463888572636111"
          }
        }
      },
      "cell_type": "code",
      "source": [
        "layer_flat, num_features = flatten_layer(layer_conv2)"
      ],
      "execution_count": 25,
      "outputs": []
    },
    {
      "metadata": {
        "id": "FfiFzWzdRJoM",
        "colab_type": "code",
        "colab": {
          "autoexec": {
            "startup": false,
            "wait_interval": 0
          },
          "base_uri": "https://localhost:8080/",
          "height": 34
        },
        "outputId": "d7a3dc95-31e6-419a-e704-e754f26279a2",
        "executionInfo": {
          "status": "ok",
          "timestamp": 1531194169433,
          "user_tz": -480,
          "elapsed": 831,
          "user": {
            "displayName": "Kass PK",
            "photoUrl": "//lh3.googleusercontent.com/-dkFAdLj8zZc/AAAAAAAAAAI/AAAAAAAABkw/SjBtm6dmm5k/s50-c-k-no/photo.jpg",
            "userId": "117332463888572636111"
          }
        }
      },
      "cell_type": "code",
      "source": [
        "layer_flat"
      ],
      "execution_count": 26,
      "outputs": [
        {
          "output_type": "execute_result",
          "data": {
            "text/plain": [
              "<tf.Tensor 'Reshape_2:0' shape=(?, 1764) dtype=float32>"
            ]
          },
          "metadata": {
            "tags": []
          },
          "execution_count": 26
        }
      ]
    },
    {
      "metadata": {
        "id": "4NjCshUcRLDT",
        "colab_type": "code",
        "colab": {
          "autoexec": {
            "startup": false,
            "wait_interval": 0
          },
          "base_uri": "https://localhost:8080/",
          "height": 34
        },
        "outputId": "79b2ebec-f231-4516-e9d1-a385d4b6d3d7",
        "executionInfo": {
          "status": "ok",
          "timestamp": 1531194171532,
          "user_tz": -480,
          "elapsed": 967,
          "user": {
            "displayName": "Kass PK",
            "photoUrl": "//lh3.googleusercontent.com/-dkFAdLj8zZc/AAAAAAAAAAI/AAAAAAAABkw/SjBtm6dmm5k/s50-c-k-no/photo.jpg",
            "userId": "117332463888572636111"
          }
        }
      },
      "cell_type": "code",
      "source": [
        "num_features"
      ],
      "execution_count": 27,
      "outputs": [
        {
          "output_type": "execute_result",
          "data": {
            "text/plain": [
              "1764"
            ]
          },
          "metadata": {
            "tags": []
          },
          "execution_count": 27
        }
      ]
    },
    {
      "metadata": {
        "id": "zcjPZmlXRMWm",
        "colab_type": "code",
        "colab": {
          "autoexec": {
            "startup": false,
            "wait_interval": 0
          },
          "base_uri": "https://localhost:8080/",
          "height": 37
        },
        "outputId": "46e02b10-8f17-4b97-d914-f3ab849decc1",
        "executionInfo": {
          "status": "ok",
          "timestamp": 1531194173958,
          "user_tz": -480,
          "elapsed": 926,
          "user": {
            "displayName": "Kass PK",
            "photoUrl": "//lh3.googleusercontent.com/-dkFAdLj8zZc/AAAAAAAAAAI/AAAAAAAABkw/SjBtm6dmm5k/s50-c-k-no/photo.jpg",
            "userId": "117332463888572636111"
          }
        }
      },
      "cell_type": "code",
      "source": [
        "layer_fc1 = new_fc_layer(input=layer_flat,\n",
        "                         num_inputs=num_features,\n",
        "                         num_outputs=fc_size,\n",
        "                         use_relu=True)"
      ],
      "execution_count": 28,
      "outputs": []
    },
    {
      "metadata": {
        "id": "8PNVgpU2RNmd",
        "colab_type": "code",
        "colab": {
          "autoexec": {
            "startup": false,
            "wait_interval": 0
          },
          "base_uri": "https://localhost:8080/",
          "height": 34
        },
        "outputId": "15c2900f-8ea6-4ed7-9628-56ff8ad955da",
        "executionInfo": {
          "status": "ok",
          "timestamp": 1531194337937,
          "user_tz": -480,
          "elapsed": 1012,
          "user": {
            "displayName": "Kass PK",
            "photoUrl": "//lh3.googleusercontent.com/-dkFAdLj8zZc/AAAAAAAAAAI/AAAAAAAABkw/SjBtm6dmm5k/s50-c-k-no/photo.jpg",
            "userId": "117332463888572636111"
          }
        }
      },
      "cell_type": "code",
      "source": [
        "layer_fc1"
      ],
      "execution_count": 29,
      "outputs": [
        {
          "output_type": "execute_result",
          "data": {
            "text/plain": [
              "<tf.Tensor 'Relu_2:0' shape=(?, 128) dtype=float32>"
            ]
          },
          "metadata": {
            "tags": []
          },
          "execution_count": 29
        }
      ]
    },
    {
      "metadata": {
        "id": "Z5Y6DJO5RO5Z",
        "colab_type": "code",
        "colab": {
          "autoexec": {
            "startup": false,
            "wait_interval": 0
          },
          "base_uri": "https://localhost:8080/",
          "height": 37
        },
        "outputId": "077c4d82-c8b2-417e-82de-94cdbdf22e56",
        "executionInfo": {
          "status": "ok",
          "timestamp": 1531194339961,
          "user_tz": -480,
          "elapsed": 829,
          "user": {
            "displayName": "Kass PK",
            "photoUrl": "//lh3.googleusercontent.com/-dkFAdLj8zZc/AAAAAAAAAAI/AAAAAAAABkw/SjBtm6dmm5k/s50-c-k-no/photo.jpg",
            "userId": "117332463888572636111"
          }
        }
      },
      "cell_type": "code",
      "source": [
        "layer_fc2 = new_fc_layer(input=layer_fc1,\n",
        "                         num_inputs=fc_size,\n",
        "                         num_outputs=num_classes,\n",
        "                         use_relu=False)"
      ],
      "execution_count": 30,
      "outputs": []
    },
    {
      "metadata": {
        "id": "7w5Qb4hlRQLL",
        "colab_type": "code",
        "colab": {
          "autoexec": {
            "startup": false,
            "wait_interval": 0
          },
          "base_uri": "https://localhost:8080/",
          "height": 34
        },
        "outputId": "ad801dea-08d4-47ef-ff43-20916c0a5241",
        "executionInfo": {
          "status": "ok",
          "timestamp": 1531194342064,
          "user_tz": -480,
          "elapsed": 1268,
          "user": {
            "displayName": "Kass PK",
            "photoUrl": "//lh3.googleusercontent.com/-dkFAdLj8zZc/AAAAAAAAAAI/AAAAAAAABkw/SjBtm6dmm5k/s50-c-k-no/photo.jpg",
            "userId": "117332463888572636111"
          }
        }
      },
      "cell_type": "code",
      "source": [
        "layer_fc2"
      ],
      "execution_count": 31,
      "outputs": [
        {
          "output_type": "execute_result",
          "data": {
            "text/plain": [
              "<tf.Tensor 'add_3:0' shape=(?, 10) dtype=float32>"
            ]
          },
          "metadata": {
            "tags": []
          },
          "execution_count": 31
        }
      ]
    },
    {
      "metadata": {
        "id": "ZYTXD9guRRk6",
        "colab_type": "code",
        "colab": {
          "autoexec": {
            "startup": false,
            "wait_interval": 0
          },
          "base_uri": "https://localhost:8080/",
          "height": 37
        },
        "outputId": "780ce791-fc7c-41d7-d383-ba84fefb05e2",
        "executionInfo": {
          "status": "ok",
          "timestamp": 1531194343853,
          "user_tz": -480,
          "elapsed": 920,
          "user": {
            "displayName": "Kass PK",
            "photoUrl": "//lh3.googleusercontent.com/-dkFAdLj8zZc/AAAAAAAAAAI/AAAAAAAABkw/SjBtm6dmm5k/s50-c-k-no/photo.jpg",
            "userId": "117332463888572636111"
          }
        }
      },
      "cell_type": "code",
      "source": [
        "y_pred = tf.nn.softmax(layer_fc2)"
      ],
      "execution_count": 32,
      "outputs": []
    },
    {
      "metadata": {
        "id": "UAqBvi46RS5F",
        "colab_type": "code",
        "colab": {
          "autoexec": {
            "startup": false,
            "wait_interval": 0
          },
          "base_uri": "https://localhost:8080/",
          "height": 37
        },
        "outputId": "b69040b7-9add-4a9b-952a-3938247bb873",
        "executionInfo": {
          "status": "ok",
          "timestamp": 1531194346647,
          "user_tz": -480,
          "elapsed": 1275,
          "user": {
            "displayName": "Kass PK",
            "photoUrl": "//lh3.googleusercontent.com/-dkFAdLj8zZc/AAAAAAAAAAI/AAAAAAAABkw/SjBtm6dmm5k/s50-c-k-no/photo.jpg",
            "userId": "117332463888572636111"
          }
        }
      },
      "cell_type": "code",
      "source": [
        "y_pred_cls = tf.argmax(y_pred, axis=1)"
      ],
      "execution_count": 33,
      "outputs": []
    },
    {
      "metadata": {
        "id": "efop9JjHRUWX",
        "colab_type": "code",
        "colab": {
          "autoexec": {
            "startup": false,
            "wait_interval": 0
          },
          "base_uri": "https://localhost:8080/",
          "height": 37
        },
        "outputId": "76082760-0d5a-45b7-c2dc-c74d4457bf7f",
        "executionInfo": {
          "status": "ok",
          "timestamp": 1531194347573,
          "user_tz": -480,
          "elapsed": 734,
          "user": {
            "displayName": "Kass PK",
            "photoUrl": "//lh3.googleusercontent.com/-dkFAdLj8zZc/AAAAAAAAAAI/AAAAAAAABkw/SjBtm6dmm5k/s50-c-k-no/photo.jpg",
            "userId": "117332463888572636111"
          }
        }
      },
      "cell_type": "code",
      "source": [
        "cross_entropy = tf.nn.softmax_cross_entropy_with_logits_v2(logits=layer_fc2,\n",
        "                                                        labels=y_true)"
      ],
      "execution_count": 34,
      "outputs": []
    },
    {
      "metadata": {
        "id": "JdBAMY8qRVii",
        "colab_type": "code",
        "colab": {
          "autoexec": {
            "startup": false,
            "wait_interval": 0
          },
          "base_uri": "https://localhost:8080/",
          "height": 37
        },
        "outputId": "efbb1d55-bfce-42d8-cd76-87c10650a84c",
        "executionInfo": {
          "status": "ok",
          "timestamp": 1531194349183,
          "user_tz": -480,
          "elapsed": 1047,
          "user": {
            "displayName": "Kass PK",
            "photoUrl": "//lh3.googleusercontent.com/-dkFAdLj8zZc/AAAAAAAAAAI/AAAAAAAABkw/SjBtm6dmm5k/s50-c-k-no/photo.jpg",
            "userId": "117332463888572636111"
          }
        }
      },
      "cell_type": "code",
      "source": [
        "cost = tf.reduce_mean(cross_entropy)"
      ],
      "execution_count": 35,
      "outputs": []
    },
    {
      "metadata": {
        "id": "GK6FgKKhRWsE",
        "colab_type": "code",
        "colab": {
          "autoexec": {
            "startup": false,
            "wait_interval": 0
          },
          "base_uri": "https://localhost:8080/",
          "height": 37
        },
        "outputId": "c90cb89c-54b3-4fdc-f634-87f2b23a019d",
        "executionInfo": {
          "status": "ok",
          "timestamp": 1531194350231,
          "user_tz": -480,
          "elapsed": 965,
          "user": {
            "displayName": "Kass PK",
            "photoUrl": "//lh3.googleusercontent.com/-dkFAdLj8zZc/AAAAAAAAAAI/AAAAAAAABkw/SjBtm6dmm5k/s50-c-k-no/photo.jpg",
            "userId": "117332463888572636111"
          }
        }
      },
      "cell_type": "code",
      "source": [
        "optimizer = tf.train.AdamOptimizer(learning_rate=1e-4).minimize(cost)"
      ],
      "execution_count": 36,
      "outputs": []
    },
    {
      "metadata": {
        "id": "Asv4lKBlRX2-",
        "colab_type": "code",
        "colab": {
          "autoexec": {
            "startup": false,
            "wait_interval": 0
          },
          "base_uri": "https://localhost:8080/",
          "height": 37
        },
        "outputId": "e734b14c-a3c4-4020-e4bc-a38e488ad9c6",
        "executionInfo": {
          "status": "ok",
          "timestamp": 1531194350903,
          "user_tz": -480,
          "elapsed": 560,
          "user": {
            "displayName": "Kass PK",
            "photoUrl": "//lh3.googleusercontent.com/-dkFAdLj8zZc/AAAAAAAAAAI/AAAAAAAABkw/SjBtm6dmm5k/s50-c-k-no/photo.jpg",
            "userId": "117332463888572636111"
          }
        }
      },
      "cell_type": "code",
      "source": [
        "correct_prediction = tf.equal(y_pred_cls, y_true_cls)"
      ],
      "execution_count": 37,
      "outputs": []
    },
    {
      "metadata": {
        "id": "EmgWjAxNRZPr",
        "colab_type": "code",
        "colab": {
          "autoexec": {
            "startup": false,
            "wait_interval": 0
          },
          "base_uri": "https://localhost:8080/",
          "height": 37
        },
        "outputId": "bf1cba0e-7d7f-46a1-a23f-fd1e81cbedff",
        "executionInfo": {
          "status": "ok",
          "timestamp": 1531194351892,
          "user_tz": -480,
          "elapsed": 921,
          "user": {
            "displayName": "Kass PK",
            "photoUrl": "//lh3.googleusercontent.com/-dkFAdLj8zZc/AAAAAAAAAAI/AAAAAAAABkw/SjBtm6dmm5k/s50-c-k-no/photo.jpg",
            "userId": "117332463888572636111"
          }
        }
      },
      "cell_type": "code",
      "source": [
        "accuracy = tf.reduce_mean(tf.cast(correct_prediction, tf.float32))"
      ],
      "execution_count": 38,
      "outputs": []
    },
    {
      "metadata": {
        "id": "2YmhH3t4Racv",
        "colab_type": "code",
        "colab": {
          "autoexec": {
            "startup": false,
            "wait_interval": 0
          },
          "base_uri": "https://localhost:8080/",
          "height": 37
        },
        "outputId": "541ad703-434a-4c90-b674-d2c140081a2f",
        "executionInfo": {
          "status": "ok",
          "timestamp": 1531194353052,
          "user_tz": -480,
          "elapsed": 918,
          "user": {
            "displayName": "Kass PK",
            "photoUrl": "//lh3.googleusercontent.com/-dkFAdLj8zZc/AAAAAAAAAAI/AAAAAAAABkw/SjBtm6dmm5k/s50-c-k-no/photo.jpg",
            "userId": "117332463888572636111"
          }
        }
      },
      "cell_type": "code",
      "source": [
        "session = tf.Session()"
      ],
      "execution_count": 39,
      "outputs": []
    },
    {
      "metadata": {
        "id": "B46y328ERbow",
        "colab_type": "code",
        "colab": {
          "autoexec": {
            "startup": false,
            "wait_interval": 0
          },
          "base_uri": "https://localhost:8080/",
          "height": 37
        },
        "outputId": "deab16b4-94f2-4acd-bcbe-dbdf455faa3c",
        "executionInfo": {
          "status": "ok",
          "timestamp": 1531194354109,
          "user_tz": -480,
          "elapsed": 964,
          "user": {
            "displayName": "Kass PK",
            "photoUrl": "//lh3.googleusercontent.com/-dkFAdLj8zZc/AAAAAAAAAAI/AAAAAAAABkw/SjBtm6dmm5k/s50-c-k-no/photo.jpg",
            "userId": "117332463888572636111"
          }
        }
      },
      "cell_type": "code",
      "source": [
        "session.run(tf.global_variables_initializer())"
      ],
      "execution_count": 40,
      "outputs": []
    },
    {
      "metadata": {
        "id": "i-_S3BZGRczn",
        "colab_type": "code",
        "colab": {
          "autoexec": {
            "startup": false,
            "wait_interval": 0
          },
          "base_uri": "https://localhost:8080/",
          "height": 37
        },
        "outputId": "ff60ff0f-f07e-40fe-c196-c5651dc7dcb8",
        "executionInfo": {
          "status": "ok",
          "timestamp": 1531194354924,
          "user_tz": -480,
          "elapsed": 730,
          "user": {
            "displayName": "Kass PK",
            "photoUrl": "//lh3.googleusercontent.com/-dkFAdLj8zZc/AAAAAAAAAAI/AAAAAAAABkw/SjBtm6dmm5k/s50-c-k-no/photo.jpg",
            "userId": "117332463888572636111"
          }
        }
      },
      "cell_type": "code",
      "source": [
        "train_batch_size = 64"
      ],
      "execution_count": 41,
      "outputs": []
    },
    {
      "metadata": {
        "id": "RybeL_rIRd9y",
        "colab_type": "code",
        "colab": {
          "autoexec": {
            "startup": false,
            "wait_interval": 0
          },
          "base_uri": "https://localhost:8080/",
          "height": 37
        },
        "outputId": "7429932a-77c8-4d7e-b44d-766d6b8dd11c",
        "executionInfo": {
          "status": "ok",
          "timestamp": 1531194356517,
          "user_tz": -480,
          "elapsed": 536,
          "user": {
            "displayName": "Kass PK",
            "photoUrl": "//lh3.googleusercontent.com/-dkFAdLj8zZc/AAAAAAAAAAI/AAAAAAAABkw/SjBtm6dmm5k/s50-c-k-no/photo.jpg",
            "userId": "117332463888572636111"
          }
        }
      },
      "cell_type": "code",
      "source": [
        "# Counter for total number of iterations performed so far.\n",
        "total_iterations = 0\n",
        "\n",
        "def optimize(num_iterations):\n",
        "    # Ensure we update the global variable rather than a local copy.\n",
        "    global total_iterations\n",
        "\n",
        "    # Start-time used for printing time-usage below.\n",
        "    start_time = time.time()\n",
        "\n",
        "    for i in range(total_iterations,\n",
        "                   total_iterations + num_iterations):\n",
        "\n",
        "        # Get a batch of training examples.\n",
        "        # x_batch now holds a batch of images and\n",
        "        # y_true_batch are the true labels for those images.\n",
        "        x_batch, y_true_batch = data.train.next_batch(train_batch_size)\n",
        "\n",
        "        # Put the batch into a dict with the proper names\n",
        "        # for placeholder variables in the TensorFlow graph.\n",
        "        feed_dict_train = {x: x_batch,\n",
        "                           y_true: y_true_batch}\n",
        "\n",
        "        # Run the optimizer using this batch of training data.\n",
        "        # TensorFlow assigns the variables in feed_dict_train\n",
        "        # to the placeholder variables and then runs the optimizer.\n",
        "        session.run(optimizer, feed_dict=feed_dict_train)\n",
        "\n",
        "        # Print status every 100 iterations.\n",
        "        if i % 100 == 0:\n",
        "            # Calculate the accuracy on the training-set.\n",
        "            acc = session.run(accuracy, feed_dict=feed_dict_train)\n",
        "\n",
        "            # Message for printing.\n",
        "            msg = \"Optimization Iteration: {0:>6}, Training Accuracy: {1:>6.1%}\"\n",
        "\n",
        "            # Print it.\n",
        "            print(msg.format(i + 1, acc))\n",
        "\n",
        "    # Update the total number of iterations performed.\n",
        "    total_iterations += num_iterations\n",
        "\n",
        "    # Ending time.\n",
        "    end_time = time.time()\n",
        "\n",
        "    # Difference between start and end-times.\n",
        "    time_dif = end_time - start_time\n",
        "\n",
        "    # Print the time-usage.\n",
        "    print(\"Time usage: \" + str(timedelta(seconds=int(round(time_dif)))))"
      ],
      "execution_count": 42,
      "outputs": []
    },
    {
      "metadata": {
        "id": "nnXEHbh3Reqw",
        "colab_type": "code",
        "colab": {
          "autoexec": {
            "startup": false,
            "wait_interval": 0
          },
          "base_uri": "https://localhost:8080/",
          "height": 37
        },
        "outputId": "66bb78ff-da4d-4257-c6d1-4d5200ae2fcc",
        "executionInfo": {
          "status": "ok",
          "timestamp": 1531194358236,
          "user_tz": -480,
          "elapsed": 790,
          "user": {
            "displayName": "Kass PK",
            "photoUrl": "//lh3.googleusercontent.com/-dkFAdLj8zZc/AAAAAAAAAAI/AAAAAAAABkw/SjBtm6dmm5k/s50-c-k-no/photo.jpg",
            "userId": "117332463888572636111"
          }
        }
      },
      "cell_type": "code",
      "source": [
        "def plot_example_errors(cls_pred, correct):\n",
        "    # This function is called from print_test_accuracy() below.\n",
        "\n",
        "    # cls_pred is an array of the predicted class-number for\n",
        "    # all images in the test-set.\n",
        "\n",
        "    # correct is a boolean array whether the predicted class\n",
        "    # is equal to the true class for each image in the test-set.\n",
        "\n",
        "    # Negate the boolean array.\n",
        "    incorrect = (correct == False)\n",
        "    \n",
        "    # Get the images from the test-set that have been\n",
        "    # incorrectly classified.\n",
        "    images = data.test.images[incorrect]\n",
        "    \n",
        "    # Get the predicted classes for those images.\n",
        "    cls_pred = cls_pred[incorrect]\n",
        "\n",
        "    # Get the true classes for those images.\n",
        "    cls_true = data.test.cls[incorrect]\n",
        "    \n",
        "    # Plot the first 9 images.\n",
        "    plot_images(images=images[0:9],\n",
        "                cls_true=cls_true[0:9],\n",
        "                cls_pred=cls_pred[0:9])"
      ],
      "execution_count": 43,
      "outputs": []
    },
    {
      "metadata": {
        "id": "erF5VKqhRgk6",
        "colab_type": "code",
        "colab": {
          "autoexec": {
            "startup": false,
            "wait_interval": 0
          },
          "base_uri": "https://localhost:8080/",
          "height": 37
        },
        "outputId": "3863045b-398d-47b2-a6b9-f24dcdf0e26e",
        "executionInfo": {
          "status": "ok",
          "timestamp": 1531194362602,
          "user_tz": -480,
          "elapsed": 939,
          "user": {
            "displayName": "Kass PK",
            "photoUrl": "//lh3.googleusercontent.com/-dkFAdLj8zZc/AAAAAAAAAAI/AAAAAAAABkw/SjBtm6dmm5k/s50-c-k-no/photo.jpg",
            "userId": "117332463888572636111"
          }
        }
      },
      "cell_type": "code",
      "source": [
        "def plot_confusion_matrix(cls_pred):\n",
        "    # This is called from print_test_accuracy() below.\n",
        "\n",
        "    # cls_pred is an array of the predicted class-number for\n",
        "    # all images in the test-set.\n",
        "\n",
        "    # Get the true classifications for the test-set.\n",
        "    cls_true = data.test.cls\n",
        "    \n",
        "    # Get the confusion matrix using sklearn.\n",
        "    cm = confusion_matrix(y_true=cls_true,\n",
        "                          y_pred=cls_pred)\n",
        "\n",
        "    # Print the confusion matrix as text.\n",
        "    print(cm)\n",
        "\n",
        "    # Plot the confusion matrix as an image.\n",
        "    plt.matshow(cm)\n",
        "\n",
        "    # Make various adjustments to the plot.\n",
        "    plt.colorbar()\n",
        "    tick_marks = np.arange(num_classes)\n",
        "    plt.xticks(tick_marks, range(num_classes))\n",
        "    plt.yticks(tick_marks, range(num_classes))\n",
        "    plt.xlabel('Predicted')\n",
        "    plt.ylabel('True')\n",
        "\n",
        "    # Ensure the plot is shown correctly with multiple plots\n",
        "    # in a single Notebook cell.\n",
        "    plt.show()"
      ],
      "execution_count": 44,
      "outputs": []
    },
    {
      "metadata": {
        "id": "G0bLP9J3Rh6C",
        "colab_type": "code",
        "colab": {
          "autoexec": {
            "startup": false,
            "wait_interval": 0
          },
          "base_uri": "https://localhost:8080/",
          "height": 37
        },
        "outputId": "6f155b53-da95-4223-fd34-c52043b5b1e9",
        "executionInfo": {
          "status": "ok",
          "timestamp": 1531194365812,
          "user_tz": -480,
          "elapsed": 1077,
          "user": {
            "displayName": "Kass PK",
            "photoUrl": "//lh3.googleusercontent.com/-dkFAdLj8zZc/AAAAAAAAAAI/AAAAAAAABkw/SjBtm6dmm5k/s50-c-k-no/photo.jpg",
            "userId": "117332463888572636111"
          }
        }
      },
      "cell_type": "code",
      "source": [
        "# Split the test-set into smaller batches of this size.\n",
        "test_batch_size = 256\n",
        "\n",
        "def print_test_accuracy(show_example_errors=False,\n",
        "                        show_confusion_matrix=False):\n",
        "\n",
        "    # Number of images in the test-set.\n",
        "    num_test = len(data.test.images)\n",
        "\n",
        "    # Allocate an array for the predicted classes which\n",
        "    # will be calculated in batches and filled into this array.\n",
        "    cls_pred = np.zeros(shape=num_test, dtype=np.int)\n",
        "\n",
        "    # Now calculate the predicted classes for the batches.\n",
        "    # We will just iterate through all the batches.\n",
        "    # There might be a more clever and Pythonic way of doing this.\n",
        "\n",
        "    # The starting index for the next batch is denoted i.\n",
        "    i = 0\n",
        "\n",
        "    while i < num_test:\n",
        "        # The ending index for the next batch is denoted j.\n",
        "        j = min(i + test_batch_size, num_test)\n",
        "\n",
        "        # Get the images from the test-set between index i and j.\n",
        "        images = data.test.images[i:j, :]\n",
        "\n",
        "        # Get the associated labels.\n",
        "        labels = data.test.labels[i:j, :]\n",
        "\n",
        "        # Create a feed-dict with these images and labels.\n",
        "        feed_dict = {x: images,\n",
        "                     y_true: labels}\n",
        "\n",
        "        # Calculate the predicted class using TensorFlow.\n",
        "        cls_pred[i:j] = session.run(y_pred_cls, feed_dict=feed_dict)\n",
        "\n",
        "        # Set the start-index for the next batch to the\n",
        "        # end-index of the current batch.\n",
        "        i = j\n",
        "\n",
        "    # Convenience variable for the true class-numbers of the test-set.\n",
        "    cls_true = data.test.cls\n",
        "\n",
        "    # Create a boolean array whether each image is correctly classified.\n",
        "    correct = (cls_true == cls_pred)\n",
        "\n",
        "    # Calculate the number of correctly classified images.\n",
        "    # When summing a boolean array, False means 0 and True means 1.\n",
        "    correct_sum = correct.sum()\n",
        "\n",
        "    # Classification accuracy is the number of correctly classified\n",
        "    # images divided by the total number of images in the test-set.\n",
        "    acc = float(correct_sum) / num_test\n",
        "\n",
        "    # Print the accuracy.\n",
        "    msg = \"Accuracy on Test-Set: {0:.1%} ({1} / {2})\"\n",
        "    print(msg.format(acc, correct_sum, num_test))\n",
        "\n",
        "    # Plot some examples of mis-classifications, if desired.\n",
        "    if show_example_errors:\n",
        "        print(\"Example errors:\")\n",
        "        plot_example_errors(cls_pred=cls_pred, correct=correct)\n",
        "\n",
        "    # Plot the confusion matrix, if desired.\n",
        "    if show_confusion_matrix:\n",
        "        print(\"Confusion Matrix:\")\n",
        "        plot_confusion_matrix(cls_pred=cls_pred)"
      ],
      "execution_count": 45,
      "outputs": []
    },
    {
      "metadata": {
        "id": "ego820HKRjW4",
        "colab_type": "code",
        "colab": {
          "autoexec": {
            "startup": false,
            "wait_interval": 0
          },
          "base_uri": "https://localhost:8080/",
          "height": 34
        },
        "outputId": "68aab282-5235-43f2-f0ac-0cf0d36d6547",
        "executionInfo": {
          "status": "ok",
          "timestamp": 1531194372251,
          "user_tz": -480,
          "elapsed": 4544,
          "user": {
            "displayName": "Kass PK",
            "photoUrl": "//lh3.googleusercontent.com/-dkFAdLj8zZc/AAAAAAAAAAI/AAAAAAAABkw/SjBtm6dmm5k/s50-c-k-no/photo.jpg",
            "userId": "117332463888572636111"
          }
        }
      },
      "cell_type": "code",
      "source": [
        "print_test_accuracy()"
      ],
      "execution_count": 46,
      "outputs": [
        {
          "output_type": "stream",
          "text": [
            "Accuracy on Test-Set: 8.3% (832 / 10000)\n"
          ],
          "name": "stdout"
        }
      ]
    },
    {
      "metadata": {
        "id": "G3WEDwekRk72",
        "colab_type": "code",
        "colab": {
          "autoexec": {
            "startup": false,
            "wait_interval": 0
          },
          "base_uri": "https://localhost:8080/",
          "height": 51
        },
        "outputId": "b81e13a1-e41d-4bf6-871a-815f26fd02bf",
        "executionInfo": {
          "status": "ok",
          "timestamp": 1531194373214,
          "user_tz": -480,
          "elapsed": 954,
          "user": {
            "displayName": "Kass PK",
            "photoUrl": "//lh3.googleusercontent.com/-dkFAdLj8zZc/AAAAAAAAAAI/AAAAAAAABkw/SjBtm6dmm5k/s50-c-k-no/photo.jpg",
            "userId": "117332463888572636111"
          }
        }
      },
      "cell_type": "code",
      "source": [
        "optimize(num_iterations=1)"
      ],
      "execution_count": 47,
      "outputs": [
        {
          "output_type": "stream",
          "text": [
            "Optimization Iteration:      1, Training Accuracy:  18.8%\n",
            "Time usage: 0:00:00\n"
          ],
          "name": "stdout"
        }
      ]
    },
    {
      "metadata": {
        "id": "PoSZAMELRmH6",
        "colab_type": "code",
        "colab": {
          "autoexec": {
            "startup": false,
            "wait_interval": 0
          },
          "base_uri": "https://localhost:8080/",
          "height": 34
        },
        "outputId": "07b4fcf7-3451-482a-e753-db4db2b6adfe",
        "executionInfo": {
          "status": "ok",
          "timestamp": 1531194379023,
          "user_tz": -480,
          "elapsed": 5640,
          "user": {
            "displayName": "Kass PK",
            "photoUrl": "//lh3.googleusercontent.com/-dkFAdLj8zZc/AAAAAAAAAAI/AAAAAAAABkw/SjBtm6dmm5k/s50-c-k-no/photo.jpg",
            "userId": "117332463888572636111"
          }
        }
      },
      "cell_type": "code",
      "source": [
        "print_test_accuracy()"
      ],
      "execution_count": 48,
      "outputs": [
        {
          "output_type": "stream",
          "text": [
            "Accuracy on Test-Set: 9.6% (964 / 10000)\n"
          ],
          "name": "stdout"
        }
      ]
    },
    {
      "metadata": {
        "id": "c2hM27qkRn5a",
        "colab_type": "code",
        "colab": {
          "autoexec": {
            "startup": false,
            "wait_interval": 0
          },
          "base_uri": "https://localhost:8080/",
          "height": 34
        },
        "outputId": "4e0de7cf-0496-43c6-c5f0-1e522c78f52b",
        "executionInfo": {
          "status": "ok",
          "timestamp": 1531194387706,
          "user_tz": -480,
          "elapsed": 8667,
          "user": {
            "displayName": "Kass PK",
            "photoUrl": "//lh3.googleusercontent.com/-dkFAdLj8zZc/AAAAAAAAAAI/AAAAAAAABkw/SjBtm6dmm5k/s50-c-k-no/photo.jpg",
            "userId": "117332463888572636111"
          }
        }
      },
      "cell_type": "code",
      "source": [
        "optimize(num_iterations=99) # We already performed 1 iteration above."
      ],
      "execution_count": 49,
      "outputs": [
        {
          "output_type": "stream",
          "text": [
            "Time usage: 0:00:08\n"
          ],
          "name": "stdout"
        }
      ]
    },
    {
      "metadata": {
        "id": "86a9M4DhRpee",
        "colab_type": "code",
        "colab": {
          "autoexec": {
            "startup": false,
            "wait_interval": 0
          },
          "base_uri": "https://localhost:8080/",
          "height": 296
        },
        "outputId": "a3cbb8ac-dc74-4aac-dc89-3d087bf1545b",
        "executionInfo": {
          "status": "ok",
          "timestamp": 1531194394244,
          "user_tz": -480,
          "elapsed": 6213,
          "user": {
            "displayName": "Kass PK",
            "photoUrl": "//lh3.googleusercontent.com/-dkFAdLj8zZc/AAAAAAAAAAI/AAAAAAAABkw/SjBtm6dmm5k/s50-c-k-no/photo.jpg",
            "userId": "117332463888572636111"
          }
        }
      },
      "cell_type": "code",
      "source": [
        "print_test_accuracy(show_example_errors=True)"
      ],
      "execution_count": 50,
      "outputs": [
        {
          "output_type": "stream",
          "text": [
            "Accuracy on Test-Set: 65.0% (6501 / 10000)\n",
            "Example errors:\n"
          ],
          "name": "stdout"
        },
        {
          "output_type": "display_data",
          "data": {
            "image/png": "[encoded data removed]",
            "text/plain": [
              "<matplotlib.figure.Figure at 0x7f0ce344eac8>"
            ]
          },
          "metadata": {
            "tags": []
          }
        }
      ]
    },
    {
      "metadata": {
        "id": "5LcgWwWARq6a",
        "colab_type": "code",
        "colab": {
          "autoexec": {
            "startup": false,
            "wait_interval": 0
          },
          "base_uri": "https://localhost:8080/",
          "height": 187
        },
        "outputId": "fb27ace5-b515-4a11-e955-98ff62b96081",
        "executionInfo": {
          "status": "ok",
          "timestamp": 1531194467008,
          "user_tz": -480,
          "elapsed": 72745,
          "user": {
            "displayName": "Kass PK",
            "photoUrl": "//lh3.googleusercontent.com/-dkFAdLj8zZc/AAAAAAAAAAI/AAAAAAAABkw/SjBtm6dmm5k/s50-c-k-no/photo.jpg",
            "userId": "117332463888572636111"
          }
        }
      },
      "cell_type": "code",
      "source": [
        "optimize(num_iterations=900) # We performed 100 iterations above."
      ],
      "execution_count": 51,
      "outputs": [
        {
          "output_type": "stream",
          "text": [
            "Optimization Iteration:    101, Training Accuracy:  62.5%\n",
            "Optimization Iteration:    201, Training Accuracy:  73.4%\n",
            "Optimization Iteration:    301, Training Accuracy:  90.6%\n",
            "Optimization Iteration:    401, Training Accuracy:  84.4%\n",
            "Optimization Iteration:    501, Training Accuracy:  79.7%\n",
            "Optimization Iteration:    601, Training Accuracy:  81.2%\n",
            "Optimization Iteration:    701, Training Accuracy:  85.9%\n",
            "Optimization Iteration:    801, Training Accuracy:  92.2%\n",
            "Optimization Iteration:    901, Training Accuracy:  92.2%\n",
            "Time usage: 0:01:12\n"
          ],
          "name": "stdout"
        }
      ]
    },
    {
      "metadata": {
        "id": "Qwbrr27yRta2",
        "colab_type": "code",
        "colab": {
          "autoexec": {
            "startup": false,
            "wait_interval": 0
          },
          "base_uri": "https://localhost:8080/",
          "height": 296
        },
        "outputId": "e93f43c4-2005-43ec-a65b-b57230d1034f",
        "executionInfo": {
          "status": "ok",
          "timestamp": 1531194473038,
          "user_tz": -480,
          "elapsed": 6000,
          "user": {
            "displayName": "Kass PK",
            "photoUrl": "//lh3.googleusercontent.com/-dkFAdLj8zZc/AAAAAAAAAAI/AAAAAAAABkw/SjBtm6dmm5k/s50-c-k-no/photo.jpg",
            "userId": "117332463888572636111"
          }
        }
      },
      "cell_type": "code",
      "source": [
        "print_test_accuracy(show_example_errors=True)"
      ],
      "execution_count": 52,
      "outputs": [
        {
          "output_type": "stream",
          "text": [
            "Accuracy on Test-Set: 92.5% (9253 / 10000)\n",
            "Example errors:\n"
          ],
          "name": "stdout"
        },
        {
          "output_type": "display_data",
          "data": {
            "image/png": "[encoded data removed]",
            "text/plain": [
              "<matplotlib.figure.Figure at 0x7f0ce5e1ed68>"
            ]
          },
          "metadata": {
            "tags": []
          }
        }
      ]
    },
    {
      "metadata": {
        "id": "eJEtbcdpRvBr",
        "colab_type": "code",
        "colab": {
          "autoexec": {
            "startup": false,
            "wait_interval": 0
          },
          "base_uri": "https://localhost:8080/",
          "height": 1547
        },
        "outputId": "1408ebc1-7548-480a-9ec4-f256bf0b52a3",
        "executionInfo": {
          "status": "ok",
          "timestamp": 1531195198316,
          "user_tz": -480,
          "elapsed": 725184,
          "user": {
            "displayName": "Kass PK",
            "photoUrl": "//lh3.googleusercontent.com/-dkFAdLj8zZc/AAAAAAAAAAI/AAAAAAAABkw/SjBtm6dmm5k/s50-c-k-no/photo.jpg",
            "userId": "117332463888572636111"
          }
        }
      },
      "cell_type": "code",
      "source": [
        "optimize(num_iterations=9000) # We performed 1000 iterations above."
      ],
      "execution_count": 53,
      "outputs": [
        {
          "output_type": "stream",
          "text": [
            "Optimization Iteration:   1001, Training Accuracy:  90.6%\n",
            "Optimization Iteration:   1101, Training Accuracy:  92.2%\n",
            "Optimization Iteration:   1201, Training Accuracy:  93.8%\n",
            "Optimization Iteration:   1301, Training Accuracy:  89.1%\n",
            "Optimization Iteration:   1401, Training Accuracy:  95.3%\n",
            "Optimization Iteration:   1501, Training Accuracy:  92.2%\n",
            "Optimization Iteration:   1601, Training Accuracy:  95.3%\n",
            "Optimization Iteration:   1701, Training Accuracy:  96.9%\n",
            "Optimization Iteration:   1801, Training Accuracy:  90.6%\n",
            "Optimization Iteration:   1901, Training Accuracy:  98.4%\n",
            "Optimization Iteration:   2001, Training Accuracy:  96.9%\n",
            "Optimization Iteration:   2101, Training Accuracy:  93.8%\n",
            "Optimization Iteration:   2201, Training Accuracy:  95.3%\n",
            "Optimization Iteration:   2301, Training Accuracy:  95.3%\n",
            "Optimization Iteration:   2401, Training Accuracy:  98.4%\n",
            "Optimization Iteration:   2501, Training Accuracy:  95.3%\n",
            "Optimization Iteration:   2601, Training Accuracy:  98.4%\n",
            "Optimization Iteration:   2701, Training Accuracy: 100.0%\n",
            "Optimization Iteration:   2801, Training Accuracy:  95.3%\n",
            "Optimization Iteration:   2901, Training Accuracy: 100.0%\n",
            "Optimization Iteration:   3001, Training Accuracy:  96.9%\n",
            "Optimization Iteration:   3101, Training Accuracy:  93.8%\n",
            "Optimization Iteration:   3201, Training Accuracy:  98.4%\n",
            "Optimization Iteration:   3301, Training Accuracy:  95.3%\n",
            "Optimization Iteration:   3401, Training Accuracy:  93.8%\n",
            "Optimization Iteration:   3501, Training Accuracy:  98.4%\n",
            "Optimization Iteration:   3601, Training Accuracy:  96.9%\n",
            "Optimization Iteration:   3701, Training Accuracy: 100.0%\n",
            "Optimization Iteration:   3801, Training Accuracy:  98.4%\n",
            "Optimization Iteration:   3901, Training Accuracy:  98.4%\n",
            "Optimization Iteration:   4001, Training Accuracy:  98.4%\n",
            "Optimization Iteration:   4101, Training Accuracy: 100.0%\n",
            "Optimization Iteration:   4201, Training Accuracy:  98.4%\n",
            "Optimization Iteration:   4301, Training Accuracy:  98.4%\n",
            "Optimization Iteration:   4401, Training Accuracy: 100.0%\n",
            "Optimization Iteration:   4501, Training Accuracy: 100.0%\n",
            "Optimization Iteration:   4601, Training Accuracy:  96.9%\n",
            "Optimization Iteration:   4701, Training Accuracy:  95.3%\n",
            "Optimization Iteration:   4801, Training Accuracy: 100.0%\n",
            "Optimization Iteration:   4901, Training Accuracy:  98.4%\n",
            "Optimization Iteration:   5001, Training Accuracy:  98.4%\n",
            "Optimization Iteration:   5101, Training Accuracy:  95.3%\n",
            "Optimization Iteration:   5201, Training Accuracy:  98.4%\n",
            "Optimization Iteration:   5301, Training Accuracy:  95.3%\n",
            "Optimization Iteration:   5401, Training Accuracy:  96.9%\n",
            "Optimization Iteration:   5501, Training Accuracy: 100.0%\n",
            "Optimization Iteration:   5601, Training Accuracy:  96.9%\n",
            "Optimization Iteration:   5701, Training Accuracy:  96.9%\n",
            "Optimization Iteration:   5801, Training Accuracy:  96.9%\n",
            "Optimization Iteration:   5901, Training Accuracy: 100.0%\n",
            "Optimization Iteration:   6001, Training Accuracy: 100.0%\n",
            "Optimization Iteration:   6101, Training Accuracy:  96.9%\n",
            "Optimization Iteration:   6201, Training Accuracy: 100.0%\n",
            "Optimization Iteration:   6301, Training Accuracy:  96.9%\n",
            "Optimization Iteration:   6401, Training Accuracy: 100.0%\n",
            "Optimization Iteration:   6501, Training Accuracy: 100.0%\n",
            "Optimization Iteration:   6601, Training Accuracy:  98.4%\n",
            "Optimization Iteration:   6701, Training Accuracy:  98.4%\n"
          ],
          "name": "stdout"
        },
        {
          "output_type": "stream",
          "text": [
            "Optimization Iteration:   6801, Training Accuracy:  98.4%\n",
            "Optimization Iteration:   6901, Training Accuracy:  98.4%\n",
            "Optimization Iteration:   7001, Training Accuracy: 100.0%\n",
            "Optimization Iteration:   7101, Training Accuracy: 100.0%\n",
            "Optimization Iteration:   7201, Training Accuracy:  96.9%\n",
            "Optimization Iteration:   7301, Training Accuracy:  98.4%\n",
            "Optimization Iteration:   7401, Training Accuracy: 100.0%\n",
            "Optimization Iteration:   7501, Training Accuracy: 100.0%\n",
            "Optimization Iteration:   7601, Training Accuracy: 100.0%\n",
            "Optimization Iteration:   7701, Training Accuracy:  98.4%\n",
            "Optimization Iteration:   7901, Training Accuracy:  98.4%\n",
            "Optimization Iteration:   8001, Training Accuracy:  96.9%\n",
            "Optimization Iteration:   8101, Training Accuracy:  96.9%\n",
            "Optimization Iteration:   8201, Training Accuracy:  98.4%\n",
            "Optimization Iteration:   8301, Training Accuracy:  98.4%\n",
            "Optimization Iteration:   8401, Training Accuracy:  95.3%\n",
            "Optimization Iteration:   8501, Training Accuracy:  96.9%\n",
            "Optimization Iteration:   8601, Training Accuracy: 100.0%\n",
            "Optimization Iteration:   8701, Training Accuracy:  98.4%\n",
            "Optimization Iteration:   8801, Training Accuracy:  98.4%\n",
            "Optimization Iteration:   8901, Training Accuracy: 100.0%\n",
            "Optimization Iteration:   9001, Training Accuracy: 100.0%\n",
            "Optimization Iteration:   9101, Training Accuracy:  96.9%\n",
            "Optimization Iteration:   9201, Training Accuracy: 100.0%\n",
            "Optimization Iteration:   9301, Training Accuracy:  93.8%\n",
            "Optimization Iteration:   9401, Training Accuracy:  98.4%\n",
            "Optimization Iteration:   9501, Training Accuracy: 100.0%\n",
            "Optimization Iteration:   9601, Training Accuracy:  96.9%\n",
            "Optimization Iteration:   9701, Training Accuracy: 100.0%\n",
            "Optimization Iteration:   9801, Training Accuracy: 100.0%\n",
            "Optimization Iteration:   9901, Training Accuracy: 100.0%\n",
            "Time usage: 0:12:04\n"
          ],
          "name": "stdout"
        }
      ]
    },
    {
      "metadata": {
        "id": "0iaZ9rHxRw8m",
        "colab_type": "code",
        "colab": {
          "autoexec": {
            "startup": false,
            "wait_interval": 0
          },
          "base_uri": "https://localhost:8080/",
          "height": 726
        },
        "outputId": "0f367666-9efc-46ce-e661-ca8528e7771c",
        "executionInfo": {
          "status": "ok",
          "timestamp": 1531195206531,
          "user_tz": -480,
          "elapsed": 8203,
          "user": {
            "displayName": "Kass PK",
            "photoUrl": "//lh3.googleusercontent.com/-dkFAdLj8zZc/AAAAAAAAAAI/AAAAAAAABkw/SjBtm6dmm5k/s50-c-k-no/photo.jpg",
            "userId": "117332463888572636111"
          }
        }
      },
      "cell_type": "code",
      "source": [
        "print_test_accuracy(show_example_errors=True,\n",
        "                    show_confusion_matrix=True)"
      ],
      "execution_count": 54,
      "outputs": [
        {
          "output_type": "stream",
          "text": [
            "Accuracy on Test-Set: 98.5% (9853 / 10000)\n",
            "Example errors:\n"
          ],
          "name": "stdout"
        },
        {
          "output_type": "display_data",
          "data": {
            "image/png": "[encoded data removed]",
            "text/plain": [
              "<matplotlib.figure.Figure at 0x7f0ce0a89438>"
            ]
          },
          "metadata": {
            "tags": []
          }
        },
        {
          "output_type": "stream",
          "text": [
            "Confusion Matrix:\n",
            "[[ 976    0    0    0    0    1    0    1    2    0]\n",
            " [   0 1130    2    0    1    0    1    0    1    0]\n",
            " [   3    2 1022    0    1    0    0    1    3    0]\n",
            " [   0    0    2 1003    0    3    0    0    2    0]\n",
            " [   0    1    0    0  973    0    0    0    2    6]\n",
            " [   2    0    0    9    0  877    1    0    1    2]\n",
            " [   9    3    0    1    1    7  937    0    0    0]\n",
            " [   1    3   11    3    1    0    0  997    4    8]\n",
            " [   3    0    2    3    0    1    0    2  961    2]\n",
            " [   3    7    1   10    5    3    0    1    2  977]]\n"
          ],
          "name": "stdout"
        },
        {
          "output_type": "display_data",
          "data": {
            "image/png": "[encoded data removed]",
            "text/plain": [
              "<matplotlib.figure.Figure at 0x7f0ce5dc5828>"
            ]
          },
          "metadata": {
            "tags": []
          }
        }
      ]
    },
    {
      "metadata": {
        "id": "CzbWpfBpRype",
        "colab_type": "code",
        "colab": {
          "autoexec": {
            "startup": false,
            "wait_interval": 0
          },
          "base_uri": "https://localhost:8080/",
          "height": 37
        },
        "outputId": "56bcb989-5638-4bbb-939a-3b2fcc44166c",
        "executionInfo": {
          "status": "ok",
          "timestamp": 1531195207620,
          "user_tz": -480,
          "elapsed": 1027,
          "user": {
            "displayName": "Kass PK",
            "photoUrl": "//lh3.googleusercontent.com/-dkFAdLj8zZc/AAAAAAAAAAI/AAAAAAAABkw/SjBtm6dmm5k/s50-c-k-no/photo.jpg",
            "userId": "117332463888572636111"
          }
        }
      },
      "cell_type": "code",
      "source": [
        "def plot_conv_weights(weights, input_channel=0):\n",
        "    # Assume weights are TensorFlow ops for 4-dim variables\n",
        "    # e.g. weights_conv1 or weights_conv2.\n",
        "    \n",
        "    # Retrieve the values of the weight-variables from TensorFlow.\n",
        "    # A feed-dict is not necessary because nothing is calculated.\n",
        "    w = session.run(weights)\n",
        "\n",
        "    # Get the lowest and highest values for the weights.\n",
        "    # This is used to correct the colour intensity across\n",
        "    # the images so they can be compared with each other.\n",
        "    w_min = np.min(w)\n",
        "    w_max = np.max(w)\n",
        "\n",
        "    # Number of filters used in the conv. layer.\n",
        "    num_filters = w.shape[3]\n",
        "\n",
        "    # Number of grids to plot.\n",
        "    # Rounded-up, square-root of the number of filters.\n",
        "    num_grids = math.ceil(math.sqrt(num_filters))\n",
        "    \n",
        "    # Create figure with a grid of sub-plots.\n",
        "    fig, axes = plt.subplots(num_grids, num_grids)\n",
        "\n",
        "    # Plot all the filter-weights.\n",
        "    for i, ax in enumerate(axes.flat):\n",
        "        # Only plot the valid filter-weights.\n",
        "        if i<num_filters:\n",
        "            # Get the weights for the i'th filter of the input channel.\n",
        "            # See new_conv_layer() for details on the format\n",
        "            # of this 4-dim tensor.\n",
        "            img = w[:, :, input_channel, i]\n",
        "\n",
        "            # Plot image.\n",
        "            ax.imshow(img, vmin=w_min, vmax=w_max,\n",
        "                      interpolation='nearest', cmap='seismic')\n",
        "        \n",
        "        # Remove ticks from the plot.\n",
        "        ax.set_xticks([])\n",
        "        ax.set_yticks([])\n",
        "    \n",
        "    # Ensure the plot is shown correctly with multiple plots\n",
        "    # in a single Notebook cell.\n",
        "    plt.show()"
      ],
      "execution_count": 55,
      "outputs": []
    },
    {
      "metadata": {
        "id": "lOQPl8MNR0AO",
        "colab_type": "code",
        "colab": {
          "autoexec": {
            "startup": false,
            "wait_interval": 0
          }
        }
      },
      "cell_type": "code",
      "source": [
        "def plot_conv_layer(layer, image):\n",
        "    # Assume layer is a TensorFlow op that outputs a 4-dim tensor\n",
        "    # which is the output of a convolutional layer,\n",
        "    # e.g. layer_conv1 or layer_conv2.\n",
        "\n",
        "    # Create a feed-dict containing just one image.\n",
        "    # Note that we don't need to feed y_true because it is\n",
        "    # not used in this calculation.\n",
        "    feed_dict = {x: [image]}\n",
        "\n",
        "    # Calculate and retrieve the output values of the layer\n",
        "    # when inputting that image.\n",
        "    values = session.run(layer, feed_dict=feed_dict)\n",
        "\n",
        "    # Number of filters used in the conv. layer.\n",
        "    num_filters = values.shape[3]\n",
        "\n",
        "    # Number of grids to plot.\n",
        "    # Rounded-up, square-root of the number of filters.\n",
        "    num_grids = math.ceil(math.sqrt(num_filters))\n",
        "    \n",
        "    # Create figure with a grid of sub-plots.\n",
        "    fig, axes = plt.subplots(num_grids, num_grids)\n",
        "\n",
        "    # Plot the output images of all the filters.\n",
        "    for i, ax in enumerate(axes.flat):\n",
        "        # Only plot the images for valid filters.\n",
        "        if i<num_filters:\n",
        "            # Get the output image of using the i'th filter.\n",
        "            # See new_conv_layer() for details on the format\n",
        "            # of this 4-dim tensor.\n",
        "            img = values[0, :, :, i]\n",
        "\n",
        "            # Plot image.\n",
        "            ax.imshow(img, interpolation='nearest', cmap='binary')\n",
        "        \n",
        "        # Remove ticks from the plot.\n",
        "        ax.set_xticks([])\n",
        "        ax.set_yticks([])\n",
        "    \n",
        "    # Ensure the plot is shown correctly with multiple plots\n",
        "    # in a single Notebook cell.\n",
        "    plt.show()"
      ],
      "execution_count": 0,
      "outputs": []
    },
    {
      "metadata": {
        "id": "fAZVH9lbR1eF",
        "colab_type": "code",
        "colab": {
          "autoexec": {
            "startup": false,
            "wait_interval": 0
          }
        }
      },
      "cell_type": "code",
      "source": [
        "def plot_image(image):\n",
        "    plt.imshow(image.reshape(img_shape),\n",
        "               interpolation='nearest',\n",
        "               cmap='binary')\n",
        "\n",
        "    plt.show()"
      ],
      "execution_count": 0,
      "outputs": []
    },
    {
      "metadata": {
        "id": "YrVR29IjR26K",
        "colab_type": "code",
        "colab": {
          "autoexec": {
            "startup": false,
            "wait_interval": 0
          }
        }
      },
      "cell_type": "code",
      "source": [
        "image1 = data.test.images[0]\n",
        "plot_image(image1)"
      ],
      "execution_count": 0,
      "outputs": []
    },
    {
      "metadata": {
        "id": "cKTIvtuxR4Q_",
        "colab_type": "code",
        "colab": {
          "autoexec": {
            "startup": false,
            "wait_interval": 0
          }
        }
      },
      "cell_type": "code",
      "source": [
        "image2 = data.test.images[3]\n",
        "plot_image(image2)"
      ],
      "execution_count": 0,
      "outputs": []
    },
    {
      "metadata": {
        "id": "gQ9-Or10R54A",
        "colab_type": "code",
        "colab": {
          "autoexec": {
            "startup": false,
            "wait_interval": 0
          }
        }
      },
      "cell_type": "code",
      "source": [
        "plot_conv_weights(weights=weights_conv1)"
      ],
      "execution_count": 0,
      "outputs": []
    },
    {
      "metadata": {
        "id": "uKBlsHzRR7Qj",
        "colab_type": "code",
        "colab": {
          "autoexec": {
            "startup": false,
            "wait_interval": 0
          }
        }
      },
      "cell_type": "code",
      "source": [
        "plot_conv_layer(layer=layer_conv1, image=image1)"
      ],
      "execution_count": 0,
      "outputs": []
    },
    {
      "metadata": {
        "id": "7Ku4HSnOR8i7",
        "colab_type": "code",
        "colab": {
          "autoexec": {
            "startup": false,
            "wait_interval": 0
          }
        }
      },
      "cell_type": "code",
      "source": [
        "plot_conv_layer(layer=layer_conv1, image=image2)"
      ],
      "execution_count": 0,
      "outputs": []
    },
    {
      "metadata": {
        "id": "FkFVLSKbR9xO",
        "colab_type": "code",
        "colab": {
          "autoexec": {
            "startup": false,
            "wait_interval": 0
          }
        }
      },
      "cell_type": "code",
      "source": [
        "plot_conv_weights(weights=weights_conv2, input_channel=0)"
      ],
      "execution_count": 0,
      "outputs": []
    },
    {
      "metadata": {
        "id": "t0ktsL6zR-9W",
        "colab_type": "code",
        "colab": {
          "autoexec": {
            "startup": false,
            "wait_interval": 0
          }
        }
      },
      "cell_type": "code",
      "source": [
        "plot_conv_weights(weights=weights_conv2, input_channel=1)"
      ],
      "execution_count": 0,
      "outputs": []
    },
    {
      "metadata": {
        "id": "vFHFFEgSSAID",
        "colab_type": "code",
        "colab": {
          "autoexec": {
            "startup": false,
            "wait_interval": 0
          }
        }
      },
      "cell_type": "code",
      "source": [
        "plot_conv_layer(layer=layer_conv2, image=image1)"
      ],
      "execution_count": 0,
      "outputs": []
    },
    {
      "metadata": {
        "id": "WJSOImbFSBiV",
        "colab_type": "code",
        "colab": {
          "autoexec": {
            "startup": false,
            "wait_interval": 0
          }
        }
      },
      "cell_type": "code",
      "source": [
        "plot_conv_layer(layer=layer_conv2, image=image2)"
      ],
      "execution_count": 0,
      "outputs": []
    }
  ]
}