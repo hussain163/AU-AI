{
  "nbformat": 4,
  "nbformat_minor": 0,
  "metadata": {
    "colab": {
      "name": "Day1A.ipynb",
      "version": "0.3.2",
      "provenance": [],
      "include_colab_link": true
    },
    "kernelspec": {
      "name": "python3",
      "display_name": "Python 3"
    }
  },
  "cells": [
    {
      "cell_type": "markdown",
      "metadata": {
        "id": "view-in-github",
        "colab_type": "text"
      },
      "source": [
        "[View in Colaboratory](https://colab.research.google.com/github/hussain163/AU-AI/blob/master/day1-July3/Day1A.ipynb)"
      ]
    },
    {
      "metadata": {
        "id": "rCaE2L_gSFf3",
        "colab_type": "text"
      },
      "cell_type": "markdown",
      "source": [
        "#AU AI Summer Program 2018\n",
        "##Day 1\n",
        "![Asia University](http://www.asia.edu.tw/upload/news/2015/201506/11/1434015857.jpg)\n"
      ]
    }
  ]
}